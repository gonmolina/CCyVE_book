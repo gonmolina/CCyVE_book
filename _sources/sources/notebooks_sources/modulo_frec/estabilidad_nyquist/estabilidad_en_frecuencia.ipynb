{
 "cells": [
  {
   "cell_type": "markdown",
   "id": "04d281f3",
   "metadata": {},
   "source": [
    "# Estabilidad en Frecuencia\n",
    "\n",
    "## Introducción\n",
    "\n",
    "Considerando el sistema a lazo cerrado\n",
    "\n",
    ":::{figure-md}\n",
    "<img style=\"display:block; margin-left: auto; margin-right: auto;\" src=\"est_fig1.png\" width=\"700\" alt=\"est_fig1.png\">\n",
    "\n",
    "Diagrama de Nyquist de $L(j\\omega)$\n",
    ":::\n",
    "\n",
    "con función de transferencia:\n",
    "\n",
    "$$\n",
    "T(s)=\\frac{Y(s)}{R(s)}= \\frac{kG(s)}{1+kG(s)H(s)}= \\frac{kG(s)}{1+L(s)}\n",
    "$$\n",
    "\n",
    "donde $L(s)$ es la función de transferencia de lazo, o lo que es lo mismo \n",
    "\n",
    "$$\n",
    "\\begin{matrix}\n",
    "T(j\\omega)=\\frac{kG(j\\omega)}{1+kG(j\\omega)H(j\\omega)}= \\frac{kG(j\\omega)}{\\underbrace{1+L(j\\omega)}_{\\text{polos a LC}}} & \\Longrightarrow & 1+L(j\\omega)=0\n",
    "\\end{matrix}.\n",
    "$$\n",
    "\n",
    "De lo anterior, con $k>0$, se deduce la condición de estabilidad cuando:\n",
    "\n",
    "$$\n",
    "\\begin{matrix}\n",
    "|kG(j\\omega)H(j\\omega)|<1 & \\text{ a } & \\angle{G(j\\omega)H(j\\omega)}=-180º\n",
    "\\end{matrix}.\n",
    "$$\n",
    "\n",
    "Esto es para sistemas que cruzan solo una vez la magnitud $||=1$ (son los casos comúnes)"
   ]
  },
  {
   "cell_type": "markdown",
   "id": "7343f957",
   "metadata": {},
   "source": [
    "Hay sistemas que al incrementar la ganancia pueden pasar de inestables a estables, en tal caso la condición de estabilidad es:\n",
    "\n",
    "$$\n",
    "\\begin{matrix}\n",
    "|kG(j\\omega)H(j\\omega)|>1 & \\text{ y } & \\angle{G(j\\omega)H(j\\omega)}=-180º\n",
    "\\end{matrix}\n",
    "$$\n",
    "\n",
    "Esto es, cuando cortan más de una vez el eje $||_dB=0$. Para despejar dudas es recomendable hacer un diagrama del lugar de las raíces y verificar la estabilidad, o es posible despejar las dudas al hacer un tratamiento más riguroso usando el `criterio de estabilidad de Nyquist`."
   ]
  },
  {
   "cell_type": "markdown",
   "id": "95c24015",
   "metadata": {},
   "source": [
    "## Criterio de estabilidad de Nyquist\n",
    "\n",
    "A partir de una `representación polar` de la función de transferencia armónica del sistema:\n",
    "\n",
    "$$\n",
    "L(j\\omega) \\equiv L(s)|_{s=j\\omega}= |L(j\\omega)|e^{j\\phi(\\omega)}\n",
    "$$\n",
    "\n",
    "con $\\phi(\\omega)=\\angle{L(j\\omega)}$, donde:\n",
    "\n",
    ":::{figure-md}\n",
    "<img style=\"display:block; margin-left: auto; margin-right: auto;\" src=\"est_fig2.png\" width=\"700\" alt=\"est_fig2.png\">\n",
    "    \n",
    "Diagrama de Nyquist de $L(j\\omega)$\n",
    "\n",
    ":::\n",
    "\n",
    "\n",
    "El criterio de estabilidad permite determinar la estabilidad del sistema en lazo cerrado a partir del diagrama de Nyquist a lazo abierto de $L(j\\omega)$\n",
    "\n",
    "El criterio de estabilidad de Nyquist se basa en el principio del argumento del análisis complejo."
   ]
  },
  {
   "cell_type": "markdown",
   "id": "389cf9bb",
   "metadata": {},
   "source": [
    "### Principio de argumento\n",
    "\n",
    "El mapeo de un contorno cerrado de una función compleja solo puede encerrar el origen, si el contorno contiene una singularidad (lo que nosotros llamamos, polo o cero) de la función.\n",
    "\n",
    ":::{figure-md}\n",
    "\n",
    "<img style=\"display:block; margin-left: auto; margin-right: auto;\" src=\"est_fig3.png\" width=\"700\" alt=\"est_fig3.png\">\n",
    "\n",
    "Diagrama de Nyquist de $L(j\\omega)$\n",
    "\n",
    ":::"
   ]
  },
  {
   "cell_type": "markdown",
   "id": "5b7b3d0e",
   "metadata": {},
   "source": [
    "### Mapeo de contornos\n",
    "\n",
    "El mapeo del contorno de una función de transferencia $L(s)$ es el camino cerrado descripto por $L(s)$ en el plano complejo, cuando la variable $s$ recorre un contorno ( o camino) cerrado en el plano complejo \"$s$\"\n",
    "\n",
    "Supongamos el ejemplo genérico:\n",
    "\n",
    "$$\n",
    "L_1(s)= k \\frac{(s-z_1)(s-z_2)}{(s-p_1)(s-p_2)}\n",
    "$$\n",
    "\n",
    ":::{figure-md}\n",
    "\n",
    "<img style=\"display:block; margin-left: auto; margin-right: auto;\" src=\"est_fig4.png\" width=\"700\" alt=\"est_fig4.png\">\n",
    "Nyquist de $L_1(j\\omega)$\n",
    "\n",
    ":::\n",
    "\n",
    "donde\n",
    "\n",
    "$$\n",
    "\\alpha \\equiv \\angle{L_1(s_0)}= \\theta_1+\\theta_2+\\phi_1+\\phi_2\n",
    "$$\n",
    "\n",
    "cuando \"$s$\" recorre la curva $\\mathscr{C}_1$ en sentido horario, el ángulo $\\alpha$ de $L_1(s)$ cambia, pero no hay un cambio neto de $360º$ siempre que no haya un polo o cero de $L_1(s)$ en el interior de $\\mathscr{C}_1$. En este caso, el mapeo del contorno de $L_1(s)$ no incluye el origen.\n",
    "\n",
    "consideremos ahora $L_2(s)$ como se muestra:\n",
    "\n",
    ":::{figure-md}\n",
    "<img style=\"display:block; margin-left: auto; margin-right: auto;\" src=\"est_fig5.png\" width=\"700\" alt=\"est_fig5.png\">\n",
    "Mapeo de la curva $\\mathscr{C}_1$ para $L_2(s)$\n",
    ":::"
   ]
  },
  {
   "cell_type": "markdown",
   "id": "9b827072",
   "metadata": {},
   "source": [
    "En este caso como hay una singularidad de $L_2(s)$ dentro del contorno $\\mathscr{C}_1$. Cuando \"$s$\" recorre $\\mathscr{C}_1$ hay un cambio neto de $360^\\text o$ en la fase $phi_2$ correspondiente a la singularidad dentro del contorno $\\mathscr{C}_1$ lo que hace que $\\alpha$ cambie $360º$ esto significa que el mapeo encierra el origen.\n",
    "\n",
    "Vamos a analizar la ecuación característica, por ser la que define la ubicación de los polos del sistema:\n",
    "\n",
    "$$\n",
    "f(s) =1+ kG(s)H(s)=0\n",
    "$$\n",
    "\n",
    "por lo que para aplicar el principio del argumento usaremos el contorno que encierra todo el semiplano derecho, es decir, la región de inestabilidad $\\mathbb{C}^+$\n",
    "\n",
    ":::{figure-md}\n",
    "\n",
    "<img style=\"display:block; margin-left: auto; margin-right: auto;\" src=\"est_fig6.png\" width=\"700\" alt=\"est_fig6.png\">\n",
    "\n",
    "Contorno que encierra $\\mathbb{C}^+$\n",
    ":::\n",
    "\n",
    "Entonces si el mapeo de $L(s)$ encierra el origen si el contorno $\\mathscr{C}$ encierra un número de polos y ceros tal que:\n",
    "\n",
    "$$\n",
    "N-P \\not= 0\n",
    "$$\n",
    "\n",
    "donde \n",
    "$$\n",
    "\\begin{matrix}\n",
    "N = \\text{ número de ceros de }L(s)\\text{ en el interior de }\\mathscr{C}\\\\\n",
    "P = \\text{ número de polos de }L(s)\\text{ en el interior de }\\mathscr{C}\n",
    "\\end{matrix}\n",
    "$$\n",
    "\n",
    "y cuando \n",
    "\n",
    "$$\n",
    "\\begin{matrix}\n",
    "N > P & \\Longrightarrow & \\text{mapeo horario}\\\\\n",
    "P < P & \\Longrightarrow & \\text{mapeo antihorario}\n",
    "\\end{matrix}\n",
    "$$\n",
    "\n",
    "Como queremos analizar $1+L(s)=0$ entonces es lo mismo que analizar $L(s)=kG(s)H(s)$ y como punto crítico usar el $-1$."
   ]
  },
  {
   "cell_type": "markdown",
   "id": "6981c90f",
   "metadata": {},
   "source": [
    "## Criterio de estabilidad\n",
    "Sea\n",
    "\n",
    "$N$ = número de vueltas alrededor de $-1$ del diagrama de Nyquist de $kG(s)H(s)$\n",
    "\n",
    "$P$ = número de polos a lazo abierto en el semiplano derecho (RHP)\n",
    "\n",
    "$Z$ = número de polos a lazo cerrado en el RHP\n",
    "\n",
    "entonces\n",
    "$$\n",
    "Z=N + P\n",
    "$$\n",
    "\n",
    "para que el sistema sea estable debe ser $Z=0$"
   ]
  },
  {
   "cell_type": "markdown",
   "id": "2125ec46",
   "metadata": {},
   "source": [
    "## Diagrama de Nyquist\n",
    "\n",
    "Receta para dibujar un diagrama de Nyquist asintótico (No hace falta mas que esto para determinar la estabilidad):\n",
    "\n",
    "1. Con la ayuda de un diagrama de Bode determinar la forma para $0 \\leq \\omega \\leq \\infty$\n",
    "2. Evaluar el cierre del diagrama por infinito\n",
    "3. Contar las vueltas a -1 \n",
    "\n",
    "$$\n",
    "N = \\left\\{ \n",
    "\\begin{array}{l} \n",
    "> 0 & \\Longrightarrow &\\text{Horario}\\\\\n",
    "< 0 &\\Longrightarrow &\\text{Antihorario}\n",
    "\\end{array}\\right.\n",
    "$$\n",
    "\n",
    "4. Determinar los polos de $L(s)$ en el RHP, esto es P\n",
    "5. Calcular la estabilidad $\\Longrightarrow ~ Z=N+P$"
   ]
  },
  {
   "cell_type": "markdown",
   "id": "ea3e2ee4",
   "metadata": {},
   "source": [
    "### Ejemplo: Diagrama de Nyquist para determinar la estabilidad\n",
    "\n",
    "Supongamos un sistema con la siguiente función de transferencia de la que evaluaremos la estabilidad usando el criterio de Nyquist\n",
    "\n",
    "$$\n",
    "G(s)=\\frac{1}{(s+1)^2}\n",
    "$$"
   ]
  },
  {
   "cell_type": "markdown",
   "id": "c097fa0d",
   "metadata": {},
   "source": [
    "1. Dibujamos un diagrama de Bode de la función de lazo $L(s)= kG(s)$, en este caso es suficiente con un Bode asintótico."
   ]
  },
  {
   "cell_type": "code",
   "execution_count": 1,
   "id": "38c3c1bc",
   "metadata": {
    "tags": [
     "remove-input",
     "raises-exception"
    ]
   },
   "outputs": [
    {
     "name": "stderr",
     "output_type": "stream",
     "text": [
      "findfont: Font family ['xkcd', 'xkcd Script', 'Humor Sans', 'Comic Neue', 'Comic Sans MS'] not found. Falling back to DejaVu Sans.\n"
     ]
    },
    {
     "name": "stderr",
     "output_type": "stream",
     "text": [
      "findfont: Font family ['xkcd', 'xkcd Script', 'Humor Sans', 'Comic Neue', 'Comic Sans MS'] not found. Falling back to DejaVu Sans.\n"
     ]
    },
    {
     "data": {
      "image/png": "[encoded data removed]",
      "text/plain": [
       "<Figure size 864x576 with 2 Axes>"
      ]
     },
     "metadata": {
      "filenames": {
       "image/png": "/home/runner/work/CCyVE_book/CCyVE_book/_build/jupyter_execute/sources/notebooks_sources/modulo_frec/estabilidad_nyquist/estabilidad_en_frecuencia_10_2.png"
      },
      "needs_background": "light"
     },
     "output_type": "display_data"
    }
   ],
   "source": [
    "import control as ctrl\n",
    "import numpy as np\n",
    "import matplotlib.pyplot as plt\n",
    "\n",
    "%matplotlib inline\n",
    "G=ctrl.tf(1,[1,2,1])\n",
    "asin1_x=[0.01, 1, 10, 100]\n",
    "asin1_y=[0, 0, -40, -80]\n",
    "angx=[0.01, 1, 1, 100]\n",
    "angy=[0, 0, -180, -180]\n",
    "\n",
    "\n",
    "fig, ax=plt.subplots(2,1, figsize=(12,8))\n",
    "\n",
    "mag, ph, w = ctrl.bode(G, omega_limits=(0.01, 100), omega_num=2001,\n",
    "                       dB=True, plot=False)\n",
    "\n",
    "with plt.xkcd():\n",
    "    ax[0].spines['right'].set_color('none')\n",
    "    ax[0].spines['top'].set_color('none')\n",
    "    ax[0].xaxis.set_ticks_position('bottom')\n",
    "    ax[0].spines['bottom'].set_position(('data', 0))\n",
    "    ax[0].yaxis.set_ticks_position('left')\n",
    "    ax[0].spines['left'].set_position(('data', 0.012))\n",
    "    ax[0].semilogx(w, 20*np.log10(mag), 'k-', alpha=0.45)\n",
    "ax[0].semilogx(asin1_x, asin1_y, '--', alpha=0.7, label='Asíntotas polo dolbe en -1')\n",
    "ax[0].set_xlim([0.012, 100])\n",
    "ax[0].plot([0.97, 1.03], [0, 0], lw=0, marker='x', markersize=11, markerfacecolor='white', markeredgewidth=2, markeredgecolor=\"red\") \n",
    "\n",
    "\n",
    "with plt.xkcd():\n",
    "    ax[1].spines['right'].set_color('none')\n",
    "    ax[1].spines['top'].set_color('none')\n",
    "    ax[1].xaxis.set_ticks_position('bottom')\n",
    "    ax[1].spines['bottom'].set_position(('data', 0))\n",
    "    ax[1].yaxis.set_ticks_position('left')\n",
    "    ax[1].spines['left'].set_position(('data', 0.012))\n",
    "    ax[1].semilogx(w, ph*180/np.pi, 'k-', alpha=0.45, label=\"fase a mano\")\n",
    "\n",
    "ax[1].set_xlim([0.01, 100])\n",
    "ax[1].set_yticks([-180, -135, -90, -45, 0])\n",
    "ax[1].semilogx(angx, angy, '--', alpha=0.7)\n",
    "ax[1].set_xlim([0.012, 100])\n",
    "ax[1].plot([0.97, 1.03], [0, 0], lw=0, marker='x', markersize=11, markerfacecolor='white', markeredgewidth=2, markeredgecolor=\"red\");"
   ]
  },
  {
   "cell_type": "markdown",
   "id": "ee096f4b",
   "metadata": {
    "tags": [
     "remove-input"
    ]
   },
   "source": [
    "2. Con la ayuda del Bode anterior dibujamos el Nyquist para las frecuencias $0 \\leq \\omega \\leq \\infty$ y el simétrico para frecuencias negativas"
   ]
  },
  {
   "cell_type": "code",
   "execution_count": 2,
   "id": "376e40ad",
   "metadata": {
    "tags": [
     "remove-input"
    ]
   },
   "outputs": [
    {
     "data": {
      "image/png": "[encoded data removed]",
      "text/plain": [
       "<Figure size 432x288 with 1 Axes>"
      ]
     },
     "metadata": {
      "filenames": {
       "image/png": "/home/runner/work/CCyVE_book/CCyVE_book/_build/jupyter_execute/sources/notebooks_sources/modulo_frec/estabilidad_nyquist/estabilidad_en_frecuencia_12_0.png"
      },
      "needs_background": "light"
     },
     "output_type": "display_data"
    }
   ],
   "source": [
    "_=ctrl.nyquist(G, omega=np.logspace(-2,12,2001))"
   ]
  },
  {
   "cell_type": "markdown",
   "id": "f13ed4b2",
   "metadata": {},
   "source": [
    "3. Para este problema no es necesario evaluar el cierre porque se une en infinito.\n",
    "4. Contamos las vueltas alrededor de -1 y los polos en $\\mathbb{C}^+$ a lazo abierto, es decir de $L(s)$\n",
    "\n",
    "$$\n",
    "\\begin{matrix}\n",
    "N = 0 \\text{ en este caso no hay vueltas sobre -1 para todo valor de k}\\\\\n",
    "P = 0 \\text{ en este caso no hay polos de } G(s) \\text{ en } \\mathbb{C}^+\n",
    "\\end{matrix}\n",
    "$$ \n",
    "\n",
    "5. Usamos el criterio de Nyquist para determinar la estabilidad del sistema es:\n",
    "\n",
    "$$\n",
    "Z= N+P= 0\n",
    "$$\n",
    "\n",
    "No hay polos en el RHP, por lo que el sistema es estable para cualquier valor de $k$"
   ]
  },
  {
   "cell_type": "markdown",
   "id": "91052a4e",
   "metadata": {},
   "source": [
    "6. Para verificar la estabilidad del sistema, dibujamos el lugar de las raíces asintótico para este sistema con realimentación unitaria y ganancia $k$, esto es:"
   ]
  },
  {
   "cell_type": "code",
   "execution_count": 3,
   "id": "0f900508",
   "metadata": {
    "tags": [
     "remove-input"
    ]
   },
   "outputs": [
    {
     "data": {
      "image/png": "[encoded data removed]",
      "text/plain": [
       "<Figure size 432x288 with 1 Axes>"
      ]
     },
     "metadata": {
      "filenames": {
       "image/png": "/home/runner/work/CCyVE_book/CCyVE_book/_build/jupyter_execute/sources/notebooks_sources/modulo_frec/estabilidad_nyquist/estabilidad_en_frecuencia_15_0.png"
      },
      "needs_background": "light"
     },
     "output_type": "display_data"
    }
   ],
   "source": [
    "_=ctrl.rlocus(G, grid=False)"
   ]
  },
  {
   "cell_type": "markdown",
   "id": "f4ab682b",
   "metadata": {},
   "source": [
    "### Otro ejemplo: Con cierre por $\\infty$\n",
    "En este caso analizaremos un sistema en el que hay que cerrar el diagrama de Nyquist por el infinito de la función\n",
    "\n",
    "$$\n",
    "G(s) = \\frac{1}{s(s+1)}\n",
    "$$\n",
    "\n",
    "::{figure-md}\n",
    "<img style=\"display:block; margin-left: auto; margin-right: auto;\" src=\"est_fig10.png\" width=\"700\" alt=\"est_fig10.png\">\n",
    "\n",
    "Bode asintótico de $G(s)$\n",
    ":::\n",
    "\n",
    "+++\n",
    "\n",
    "::{figure-md}\n",
    "<img style=\"display:block; margin-left: auto; margin-right: auto;\" src=\"est_fig11.png\" width=\"700\" alt=\"est_fig11.png\">\n",
    "\n",
    "Lugar de las raíces asintótico de $G(s)$\n",
    ":::"
   ]
  },
  {
   "cell_type": "markdown",
   "id": "73f8b2e4",
   "metadata": {},
   "source": [
    "Dibujamos la parte del Nyquist para frecuencias positivas $\\omega>0$ a partir del Bode, y el simétrico para frecuencias negativas.\n",
    "\n",
    "::{figure-md}\n",
    "<img style=\"display:block; margin-left: auto; margin-right: auto;\" src=\"est_fig12.png\" width=\"700\" alt=\"est_fig12.png\">\n",
    "Nyquist de $G(s)$ sin cerrar\n",
    ":::\n",
    "\n",
    "+++\n",
    "\n",
    "Analizamos el cierre por infinito, para lo que usaremos el contorno $\\mathscr{C}_3$ que se parametriza como:\n",
    "\n",
    "$$\n",
    "\\mathscr{C}_3: s=\\rho e^{j\\theta} \\text{ con } \\rho \\longrightarrow 0 \\text{ y } -\\frac{\\pi}{2}<\\theta<\\frac{\\pi}{2} \\text{ pasando por }\\theta = 0\n",
    "$$\n",
    "\n",
    "Sustituyendo en $G(s)$\n",
    "\n",
    "$$\n",
    "G(s)= \\lim_{\\rho \\rightarrow 0}\\frac{1}{\\rho e^{j\\theta}(\\rho e^{j\\theta}+1)}\\approx \\lim_{\\rho \\rightarrow 0}\\frac{1}{\\rho e^{j\\theta}} = \\lim_{\\rho \\rightarrow 0} \\frac{1}{\\rho} e^{-j\\theta}\n",
    "$$\n",
    "\n",
    "De lo anterior con $\\rho \\longrightarrow 0$ tenemos que el módulo del mapeo tiende a infinito $||\\longrightarrow \\infty$ y si no es evidente, el ángulo lo podemos evaluar para algunos valores relevantes de $\\theta$ y calcular el argumento del mapeo, de la siguiente forma\n",
    "\n",
    "| $\\theta$  | argumento del mapeo |\n",
    "|:---------:|:-------------------:|\n",
    "| -90       |  90                 |\n",
    "| -45       |  45                 |\n",
    "|   0       |   0                 |\n",
    "|  45       | -45                 |\n",
    "|  90       | -90                 |\n",
    "\n",
    "+++\n",
    "\n",
    "::{figure-md}\n",
    "<img style=\"display:block; margin-left: auto; margin-right: auto;\" src=\"est_fig13.png\" width=\"700\" alt=\"est_fig13.png\">\n",
    "\n",
    "Nyquist de $G(s)$ cerrado\n",
    ":::\n",
    "\n",
    "Final mente con el diagrama cerrado podemos, contamos la vueltas al -1 y los polos de $G(s)$ en el RHP y calculamos la estabilidad del sistema:\n",
    "\n",
    "$$\n",
    "\\begin{matrix}\n",
    "N=0 & \\text{ y } & P=0 & \\Longrightarrow & Z=0 ~~ \\forall k \\text{( siempre es estable)}\n",
    "\\end{matrix}\n",
    "$$\n",
    "\n",
    "Un detalle del gráfico, **\"que no es relevante para determinar la estabilidad\"**, que suele aparecer al dibujar el diagrama de Nyquist con alguna herramienta de simulación. Cuando la frecuencia es muy grande la curva de Nyquist no se hace asintótica al eje $j\\omega$ en realidad para este ejemplo, se hace asintótica al eje -1.\n",
    "\n",
    "$$\n",
    "\\lim_{\\omega \\rightarrow 0^+} G(\\omega)=\\lim_{\\omega \\rightarrow 0^+}\\bigg(\\frac{-1}{\\omega^2+1}-j\\frac{1}{\\omega(\\omega^2+1)} \\bigg)= -1\n",
    "$$\n",
    "\n",
    ":::{figure-md}\n",
    "<img style=\"display:block; margin-left: auto; margin-right: auto;\" src=\"est_fig14.png\" width=\"700\" alt=\"est_fig14.png\">\n",
    "\n",
    "Asíntota de Nyquist\n",
    ":::"
   ]
  },
  {
   "cell_type": "markdown",
   "id": "afa8c801",
   "metadata": {},
   "source": [
    "## Margen de Fase (MF) y Margen de Ganancia (MG)\n",
    "\n",
    "Usando diagramas de Nyquist se definen dos mediciones cuantitativas de \"cuan estable es el sistema que estamos analizando\". Estas son el margen de ganancia y el margen de fase.\n",
    "Sistemas con margenes de estabilidad de ganancia y fase grandes pueden soportar grandes variaciones en los parámetros antes de hacerse inestables. En el lugar de las raíces esto sería equivalente a cuan lejos se encuentran los polos del eje $j\\omega$.\n",
    "\n",
    "### Definición de Margen de Fase $\\Phi_M$\n",
    "Es el cambio en la ganancia a lazo abierto, expresado en decibeles ($dB$), requerida a fase $180º$ para hacer que el sistema se inestabilice a lazo cerrado.\n",
    "\n",
    "### Definición de Margen de Fase $G_M$\n",
    "Es el cambio de fase a lazo abierto cuando la ganancia del sistema es 1 en valor absoluto (o $0~dB$) que hace que el sistema a lazo cerrado sea inestable.\n",
    "Graficamente es:\n",
    "\n",
    "<figure>\n",
    "<img style=\"display:block; margin-left: auto; margin-right: auto;\" src=\"est_fig15.png\" width=\"700\" alt=\"est_fig15.png\">\n",
    "<figcaption style=\"text-align:center; \"><i>Margenes de estabilidad</i></figcaption>\n",
    "</figure>\n",
    "\n",
    "Si la ganancia del sistema es multiplicada por $a$ el Nyquist intercepta el punto crítico -1. Se dice que el margen de ganancia es $a$ o expresado en decibeles $G_M=20\\log(a)$.\n",
    "\n",
    "Luego cuando la ganancia es unitario (cuando el Nyquist corta el circulo unitario). El ángulo $\\alpha$ es el margen de fase. En tal caso, si tenemos un corrimiento para dicha ganancia de $\\alpha$ grados, el sistema se hace inestable.\n",
    "\n",
    "### Ejemplo: Cálculo de Margenes de estabilidad $\\Phi_M$ y $G_M$\n",
    "En este ejemplo vamos a calcular en forma analítica los margenes de ganancia y de fase del sistema\n",
    "\n",
    "$$\n",
    "L(s)=\\frac{6}{(s^2+2s+2)(s+2)}\n",
    "$$\n",
    "\n",
    "para encontrar el margen de ganancia hay que determinar donde corta el Nyquist el eje real, esto es\n",
    "\n",
    "$$\n",
    "L(j\\omega)=\\left.\\frac{6}{(s^2+2s+2)(s+2)}\\right|_{s\\rightarrow j\\omega}=\\frac{6[4(1-j\\omega)-j\\omega(6-\\omega^2)]}{16(1-\\omega^2)^2+\\omega^2(6-\\omega^2)^2}\n",
    "$$\n",
    "\n",
    "cuando $\\mathbb{I}m = 0 \\Longrightarrow \\omega=\\sqrt{6} rad/s$ entonces $\\mathbb{R}e=-0.3 \\Longrightarrow $ la ganancia puede ser incrementada (multiplicar) hasta 3.33 unidades antes de que el sistema se inestabilice\n",
    "\n",
    "$$\n",
    "G_M = 20\\log{3.33}= 10.45 dB\n",
    "$$\n",
    "\n",
    "El margen de fase ocurre cuando $|L(s)|=1$ para esto con la  ayuda del software de cálculo se puede hallar la frecuencia $\\omega=\\omega_c$ (corte por $0dB$), que para este caso es:\n",
    "\n",
    "$$\n",
    "|L(\\omega)|=1 \\Longrightarrow \\omega_c=1.253 rad/s\n",
    "$$\n",
    "\n",
    "$$\n",
    "\\omega_c \\longrightarrow \\phi= -112.3 \\Longrightarrow \\Phi_M=-112.3+180=67.7º\n",
    "$$"
   ]
  },
  {
   "cell_type": "markdown",
   "id": "59dc1d49",
   "metadata": {},
   "source": [
    "## Margenes de estabilidad en diagramas de Bode\n",
    "\n",
    "Graficamente en el diagrama de Bode los margenes de estabilidad, el margen de ganancia y el margen de fase se indican como muestra la figura siguiente:\n",
    " \n",
    ":::{figure-md}\n",
    "\n",
    "<img style=\"display:block; margin-left: auto; margin-right: auto;\" src=\"est_fig16.png\" width=\"700\" alt=\"est_fig16.png\">\n",
    "\n",
    "Margenes de estabilidad en el diagrama de Bode\n",
    ":::"
   ]
  },
  {
   "cell_type": "code",
   "execution_count": null,
   "id": "44196a30",
   "metadata": {},
   "outputs": [],
   "source": []
  }
 ],
 "metadata": {
  "jupytext": {
   "formats": "ipynb,md:myst",
   "text_representation": {
    "extension": ".md",
    "format_name": "myst",
    "format_version": 0.13,
    "jupytext_version": "1.10.3"
   }
  },
  "kernelspec": {
   "display_name": "Python 3",
   "language": "python",
   "name": "python3"
  },
  "language_info": {
   "codemirror_mode": {
    "name": "ipython",
    "version": 3
   },
   "file_extension": ".py",
   "mimetype": "text/x-python",
   "name": "python",
   "nbconvert_exporter": "python",
   "pygments_lexer": "ipython3",
   "version": "3.8.11"
  },
  "source_map": [
   13,
   51,
   63,
   87,
   101,
   135,
   179,
   197,
   218,
   228,
   232,
   281,
   285,
   289,
   309,
   313,
   317,
   340,
   401,
   453,
   466
  ]
 },
 "nbformat": 4,
 "nbformat_minor": 5
}