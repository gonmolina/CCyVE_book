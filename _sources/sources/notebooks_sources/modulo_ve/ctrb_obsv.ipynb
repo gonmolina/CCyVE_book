{
 "cells": [
  {
   "cell_type": "code",
   "execution_count": 1,
   "id": "df4ae8ed",
   "metadata": {
    "tags": [
     "remove-cell"
    ]
   },
   "outputs": [],
   "source": [
    "import control as ctrl\n",
    "import numpy as np"
   ]
  },
  {
   "cell_type": "markdown",
   "id": "3df88449",
   "metadata": {},
   "source": [
    "# Análisis de los sistemas en su forma de espacio de estados"
   ]
  },
  {
   "cell_type": "markdown",
   "id": "78585e19",
   "metadata": {},
   "source": [
    "Supongamos que tenemos la siguiente función transferencia:"
   ]
  },
  {
   "cell_type": "code",
   "execution_count": 2,
   "id": "cf4637fe",
   "metadata": {},
   "outputs": [
    {
     "data": {
      "text/latex": [
       "$$\\frac{s + 1}{s^2 + 2 s + 3}$$"
      ],
      "text/plain": [
       "TransferFunction(array([1, 1]), array([1, 2, 3]))"
      ]
     },
     "execution_count": 2,
     "metadata": {},
     "output_type": "execute_result"
    }
   ],
   "source": [
    "G=ctrl.tf([1,1],[1,2,3])\n",
    "G"
   ]
  },
  {
   "cell_type": "markdown",
   "id": "bf6b61b0",
   "metadata": {},
   "source": [
    "De los apuntes de teoría podemos escribir una representación de espacios de estados en la forma canónica de controlabilidad que tendrá el mismo comportamiento externo de $G$ de la siguiente manera :"
   ]
  },
  {
   "cell_type": "code",
   "execution_count": 3,
   "id": "38e0964d",
   "metadata": {},
   "outputs": [
    {
     "data": {
      "text/plain": [
       "matrix([[-2, -3],\n",
       "        [ 1,  0]])"
      ]
     },
     "execution_count": 3,
     "metadata": {},
     "output_type": "execute_result"
    }
   ],
   "source": [
    "Ac=np.matrix([[-2, -3],[1,0]])\n",
    "Ac"
   ]
  },
  {
   "cell_type": "markdown",
   "id": "db232bce",
   "metadata": {},
   "source": [
    "Antes de seguir, verificamos que los polos de $G$ sean los autovalores de $\\mathbf {Ac}$"
   ]
  },
  {
   "cell_type": "code",
   "execution_count": 4,
   "id": "2f37fb70",
   "metadata": {},
   "outputs": [
    {
     "name": "stdout",
     "output_type": "stream",
     "text": [
      "[-1.+1.41421356j -1.-1.41421356j]\n",
      "[-1.+1.41421356j -1.-1.41421356j]\n"
     ]
    }
   ],
   "source": [
    "print(G.pole())\n",
    "print(np.linalg.eigvals(Ac))"
   ]
  },
  {
   "cell_type": "markdown",
   "id": "4c5a5790",
   "metadata": {},
   "source": [
    "Ahora definimos el resto de las matrices"
   ]
  },
  {
   "cell_type": "code",
   "execution_count": 5,
   "id": "cc523478",
   "metadata": {},
   "outputs": [
    {
     "data": {
      "text/plain": [
       "matrix([[1],\n",
       "        [0]])"
      ]
     },
     "execution_count": 5,
     "metadata": {},
     "output_type": "execute_result"
    }
   ],
   "source": [
    "Bc=np.matrix(\"1;0\")\n",
    "Bc"
   ]
  },
  {
   "cell_type": "code",
   "execution_count": 6,
   "id": "36e428b6",
   "metadata": {},
   "outputs": [
    {
     "data": {
      "text/plain": [
       "matrix([[1, 1]])"
      ]
     },
     "execution_count": 6,
     "metadata": {},
     "output_type": "execute_result"
    }
   ],
   "source": [
    "Cc=np.matrix(\"1 1\")\n",
    "Cc"
   ]
  },
  {
   "cell_type": "code",
   "execution_count": 7,
   "id": "7c8999f7",
   "metadata": {},
   "outputs": [],
   "source": [
    "Dc=0"
   ]
  },
  {
   "cell_type": "markdown",
   "id": "775dfa60",
   "metadata": {},
   "source": [
    "Vamos ahora a definir un sistema $sys$ que se comporte igual que $G$"
   ]
  },
  {
   "cell_type": "code",
   "execution_count": 8,
   "id": "95abd56a",
   "metadata": {},
   "outputs": [],
   "source": [
    "sys_c=ctrl.ss(Ac,Bc,Cc,Dc)"
   ]
  },
  {
   "cell_type": "markdown",
   "id": "c503620b",
   "metadata": {},
   "source": [
    "Si $sys$ tiene los mismos polos, los mismos ceros y la misma ganancia en estado estacionario, entonces se comportará igual que $G$.\n",
    "\n",
    "Veamos los polos:"
   ]
  },
  {
   "cell_type": "code",
   "execution_count": 9,
   "id": "be7a883f",
   "metadata": {},
   "outputs": [
    {
     "data": {
      "text/plain": [
       "array([-1.+1.41421356j, -1.-1.41421356j])"
      ]
     },
     "execution_count": 9,
     "metadata": {},
     "output_type": "execute_result"
    }
   ],
   "source": [
    "sys_c.pole()"
   ]
  },
  {
   "cell_type": "markdown",
   "id": "7a7b8acc",
   "metadata": {},
   "source": [
    "Ahora los ceros:"
   ]
  },
  {
   "cell_type": "code",
   "execution_count": 10,
   "id": "36e0cc3a",
   "metadata": {},
   "outputs": [
    {
     "data": {
      "text/plain": [
       "array([-1.+0.j])"
      ]
     },
     "execution_count": 10,
     "metadata": {},
     "output_type": "execute_result"
    }
   ],
   "source": [
    "sys_c.zero()"
   ]
  },
  {
   "cell_type": "markdown",
   "id": "44248c53",
   "metadata": {
    "tags": []
   },
   "source": [
    "Y la ganancia en estado estacionario en particular (o en cualquier frecuencia en general):"
   ]
  },
  {
   "cell_type": "code",
   "execution_count": 11,
   "id": "382eba86",
   "metadata": {},
   "outputs": [
    {
     "data": {
      "text/plain": [
       "0.3333333333333333"
      ]
     },
     "execution_count": 11,
     "metadata": {},
     "output_type": "execute_result"
    }
   ],
   "source": [
    "sys_c.dcgain()"
   ]
  },
  {
   "cell_type": "code",
   "execution_count": 12,
   "id": "d389ddbe",
   "metadata": {},
   "outputs": [
    {
     "data": {
      "text/plain": [
       "0.3333333333333333"
      ]
     },
     "execution_count": 12,
     "metadata": {},
     "output_type": "execute_result"
    }
   ],
   "source": [
    "G.dcgain()"
   ]
  },
  {
   "cell_type": "markdown",
   "id": "7af327e9",
   "metadata": {},
   "source": [
    "Por lo tanto podemos ver que la función transferencia de $sys$ será la misma que la de $G$. Es decir, $sys$ se comporta **externamente** igual que $G$. Verificamos"
   ]
  },
  {
   "cell_type": "code",
   "execution_count": 13,
   "id": "aba34c12",
   "metadata": {},
   "outputs": [
    {
     "data": {
      "text/latex": [
       "$$\\frac{s + 1}{s^2 + 2 s + 3}$$"
      ],
      "text/plain": [
       "TransferFunction(array([1., 1.]), array([1., 2., 3.]))"
      ]
     },
     "execution_count": 13,
     "metadata": {},
     "output_type": "execute_result"
    }
   ],
   "source": [
    "ctrl.tf(sys_c)"
   ]
  },
  {
   "cell_type": "markdown",
   "id": "5dbb0be8",
   "metadata": {},
   "source": [
    "Vamos ahora a definir el sistema en espacio de estados, que se comporte como $G$ en la forma canónica de observabilidad. De la teoría sabemos que:"
   ]
  },
  {
   "cell_type": "code",
   "execution_count": 14,
   "id": "016dd2c9",
   "metadata": {},
   "outputs": [],
   "source": [
    "Ao=Ac.T\n",
    "Bo=Cc.T\n",
    "Co=Bc.T\n",
    "Do=Dc"
   ]
  },
  {
   "cell_type": "code",
   "execution_count": 15,
   "id": "e16d8d40",
   "metadata": {},
   "outputs": [],
   "source": [
    "sys_o=ctrl.ss(Ao,Bo,Co,Do)"
   ]
  },
  {
   "cell_type": "code",
   "execution_count": 16,
   "id": "07e7a672",
   "metadata": {},
   "outputs": [
    {
     "data": {
      "text/plain": [
       "array([-1.+1.41421356j, -1.-1.41421356j])"
      ]
     },
     "execution_count": 16,
     "metadata": {},
     "output_type": "execute_result"
    }
   ],
   "source": [
    "sys_o.pole()"
   ]
  },
  {
   "cell_type": "code",
   "execution_count": 17,
   "id": "486ca0bc",
   "metadata": {},
   "outputs": [
    {
     "data": {
      "text/plain": [
       "array([-1.+0.j])"
      ]
     },
     "execution_count": 17,
     "metadata": {},
     "output_type": "execute_result"
    }
   ],
   "source": [
    "sys_o.zero()"
   ]
  },
  {
   "cell_type": "code",
   "execution_count": 18,
   "id": "66070d0a",
   "metadata": {},
   "outputs": [
    {
     "data": {
      "text/plain": [
       "0.3333333333333333"
      ]
     },
     "execution_count": 18,
     "metadata": {},
     "output_type": "execute_result"
    }
   ],
   "source": [
    "sys_o.dcgain()"
   ]
  },
  {
   "cell_type": "code",
   "execution_count": 19,
   "id": "f54177bd",
   "metadata": {},
   "outputs": [
    {
     "data": {
      "text/latex": [
       "$$\\frac{s + 1}{s^2 + 2 s + 3}$$"
      ],
      "text/plain": [
       "TransferFunction(array([1., 1.]), array([1., 2., 3.]))"
      ]
     },
     "execution_count": 19,
     "metadata": {},
     "output_type": "execute_result"
    }
   ],
   "source": [
    "ctrl.tf(sys_o)"
   ]
  },
  {
   "cell_type": "code",
   "execution_count": 20,
   "id": "985b5054",
   "metadata": {},
   "outputs": [
    {
     "data": {
      "text/latex": [
       "$$\\frac{s + 1}{s^2 + 2 s + 3}$$"
      ],
      "text/plain": [
       "TransferFunction(array([1., 1.]), array([1., 2., 3.]))"
      ]
     },
     "execution_count": 20,
     "metadata": {},
     "output_type": "execute_result"
    }
   ],
   "source": [
    "ctrl.tf(sys_o)"
   ]
  },
  {
   "cell_type": "markdown",
   "id": "69113c4b",
   "metadata": {},
   "source": [
    "El módulo de control de Python puede transformar una función transferencia a una forma de estados (no necesariamente en alguna forma canónica). Esto se hace:"
   ]
  },
  {
   "cell_type": "code",
   "execution_count": 21,
   "id": "68ff61ee",
   "metadata": {},
   "outputs": [
    {
     "data": {
      "text/latex": [
       "\\[\n",
       "\\left(\n",
       "\\begin{array}{rllrll|rll}\n",
       "-2\\phantom{.}&\\hspace{-1em}&\\hspace{-1em}\\phantom{\\cdot}&3\\phantom{.}&\\hspace{-1em}&\\hspace{-1em}\\phantom{\\cdot}&1\\phantom{.}&\\hspace{-1em}&\\hspace{-1em}\\phantom{\\cdot}\\\\\n",
       "-1\\phantom{.}&\\hspace{-1em}&\\hspace{-1em}\\phantom{\\cdot}&3.&\\hspace{-1em}33&\\hspace{-1em}\\cdot10^{-16}&0\\phantom{.}&\\hspace{-1em}&\\hspace{-1em}\\phantom{\\cdot}\\\\\n",
       "\\hline\n",
       "1\\phantom{.}&\\hspace{-1em}&\\hspace{-1em}\\phantom{\\cdot}&-1\\phantom{.}&\\hspace{-1em}&\\hspace{-1em}\\phantom{\\cdot}&0\\phantom{.}&\\hspace{-1em}&\\hspace{-1em}\\phantom{\\cdot}\\\\\n",
       "\\end{array}\\right)\n",
       "\\]"
      ],
      "text/plain": [
       "StateSpace(array([[-2.00000000e+00,  3.00000000e+00],\n",
       "       [-1.00000000e+00,  3.33066907e-16]]), array([[1.],\n",
       "       [0.]]), array([[ 1., -1.]]), array([[0.]]))"
      ]
     },
     "execution_count": 21,
     "metadata": {},
     "output_type": "execute_result"
    }
   ],
   "source": [
    "sys=ctrl.ss(G)\n",
    "sys"
   ]
  },
  {
   "cell_type": "markdown",
   "id": "ea94e4b0",
   "metadata": {},
   "source": [
    "Además Python puede transformar un sistema en espacio de estados a alguna de las formas canónicas.\n",
    "\n",
    "Por ejemplo para escribir $sys$ (que está ahora en espacio de estados) en su forma canónica de controlabilidad podemos hacer"
   ]
  },
  {
   "cell_type": "code",
   "execution_count": 22,
   "id": "1713fa13",
   "metadata": {},
   "outputs": [
    {
     "data": {
      "text/plain": [
       "(StateSpace(array([[-2., -3.],\n",
       "        [ 1.,  0.]]), array([[1.],\n",
       "        [0.]]), array([[1., 1.]]), array([[0.]])),\n",
       " array([[ 1.00000000e+00, -2.22044605e-16],\n",
       "        [-0.00000000e+00, -1.00000000e+00]]))"
      ]
     },
     "execution_count": 22,
     "metadata": {},
     "output_type": "execute_result"
    }
   ],
   "source": [
    "sys_c, Tc=ctrl.canonical_form(sys, 'reachable') # controlable\n",
    "sys_c, Tc"
   ]
  },
  {
   "cell_type": "markdown",
   "id": "6efbad2c",
   "metadata": {},
   "source": [
    "Notar que esta función necesita como primer argumento un sistema de espacios de estados.\n",
    "\n",
    "Si queremos la forma canónica de observabilidad podemos hacer:"
   ]
  },
  {
   "cell_type": "code",
   "execution_count": 23,
   "id": "8482c97e",
   "metadata": {},
   "outputs": [
    {
     "data": {
      "text/plain": [
       "(StateSpace(array([[-2.,  1.],\n",
       "        [-3.,  0.]]), array([[1.],\n",
       "        [1.]]), array([[1., 0.]]), array([[0.]])),\n",
       " array([[ 1., -1.],\n",
       "        [ 1.,  1.]]))"
      ]
     },
     "execution_count": 23,
     "metadata": {},
     "output_type": "execute_result"
    }
   ],
   "source": [
    "sys_o,To = ctrl.canonical_form(sys, 'observable')\n",
    "sys_o, To"
   ]
  },
  {
   "cell_type": "markdown",
   "id": "dd115824",
   "metadata": {},
   "source": [
    "Existe otra forma canónica de representación en espacio de estados que se la conoce como forma canónica modal. Esta la podemos obtener haciendo:"
   ]
  },
  {
   "cell_type": "code",
   "execution_count": 24,
   "id": "e05160ce",
   "metadata": {},
   "outputs": [
    {
     "data": {
      "text/plain": [
       "(StateSpace(array([[-1.        ,  3.41421356],\n",
       "        [-0.58578644, -1.        ]]), array([[ 0.92387953],\n",
       "        [-0.38268343]]), array([[ 0.5411961 , -1.30656296]]), array([[0.]])),\n",
       " array([[ 0.92387953, -0.38268343],\n",
       "        [ 0.38268343,  0.92387953]]))"
      ]
     },
     "execution_count": 24,
     "metadata": {},
     "output_type": "execute_result"
    }
   ],
   "source": [
    "sys_m, Tm = ctrl.canonical_form(sys, 'modal')\n",
    "sys_m, Tm"
   ]
  },
  {
   "cell_type": "markdown",
   "id": "f45eee37",
   "metadata": {},
   "source": [
    "Esta forma canónica lo que hace es aislar los modos unos de otros. Es decir cada variables de estado aparece en la diagonal. Sin embargo, como vemos en este caso, no tenemos una forma diagonal de la matriz $\\mathbf A$. Esto sucede por que hay casos que no se puede o no se desea aislarlos:\n",
    "- en caso de que se tengan autovalores complejos conjugados, no se aíslan para lograr tener una matriz $\\mathbf A$, $\\mathbf B$ y $\\mathbf C$ a coeficiente reales.\n",
    "- en caso de que sean multiples no se pueden aislar por que tienen el mismo autovector y no se pueden usar estos para la transformación. Para estos casos se utiliza la forma de Jordan."
   ]
  },
  {
   "cell_type": "markdown",
   "id": "4b380136",
   "metadata": {},
   "source": [
    "Vamos a ver otro ejemplo:"
   ]
  },
  {
   "cell_type": "code",
   "execution_count": 25,
   "id": "71585fab",
   "metadata": {},
   "outputs": [
    {
     "data": {
      "text/latex": [
       "$$\\frac{1}{s^3 + 6 s^2 + 11 s + 6}$$"
      ],
      "text/plain": [
       "TransferFunction(array([1]), array([ 1,  6, 11,  6]))"
      ]
     },
     "execution_count": 25,
     "metadata": {},
     "output_type": "execute_result"
    }
   ],
   "source": [
    "s=ctrl.tf('s')\n",
    "G2 = 1/((s+1)*(s+2)*(s+3))\n",
    "G2"
   ]
  },
  {
   "cell_type": "markdown",
   "id": "f5a983d8",
   "metadata": {},
   "source": [
    "Vemos que esta función transferencia tiene los polos en -1, -2 y -3. Transformemos a espacio de estados usando la función `ss`."
   ]
  },
  {
   "cell_type": "code",
   "execution_count": 26,
   "id": "4dd7a679",
   "metadata": {},
   "outputs": [
    {
     "data": {
      "text/latex": [
       "\\[\n",
       "\\left(\n",
       "\\begin{array}{rllrllrll|rll}\n",
       "-6\\phantom{.}&\\hspace{-1em}&\\hspace{-1em}\\phantom{\\cdot}&1.&\\hspace{-1em}1&\\hspace{-1em}\\phantom{\\cdot}&-0.&\\hspace{-1em}6&\\hspace{-1em}\\phantom{\\cdot}&-1\\phantom{.}&\\hspace{-1em}&\\hspace{-1em}\\phantom{\\cdot}\\\\\n",
       "-10\\phantom{.}&\\hspace{-1em}&\\hspace{-1em}\\phantom{\\cdot}&0\\phantom{.}&\\hspace{-1em}&\\hspace{-1em}\\phantom{\\cdot}&0\\phantom{.}&\\hspace{-1em}&\\hspace{-1em}\\phantom{\\cdot}&0\\phantom{.}&\\hspace{-1em}&\\hspace{-1em}\\phantom{\\cdot}\\\\\n",
       "0\\phantom{.}&\\hspace{-1em}&\\hspace{-1em}\\phantom{\\cdot}&-1\\phantom{.}&\\hspace{-1em}&\\hspace{-1em}\\phantom{\\cdot}&0\\phantom{.}&\\hspace{-1em}&\\hspace{-1em}\\phantom{\\cdot}&0\\phantom{.}&\\hspace{-1em}&\\hspace{-1em}\\phantom{\\cdot}\\\\\n",
       "\\hline\n",
       "0\\phantom{.}&\\hspace{-1em}&\\hspace{-1em}\\phantom{\\cdot}&0\\phantom{.}&\\hspace{-1em}&\\hspace{-1em}\\phantom{\\cdot}&-0.&\\hspace{-1em}1&\\hspace{-1em}\\phantom{\\cdot}&0\\phantom{.}&\\hspace{-1em}&\\hspace{-1em}\\phantom{\\cdot}\\\\\n",
       "\\end{array}\\right)\n",
       "\\]"
      ],
      "text/plain": [
       "StateSpace(array([[ -6. ,   1.1,  -0.6],\n",
       "       [-10. ,   0. ,   0. ],\n",
       "       [  0. ,  -1. ,   0. ]]), array([[-1.],\n",
       "       [ 0.],\n",
       "       [ 0.]]), array([[ 0. ,  0. , -0.1]]), array([[0.]]))"
      ]
     },
     "execution_count": 26,
     "metadata": {},
     "output_type": "execute_result"
    }
   ],
   "source": [
    "sys2 = ctrl.ss(G2)\n",
    "sys2"
   ]
  },
  {
   "cell_type": "markdown",
   "id": "372b6407",
   "metadata": {},
   "source": [
    "Veamos al sistema en su forma canónica de controlabilidad."
   ]
  },
  {
   "cell_type": "code",
   "execution_count": 27,
   "id": "78cd150c",
   "metadata": {},
   "outputs": [
    {
     "data": {
      "text/plain": [
       "(StateSpace(array([[ -6., -11.,  -6.],\n",
       "        [  1.,   0.,   0.],\n",
       "        [  0.,   1.,   0.]]), array([[1.],\n",
       "        [0.],\n",
       "        [0.]]), array([[-6.25762068e-18, -6.30808537e-17,  1.00000000e+00]]), array([[0.]])),\n",
       " array([[-1.00000000e+00,  6.86319688e-17,  2.44249065e-16],\n",
       "        [ 3.55271368e-17,  1.00000000e-01,  9.43689571e-18],\n",
       "        [-6.25762068e-18,  6.30808537e-18, -1.00000000e-01]]))"
      ]
     },
     "execution_count": 27,
     "metadata": {},
     "output_type": "execute_result"
    }
   ],
   "source": [
    "ctrl.canonical_form(sys2, 'reachable')"
   ]
  },
  {
   "cell_type": "markdown",
   "id": "adcafcdf",
   "metadata": {},
   "source": [
    "Ahora lo podemos ver en la forma canónica de observabilidad"
   ]
  },
  {
   "cell_type": "code",
   "execution_count": 28,
   "id": "979092b4",
   "metadata": {},
   "outputs": [
    {
     "data": {
      "text/plain": [
       "(StateSpace(array([[ -6.,   1.,   0.],\n",
       "        [-11.,   0.,   1.],\n",
       "        [ -6.,   0.,   0.]]), array([[0.],\n",
       "        [0.],\n",
       "        [1.]]), array([[1., 0., 0.]]), array([[0.]])),\n",
       " array([[ 0.0000000e+00, -4.4408921e-18, -1.0000000e-01],\n",
       "        [-0.0000000e+00,  1.0000000e-01, -6.0000000e-01],\n",
       "        [-1.0000000e+00,  6.0000000e-01, -1.1000000e+00]]))"
      ]
     },
     "execution_count": 28,
     "metadata": {},
     "output_type": "execute_result"
    }
   ],
   "source": [
    "ctrl.canonical_form(sys2, 'observable')"
   ]
  },
  {
   "cell_type": "markdown",
   "id": "097adbd1",
   "metadata": {},
   "source": [
    "Finalmente obtengamos la forma canónica modal:"
   ]
  },
  {
   "cell_type": "code",
   "execution_count": 29,
   "id": "9b8d6d99",
   "metadata": {},
   "outputs": [
    {
     "data": {
      "text/plain": [
       "array([[-3.00000000e+00, -1.35377372e-14,  2.02533447e-15],\n",
       "       [ 2.83137424e-14, -2.00000000e+00, -5.23993893e-15],\n",
       "       [ 8.83000508e-15,  5.63654650e-15, -1.00000000e+00]])"
      ]
     },
     "execution_count": 29,
     "metadata": {},
     "output_type": "execute_result"
    }
   ],
   "source": [
    "sys2_m, Tm =ctrl.canonical_form(sys2, 'modal')\n",
    "sys2_m.A\n"
   ]
  },
  {
   "cell_type": "markdown",
   "id": "f476f6db",
   "metadata": {},
   "source": [
    "```{note}\n",
    "- La función `canonical_form` devuelve un sistema en la forma canónica solicitada y la matriz de transformación necesaria para obtenerlo\n",
    "- en la diagonal de la matriz  $\\mathbf A$ de la forma canónica modal tenemos los modos del sistema (polos de $G$ o autovalores de $A$)\n",
    "- fuera de la diagonal $\\mathbf A$ tenemos ceros o valores muy cercanos a ceros (debido a problemas numéricos en el cálculo).\n",
    "- En caso de tener autovalores repetidos, tendremos una matriz $\\mathbf{A}$ diagonal por bloques. Los valores fuera de la diagonal serán 1.\n",
    "- En general, los autovalores complejos conjugados tampoco se ponen en la diagonal, para evitar tener tener matrices con valores complejos.\n",
    "```"
   ]
  },
  {
   "cell_type": "markdown",
   "id": "812a8d3b",
   "metadata": {},
   "source": [
    "Verificamos el resto de las matrices:"
   ]
  },
  {
   "cell_type": "code",
   "execution_count": 30,
   "id": "f58519af",
   "metadata": {},
   "outputs": [
    {
     "data": {
      "text/plain": [
       "array([[ 16.43928222],\n",
       "       [-22.71563338],\n",
       "       [ -7.08872344]])"
      ]
     },
     "execution_count": 30,
     "metadata": {},
     "output_type": "execute_result"
    }
   ],
   "source": [
    "sys2_m.B"
   ]
  },
  {
   "cell_type": "code",
   "execution_count": 31,
   "id": "163a7872",
   "metadata": {},
   "outputs": [
    {
     "data": {
      "text/plain": [
       "array([[ 0.03041495,  0.04402255, -0.07053456]])"
      ]
     },
     "execution_count": 31,
     "metadata": {},
     "output_type": "execute_result"
    }
   ],
   "source": [
    "sys2_m.C"
   ]
  },
  {
   "cell_type": "code",
   "execution_count": 32,
   "id": "9a066633",
   "metadata": {},
   "outputs": [
    {
     "data": {
      "text/plain": [
       "array([[0.]])"
      ]
     },
     "execution_count": 32,
     "metadata": {},
     "output_type": "execute_result"
    }
   ],
   "source": [
    "sys2_m.D"
   ]
  },
  {
   "cell_type": "markdown",
   "id": "a84b5758",
   "metadata": {},
   "source": [
    "En esta forma canónica, la matriz $B$ como la conexión de la entrada con el modo del sistema . Y de forma análoga a la matriz $C$ como la conexión del modo con la salida del sistema."
   ]
  },
  {
   "cell_type": "markdown",
   "id": "4e7493ba",
   "metadata": {},
   "source": [
    "## Ejercicio análisis de Controlabilidad y Observabilidad\n",
    "\n",
    "Sunpongamos que se tienen las sieguentes funciones transferencias $G_1$ y $G_2$:"
   ]
  },
  {
   "cell_type": "markdown",
   "id": "c4ea0339",
   "metadata": {},
   "source": [
    "## Ejemplo de conexión de sistemas"
   ]
  },
  {
   "cell_type": "code",
   "execution_count": 33,
   "id": "496a60eb",
   "metadata": {},
   "outputs": [
    {
     "data": {
      "text/latex": [
       "$$\\frac{1}{s + 1}$$"
      ],
      "text/plain": [
       "TransferFunction(array([1]), array([1, 1]))"
      ]
     },
     "execution_count": 33,
     "metadata": {},
     "output_type": "execute_result"
    }
   ],
   "source": [
    "G1=ctrl.tf(1,[1,1])\n",
    "G2=ctrl.tf([1,1],[1,2])\n",
    "G1"
   ]
  },
  {
   "cell_type": "code",
   "execution_count": 34,
   "id": "f56b320f",
   "metadata": {},
   "outputs": [
    {
     "data": {
      "text/latex": [
       "$$\\frac{s + 1}{s + 2}$$"
      ],
      "text/plain": [
       "TransferFunction(array([1, 1]), array([1, 2]))"
      ]
     },
     "execution_count": 34,
     "metadata": {},
     "output_type": "execute_result"
    }
   ],
   "source": [
    "G2"
   ]
  },
  {
   "cell_type": "markdown",
   "id": "d604938b",
   "metadata": {},
   "source": [
    "Podemos ver que G1 tiene un polo en -1 y G2 tiene un polo en -2 y un cero en -1."
   ]
  },
  {
   "cell_type": "markdown",
   "id": "89b7a684",
   "metadata": {},
   "source": [
    "Ahora supongamos que queremos un nuevo sistema que:\n",
    "- conecta la salida de $G1$ con la entrada de $G2$\n",
    "- la salida es la salida de $G2$\n",
    "- la entrada es la entrada de $G1$"
   ]
  },
  {
   "cell_type": "markdown",
   "id": "45f68b35",
   "metadata": {},
   "source": [
    "Para eso vamos a usar una función que se llama `connect`. Esta utiliza sistemas en espacio de estados, entonces hacemos:"
   ]
  },
  {
   "cell_type": "code",
   "execution_count": 35,
   "id": "1e6f0612",
   "metadata": {},
   "outputs": [],
   "source": [
    "sys1 = ctrl.ss(G1)\n",
    "sys2= ctrl.ss(G2)"
   ]
  },
  {
   "cell_type": "markdown",
   "id": "af49aba7",
   "metadata": {},
   "source": [
    "Y luego realizamos las conexiones:"
   ]
  },
  {
   "cell_type": "code",
   "execution_count": 36,
   "id": "da3d4782",
   "metadata": {},
   "outputs": [
    {
     "data": {
      "text/latex": [
       "\\[\n",
       "\\left(\n",
       "\\begin{array}{rllrll|rll}\n",
       "-1\\phantom{.}&\\hspace{-1em}&\\hspace{-1em}\\phantom{\\cdot}&0\\phantom{.}&\\hspace{-1em}&\\hspace{-1em}\\phantom{\\cdot}&1\\phantom{.}&\\hspace{-1em}&\\hspace{-1em}\\phantom{\\cdot}\\\\\n",
       "1\\phantom{.}&\\hspace{-1em}&\\hspace{-1em}\\phantom{\\cdot}&-2\\phantom{.}&\\hspace{-1em}&\\hspace{-1em}\\phantom{\\cdot}&0\\phantom{.}&\\hspace{-1em}&\\hspace{-1em}\\phantom{\\cdot}\\\\\n",
       "\\hline\n",
       "1\\phantom{.}&\\hspace{-1em}&\\hspace{-1em}\\phantom{\\cdot}&-1\\phantom{.}&\\hspace{-1em}&\\hspace{-1em}\\phantom{\\cdot}&0\\phantom{.}&\\hspace{-1em}&\\hspace{-1em}\\phantom{\\cdot}\\\\\n",
       "\\end{array}\\right)\n",
       "\\]"
      ],
      "text/plain": [
       "StateSpace(array([[-1.,  0.],\n",
       "       [ 1., -2.]]), array([[1.],\n",
       "       [0.]]), array([[ 1., -1.]]), array([[0.]]))"
      ]
     },
     "execution_count": 36,
     "metadata": {},
     "output_type": "execute_result"
    }
   ],
   "source": [
    "sys_c = ctrl.connect(ctrl.append(sys1, sys2),[[2,1]],[1],[2])\n",
    "sys_c"
   ]
  },
  {
   "cell_type": "markdown",
   "id": "2106603b",
   "metadata": {},
   "source": [
    "Analizamos  los polos y ceros del sistema ya interconectado"
   ]
  },
  {
   "cell_type": "code",
   "execution_count": 37,
   "id": "a0376dfb",
   "metadata": {},
   "outputs": [
    {
     "data": {
      "text/plain": [
       "array([-2., -1.])"
      ]
     },
     "execution_count": 37,
     "metadata": {},
     "output_type": "execute_result"
    }
   ],
   "source": [
    "sys_c.pole()"
   ]
  },
  {
   "cell_type": "code",
   "execution_count": 38,
   "id": "90412051",
   "metadata": {},
   "outputs": [
    {
     "data": {
      "text/plain": [
       "array([-1.+0.j])"
      ]
     },
     "execution_count": 38,
     "metadata": {},
     "output_type": "execute_result"
    }
   ],
   "source": [
    "sys_c.zero()"
   ]
  },
  {
   "cell_type": "markdown",
   "id": "67d9ed08",
   "metadata": {},
   "source": [
    "Vemos que el sistema conserva los mismos polos y los mismos ceros que el original, lo cual era de esperarse, ya que su función transferencia sería $G1.G2$"
   ]
  },
  {
   "cell_type": "markdown",
   "id": "97428582",
   "metadata": {},
   "source": [
    "Obtengamos la forma canónica de controlabilidad del sistema"
   ]
  },
  {
   "cell_type": "code",
   "execution_count": 39,
   "id": "ab69423a",
   "metadata": {},
   "outputs": [
    {
     "data": {
      "text/latex": [
       "\\[\n",
       "\\left(\n",
       "\\begin{array}{rllrll|rll}\n",
       "-3\\phantom{.}&\\hspace{-1em}&\\hspace{-1em}\\phantom{\\cdot}&-2\\phantom{.}&\\hspace{-1em}&\\hspace{-1em}\\phantom{\\cdot}&1\\phantom{.}&\\hspace{-1em}&\\hspace{-1em}\\phantom{\\cdot}\\\\\n",
       "1\\phantom{.}&\\hspace{-1em}&\\hspace{-1em}\\phantom{\\cdot}&0\\phantom{.}&\\hspace{-1em}&\\hspace{-1em}\\phantom{\\cdot}&0\\phantom{.}&\\hspace{-1em}&\\hspace{-1em}\\phantom{\\cdot}\\\\\n",
       "\\hline\n",
       "1\\phantom{.}&\\hspace{-1em}&\\hspace{-1em}\\phantom{\\cdot}&1\\phantom{.}&\\hspace{-1em}&\\hspace{-1em}\\phantom{\\cdot}&0\\phantom{.}&\\hspace{-1em}&\\hspace{-1em}\\phantom{\\cdot}\\\\\n",
       "\\end{array}\\right)\n",
       "\\]"
      ],
      "text/plain": [
       "StateSpace(array([[-3., -2.],\n",
       "       [ 1.,  0.]]), array([[1.],\n",
       "       [0.]]), array([[1., 1.]]), array([[0.]]))"
      ]
     },
     "execution_count": 39,
     "metadata": {},
     "output_type": "execute_result"
    }
   ],
   "source": [
    "sys_c, Tc=ctrl.canonical_form(sys_c, 'reachable')\n",
    "sys_c"
   ]
  },
  {
   "cell_type": "markdown",
   "id": "2282db64",
   "metadata": {},
   "source": [
    "Podemos ver que las matrices $ \\mathbf A$, $\\mathbf B$, $\\mathbf C$ y $\\mathbf D$ coinciden con lo visto en teoría.\n",
    "\n",
    "Ahora obtengamos la forma canónica de observabilidad:"
   ]
  },
  {
   "cell_type": "code",
   "execution_count": 40,
   "id": "b7bd0a01",
   "metadata": {
    "tags": [
     "raises-exception"
    ]
   },
   "outputs": [
    {
     "ename": "ValueError",
     "evalue": "Transformation matrix singular to working precision.",
     "output_type": "error",
     "traceback": [
      "\u001b[0;31m---------------------------------------------------------------------------\u001b[0m",
      "\u001b[0;31mValueError\u001b[0m                                Traceback (most recent call last)",
      "\u001b[0;32m/tmp/ipykernel_4738/4150826842.py\u001b[0m in \u001b[0;36m<module>\u001b[0;34m\u001b[0m\n\u001b[0;32m----> 1\u001b[0;31m \u001b[0mctrl\u001b[0m\u001b[0;34m.\u001b[0m\u001b[0mcanonical_form\u001b[0m\u001b[0;34m(\u001b[0m\u001b[0msys_c\u001b[0m\u001b[0;34m,\u001b[0m \u001b[0;34m'observable'\u001b[0m\u001b[0;34m)\u001b[0m\u001b[0;34m\u001b[0m\u001b[0;34m\u001b[0m\u001b[0m\n\u001b[0m",
      "\u001b[0;32m/usr/share/miniconda/lib/python3.8/site-packages/control/canonical.py\u001b[0m in \u001b[0;36mcanonical_form\u001b[0;34m(xsys, form)\u001b[0m\n\u001b[1;32m     43\u001b[0m         \u001b[0;32mreturn\u001b[0m \u001b[0mreachable_form\u001b[0m\u001b[0;34m(\u001b[0m\u001b[0mxsys\u001b[0m\u001b[0;34m)\u001b[0m\u001b[0;34m\u001b[0m\u001b[0;34m\u001b[0m\u001b[0m\n\u001b[1;32m     44\u001b[0m     \u001b[0;32melif\u001b[0m \u001b[0mform\u001b[0m \u001b[0;34m==\u001b[0m \u001b[0;34m'observable'\u001b[0m\u001b[0;34m:\u001b[0m\u001b[0;34m\u001b[0m\u001b[0;34m\u001b[0m\u001b[0m\n\u001b[0;32m---> 45\u001b[0;31m         \u001b[0;32mreturn\u001b[0m \u001b[0mobservable_form\u001b[0m\u001b[0;34m(\u001b[0m\u001b[0mxsys\u001b[0m\u001b[0;34m)\u001b[0m\u001b[0;34m\u001b[0m\u001b[0;34m\u001b[0m\u001b[0m\n\u001b[0m\u001b[1;32m     46\u001b[0m     \u001b[0;32melif\u001b[0m \u001b[0mform\u001b[0m \u001b[0;34m==\u001b[0m \u001b[0;34m'modal'\u001b[0m\u001b[0;34m:\u001b[0m\u001b[0;34m\u001b[0m\u001b[0;34m\u001b[0m\u001b[0m\n\u001b[1;32m     47\u001b[0m         \u001b[0;32mreturn\u001b[0m \u001b[0mmodal_form\u001b[0m\u001b[0;34m(\u001b[0m\u001b[0mxsys\u001b[0m\u001b[0;34m)\u001b[0m\u001b[0;34m\u001b[0m\u001b[0;34m\u001b[0m\u001b[0m\n",
      "\u001b[0;32m/usr/share/miniconda/lib/python3.8/site-packages/control/canonical.py\u001b[0m in \u001b[0;36mobservable_form\u001b[0;34m(xsys)\u001b[0m\n\u001b[1;32m    147\u001b[0m \u001b[0;34m\u001b[0m\u001b[0m\n\u001b[1;32m    148\u001b[0m     \u001b[0;32mif\u001b[0m \u001b[0mmatrix_rank\u001b[0m\u001b[0;34m(\u001b[0m\u001b[0mTzx\u001b[0m\u001b[0;34m)\u001b[0m \u001b[0;34m!=\u001b[0m \u001b[0mxsys\u001b[0m\u001b[0;34m.\u001b[0m\u001b[0mnstates\u001b[0m\u001b[0;34m:\u001b[0m\u001b[0;34m\u001b[0m\u001b[0;34m\u001b[0m\u001b[0m\n\u001b[0;32m--> 149\u001b[0;31m         \u001b[0;32mraise\u001b[0m \u001b[0mValueError\u001b[0m\u001b[0;34m(\u001b[0m\u001b[0;34m\"Transformation matrix singular to working precision.\"\u001b[0m\u001b[0;34m)\u001b[0m\u001b[0;34m\u001b[0m\u001b[0;34m\u001b[0m\u001b[0m\n\u001b[0m\u001b[1;32m    150\u001b[0m \u001b[0;34m\u001b[0m\u001b[0m\n\u001b[1;32m    151\u001b[0m     \u001b[0;31m# Finally, compute the output matrix\u001b[0m\u001b[0;34m\u001b[0m\u001b[0;34m\u001b[0m\u001b[0;34m\u001b[0m\u001b[0m\n",
      "\u001b[0;31mValueError\u001b[0m: Transformation matrix singular to working precision."
     ]
    }
   ],
   "source": [
    "ctrl.canonical_form(sys_c, 'observable')"
   ]
  },
  {
   "cell_type": "markdown",
   "id": "845d0ac4",
   "metadata": {},
   "source": [
    "Podemos ver que este sistema no puede ser escrito en su forma canónica de observabilidad. Esto sucede por que el sistema no es observable\n",
    "\n",
    "```{admonition} Interpretación\n",
    ":class: hint\n",
    "\n",
    "Un sistema observable necesita tener evidencia de lo que sucede con cada modo en al menos una salida del sistema. Como el modo en -1 se ve completamente tapado por el cero en esa misma frecuencia este sistema no es observable por que no tiene ninguna evidencia del modo en -1 a la salida del mismo.\n",
    "\n",
    "```"
   ]
  },
  {
   "cell_type": "markdown",
   "id": "9e931fa7",
   "metadata": {},
   "source": [
    "Ahora hagamos la conexión al revés (primero $G1$ y luego $G2$):"
   ]
  },
  {
   "cell_type": "code",
   "execution_count": 41,
   "id": "50763f94",
   "metadata": {},
   "outputs": [
    {
     "data": {
      "text/latex": [
       "\\[\n",
       "\\left(\n",
       "\\begin{array}{rllrll|rll}\n",
       "-1\\phantom{.}&\\hspace{-1em}&\\hspace{-1em}\\phantom{\\cdot}&-1\\phantom{.}&\\hspace{-1em}&\\hspace{-1em}\\phantom{\\cdot}&1\\phantom{.}&\\hspace{-1em}&\\hspace{-1em}\\phantom{\\cdot}\\\\\n",
       "0\\phantom{.}&\\hspace{-1em}&\\hspace{-1em}\\phantom{\\cdot}&-2\\phantom{.}&\\hspace{-1em}&\\hspace{-1em}\\phantom{\\cdot}&1\\phantom{.}&\\hspace{-1em}&\\hspace{-1em}\\phantom{\\cdot}\\\\\n",
       "\\hline\n",
       "1\\phantom{.}&\\hspace{-1em}&\\hspace{-1em}\\phantom{\\cdot}&0\\phantom{.}&\\hspace{-1em}&\\hspace{-1em}\\phantom{\\cdot}&0\\phantom{.}&\\hspace{-1em}&\\hspace{-1em}\\phantom{\\cdot}\\\\\n",
       "\\end{array}\\right)\n",
       "\\]"
      ],
      "text/plain": [
       "StateSpace(array([[-1., -1.],\n",
       "       [ 0., -2.]]), array([[1.],\n",
       "       [1.]]), array([[1., 0.]]), array([[0.]]))"
      ]
     },
     "execution_count": 41,
     "metadata": {},
     "output_type": "execute_result"
    }
   ],
   "source": [
    "sys_o = ctrl.connect(ctrl.append(sys1, sys2),[[1,2]],[2],[1])\n",
    "sys_o"
   ]
  },
  {
   "cell_type": "markdown",
   "id": "bd4803ae",
   "metadata": {},
   "source": [
    "Obtengamos la forma canónica observable:"
   ]
  },
  {
   "cell_type": "code",
   "execution_count": 42,
   "id": "53ea9aab",
   "metadata": {},
   "outputs": [
    {
     "data": {
      "text/latex": [
       "\\[\n",
       "\\left(\n",
       "\\begin{array}{rllrll|rll}\n",
       "-3\\phantom{.}&\\hspace{-1em}&\\hspace{-1em}\\phantom{\\cdot}&1\\phantom{.}&\\hspace{-1em}&\\hspace{-1em}\\phantom{\\cdot}&1\\phantom{.}&\\hspace{-1em}&\\hspace{-1em}\\phantom{\\cdot}\\\\\n",
       "-2\\phantom{.}&\\hspace{-1em}&\\hspace{-1em}\\phantom{\\cdot}&0\\phantom{.}&\\hspace{-1em}&\\hspace{-1em}\\phantom{\\cdot}&1\\phantom{.}&\\hspace{-1em}&\\hspace{-1em}\\phantom{\\cdot}\\\\\n",
       "\\hline\n",
       "1\\phantom{.}&\\hspace{-1em}&\\hspace{-1em}\\phantom{\\cdot}&0\\phantom{.}&\\hspace{-1em}&\\hspace{-1em}\\phantom{\\cdot}&0\\phantom{.}&\\hspace{-1em}&\\hspace{-1em}\\phantom{\\cdot}\\\\\n",
       "\\end{array}\\right)\n",
       "\\]"
      ],
      "text/plain": [
       "StateSpace(array([[-3.,  1.],\n",
       "       [-2.,  0.]]), array([[1.],\n",
       "       [1.]]), array([[1., 0.]]), array([[0.]]))"
      ]
     },
     "execution_count": 42,
     "metadata": {},
     "output_type": "execute_result"
    }
   ],
   "source": [
    "sys_o, To=ctrl.canonical_form(sys_o, 'observable')\n",
    "sys_o"
   ]
  },
  {
   "cell_type": "markdown",
   "id": "2664fefe",
   "metadata": {},
   "source": [
    "Y ahora la forma canónica controlable:"
   ]
  },
  {
   "cell_type": "code",
   "execution_count": 43,
   "id": "feedc48a",
   "metadata": {
    "tags": [
     "raises-exception"
    ]
   },
   "outputs": [
    {
     "ename": "ValueError",
     "evalue": "System not controllable to working precision.",
     "output_type": "error",
     "traceback": [
      "\u001b[0;31m---------------------------------------------------------------------------\u001b[0m",
      "\u001b[0;31mValueError\u001b[0m                                Traceback (most recent call last)",
      "\u001b[0;32m/tmp/ipykernel_4738/2099819848.py\u001b[0m in \u001b[0;36m<module>\u001b[0;34m\u001b[0m\n\u001b[0;32m----> 1\u001b[0;31m \u001b[0mctrl\u001b[0m\u001b[0;34m.\u001b[0m\u001b[0mcanonical_form\u001b[0m\u001b[0;34m(\u001b[0m\u001b[0msys_o\u001b[0m\u001b[0;34m,\u001b[0m \u001b[0;34m'reachable'\u001b[0m\u001b[0;34m)\u001b[0m\u001b[0;34m\u001b[0m\u001b[0;34m\u001b[0m\u001b[0m\n\u001b[0m",
      "\u001b[0;32m/usr/share/miniconda/lib/python3.8/site-packages/control/canonical.py\u001b[0m in \u001b[0;36mcanonical_form\u001b[0;34m(xsys, form)\u001b[0m\n\u001b[1;32m     41\u001b[0m     \u001b[0;31m# Call the appropriate tranformation function\u001b[0m\u001b[0;34m\u001b[0m\u001b[0;34m\u001b[0m\u001b[0;34m\u001b[0m\u001b[0m\n\u001b[1;32m     42\u001b[0m     \u001b[0;32mif\u001b[0m \u001b[0mform\u001b[0m \u001b[0;34m==\u001b[0m \u001b[0;34m'reachable'\u001b[0m\u001b[0;34m:\u001b[0m\u001b[0;34m\u001b[0m\u001b[0;34m\u001b[0m\u001b[0m\n\u001b[0;32m---> 43\u001b[0;31m         \u001b[0;32mreturn\u001b[0m \u001b[0mreachable_form\u001b[0m\u001b[0;34m(\u001b[0m\u001b[0mxsys\u001b[0m\u001b[0;34m)\u001b[0m\u001b[0;34m\u001b[0m\u001b[0;34m\u001b[0m\u001b[0m\n\u001b[0m\u001b[1;32m     44\u001b[0m     \u001b[0;32melif\u001b[0m \u001b[0mform\u001b[0m \u001b[0;34m==\u001b[0m \u001b[0;34m'observable'\u001b[0m\u001b[0;34m:\u001b[0m\u001b[0;34m\u001b[0m\u001b[0;34m\u001b[0m\u001b[0m\n\u001b[1;32m     45\u001b[0m         \u001b[0;32mreturn\u001b[0m \u001b[0mobservable_form\u001b[0m\u001b[0;34m(\u001b[0m\u001b[0mxsys\u001b[0m\u001b[0;34m)\u001b[0m\u001b[0;34m\u001b[0m\u001b[0;34m\u001b[0m\u001b[0m\n",
      "\u001b[0;32m/usr/share/miniconda/lib/python3.8/site-packages/control/canonical.py\u001b[0m in \u001b[0;36mreachable_form\u001b[0;34m(xsys)\u001b[0m\n\u001b[1;32m     90\u001b[0m \u001b[0;34m\u001b[0m\u001b[0m\n\u001b[1;32m     91\u001b[0m     \u001b[0;32mif\u001b[0m \u001b[0mmatrix_rank\u001b[0m\u001b[0;34m(\u001b[0m\u001b[0mWrx\u001b[0m\u001b[0;34m)\u001b[0m \u001b[0;34m!=\u001b[0m \u001b[0mxsys\u001b[0m\u001b[0;34m.\u001b[0m\u001b[0mnstates\u001b[0m\u001b[0;34m:\u001b[0m\u001b[0;34m\u001b[0m\u001b[0;34m\u001b[0m\u001b[0m\n\u001b[0;32m---> 92\u001b[0;31m         \u001b[0;32mraise\u001b[0m \u001b[0mValueError\u001b[0m\u001b[0;34m(\u001b[0m\u001b[0;34m\"System not controllable to working precision.\"\u001b[0m\u001b[0;34m)\u001b[0m\u001b[0;34m\u001b[0m\u001b[0;34m\u001b[0m\u001b[0m\n\u001b[0m\u001b[1;32m     93\u001b[0m \u001b[0;34m\u001b[0m\u001b[0m\n\u001b[1;32m     94\u001b[0m     \u001b[0;31m# Transformation from one form to another\u001b[0m\u001b[0;34m\u001b[0m\u001b[0;34m\u001b[0m\u001b[0;34m\u001b[0m\u001b[0m\n",
      "\u001b[0;31mValueError\u001b[0m: System not controllable to working precision."
     ]
    }
   ],
   "source": [
    "ctrl.canonical_form(sys_o, 'reachable')"
   ]
  },
  {
   "cell_type": "markdown",
   "id": "277a9cca",
   "metadata": {},
   "source": [
    "Podemos ver que ahora no podemos obtener la forma canónica de observabilidad.\n",
    "\n",
    "```{admonition} Interpretación\n",
    ":class: hint\n",
    "\n",
    "La razón de esto es que no se puede excitar el modo -1, que ahora quedó tapado desde el lado de la entrada. Toda excitación que tenga \"frecuencia generalizada -1\" será tapada por el cero en -1. Por lo tanto este sistema no es controlable, ya que no puede excitar desde esa entrada el modo -1.\n",
    "```\n",
    "\n",
    "Es importante destacar que ambos sistemas presentan la misma función transferencia $G1.G2$, pero uno es solo controlable y el otro es solo observable. Esto se debe a que la controlabilidad y la observabilidad son propiedades internas de un sistema. \n",
    "\n",
    "\n",
    "\n",
    "```{attention}\n",
    "La **controlabilidad** y la **observabilidad**  no pueden ser decididas a partir de modelos externos de un sistema como son las funciones transferencias.\n",
    "```\n",
    "\n",
    "Estas dos mismas propiedades pueden ser analizadas con la forma modal. Tomemos el sistema $sys_C$ donde la entrada esta conectada a $G1$ y la salida a $G2$:"
   ]
  },
  {
   "cell_type": "code",
   "execution_count": 44,
   "id": "a5f48e6f",
   "metadata": {},
   "outputs": [
    {
     "data": {
      "text/latex": [
       "\\[\n",
       "\\left(\n",
       "\\begin{array}{rllrll|rll}\n",
       "-2\\phantom{.}&\\hspace{-1em}&\\hspace{-1em}\\phantom{\\cdot}&-1.&\\hspace{-1em}79&\\hspace{-1em}\\cdot10^{-16}&-2.&\\hspace{-1em}24&\\hspace{-1em}\\phantom{\\cdot}\\\\\n",
       "4.&\\hspace{-1em}53&\\hspace{-1em}\\cdot10^{-17}&-1\\phantom{.}&\\hspace{-1em}&\\hspace{-1em}\\phantom{\\cdot}&-1.&\\hspace{-1em}41&\\hspace{-1em}\\phantom{\\cdot}\\\\\n",
       "\\hline\n",
       "-0.&\\hspace{-1em}447&\\hspace{-1em}\\phantom{\\cdot}&0\\phantom{.}&\\hspace{-1em}&\\hspace{-1em}\\phantom{\\cdot}&0\\phantom{.}&\\hspace{-1em}&\\hspace{-1em}\\phantom{\\cdot}\\\\\n",
       "\\end{array}\\right)\n",
       "\\]"
      ],
      "text/plain": [
       "StateSpace(array([[-2.00000000e+00, -1.79022500e-16],\n",
       "       [ 4.52542462e-17, -1.00000000e+00]]), array([[-2.23606798],\n",
       "       [-1.41421356]]), array([[-0.4472136,  0.       ]]), array([[0.]]))"
      ]
     },
     "execution_count": 44,
     "metadata": {},
     "output_type": "execute_result"
    }
   ],
   "source": [
    "sys_mc, Tmc = ctrl.canonical_form(sys_c, 'modal')\n",
    "sys_mc"
   ]
  },
  {
   "cell_type": "markdown",
   "id": "85e7b7d2",
   "metadata": {},
   "source": [
    "Podemos ver que la matriz $\\mathbf B$ tiene todos los valores distintos de 0. Esto significa que todos los modos están conectados a la entrada, por lo que deducimos que el sistema es controlable.\n",
    "\n",
    "Pero podemos ver que $\\mathbf C$ tiene un 0 en el primer elemento. Y que en la diagonal de $ \\mathbf A$ el primer elemento es -1. Esto quiere decir que no hay ninguna evidencia del modo -1 en la salida por que el sistema no es observable."
   ]
  },
  {
   "cell_type": "markdown",
   "id": "778a1a47",
   "metadata": {},
   "source": [
    "Probemos ahora con la segunda conexión:"
   ]
  },
  {
   "cell_type": "code",
   "execution_count": 45,
   "id": "b3cb1f26",
   "metadata": {},
   "outputs": [
    {
     "data": {
      "text/latex": [
       "\\[\n",
       "\\left(\n",
       "\\begin{array}{rllrll|rll}\n",
       "-2\\phantom{.}&\\hspace{-1em}&\\hspace{-1em}\\phantom{\\cdot}&9.&\\hspace{-1em}05&\\hspace{-1em}\\cdot10^{-17}&-1.&\\hspace{-1em}41&\\hspace{-1em}\\phantom{\\cdot}\\\\\n",
       "-8.&\\hspace{-1em}95&\\hspace{-1em}\\cdot10^{-17}&-1\\phantom{.}&\\hspace{-1em}&\\hspace{-1em}\\phantom{\\cdot}&-0\\phantom{.}&\\hspace{-1em}&\\hspace{-1em}\\phantom{\\cdot}\\\\\n",
       "\\hline\n",
       "-0.&\\hspace{-1em}707&\\hspace{-1em}\\phantom{\\cdot}&-0.&\\hspace{-1em}447&\\hspace{-1em}\\phantom{\\cdot}&0\\phantom{.}&\\hspace{-1em}&\\hspace{-1em}\\phantom{\\cdot}\\\\\n",
       "\\end{array}\\right)\n",
       "\\]"
      ],
      "text/plain": [
       "StateSpace(array([[-2.00000000e+00,  9.05084924e-17],\n",
       "       [-8.95112501e-17, -1.00000000e+00]]), array([[-1.41421356],\n",
       "       [-0.        ]]), array([[-0.70710678, -0.4472136 ]]), array([[0.]]))"
      ]
     },
     "execution_count": 45,
     "metadata": {},
     "output_type": "execute_result"
    }
   ],
   "source": [
    "sys_mo, Tmo = ctrl.canonical_form(sys_o, 'modal')\n",
    "sys_mo"
   ]
  },
  {
   "cell_type": "markdown",
   "id": "d4bab800",
   "metadata": {},
   "source": [
    "Podemos ver ahora que la matriz $\\mathbf C$ no tiene ningún valor igual a 0, por lo que ahora el sistema sería observable (todos los modos están presentes de alguna manera en la salida). Pero tenemos un 0 en la primer fila de $\\mathbf B$, que se corresponde con el modo en -1. Esto quiere decir que no podemos excitar este modo. Por lo tanto no es controlable.\n",
    "\n",
    "```{important}\n",
    "La controlabilidad y la observabilidad pueden ser evaluadas con el sistema en su forma **canónica modal** analizando las relaciones  de la matrices $\\mathbf{B}$ y $\\mathbf{C}$ con la matriz $\\mathbf{A}$.\n",
    "```"
   ]
  }
 ],
 "metadata": {
  "jupytext": {
   "formats": "ipynb,md:myst",
   "text_representation": {
    "extension": ".md",
    "format_name": "myst",
    "format_version": 0.13,
    "jupytext_version": "1.10.3"
   }
  },
  "kernelspec": {
   "display_name": "Python 3 (ipykernel)",
   "language": "python",
   "name": "python3"
  },
  "language_info": {
   "codemirror_mode": {
    "name": "ipython",
    "version": 3
   },
   "file_extension": ".py",
   "mimetype": "text/x-python",
   "name": "python",
   "nbconvert_exporter": "python",
   "pygments_lexer": "ipython3",
   "version": "3.8.11"
  },
  "source_map": [
   15,
   20,
   24,
   28,
   31,
   35,
   38,
   42,
   45,
   49,
   54,
   59,
   61,
   65,
   67,
   73,
   75,
   79,
   83,
   87,
   91,
   93,
   97,
   99,
   103,
   110,
   114,
   118,
   122,
   126,
   130,
   132,
   136,
   139,
   145,
   148,
   154,
   157,
   161,
   164,
   170,
   174,
   178,
   182,
   185,
   189,
   191,
   195,
   197,
   201,
   205,
   215,
   219,
   223,
   227,
   229,
   233,
   239,
   243,
   249,
   251,
   255,
   262,
   266,
   269,
   273,
   276,
   280,
   284,
   286,
   290,
   294,
   297,
   303,
   307,
   318,
   322,
   325,
   329,
   332,
   336,
   340,
   360,
   363,
   369,
   373,
   376
  ]
 },
 "nbformat": 4,
 "nbformat_minor": 5
}