{
 "cells": [
  {
   "cell_type": "markdown",
   "id": "b9286fbc",
   "metadata": {},
   "source": [
    "# Elección de la ubicación de los polos a lazo cerrado\n",
    "\n",
    "## Sistema de segundo orden dominante\n",
    "\n",
    "Una forma de seleccionar la ubicación de los polos es hacer lo mismo que se hacía en control clásico, es decir buscar que el sistema sea parecido a un segundo orden dominante. \n",
    "\n",
    "Esto es perfectamente factible en control moderno. Sin embargo, tiene la desventaja que no sabemos para nada que sucederá con el esfuerzo de control $u$. Ubicando los polos de esta manera podemos obtener esfuerzos de control imposibles de realizar por nuestros actuadores, o que lleven a consumos de energías demasiado altos para nuestro sistema.\n",
    "\n",
    "Por esto, lo más recomendable es usar técnicas de control óptimo para seleccionar los polos del sistema a lazo cerrado."
   ]
  },
  {
   "cell_type": "markdown",
   "id": "8b1b7310",
   "metadata": {},
   "source": [
    "## Lugar simétrico de las raíces\n",
    "\n",
    "Una técnica de control óptimo ampliamente usado es el control `regulador cuadrático lineal (LQR)`. En este curso veremos una versión simplificada que se conoce como __Lugar de las Raíces Simétrico__. Esta versión simplificada consiste en resolver el problema de minimización del siguiente índice de costo:\n",
    "\n",
    "$$\\mathcal J = \\int_0^{\\infty}\\left[\\rho z^2(t)+u^2(t)\\right]dt$$\n",
    "\n",
    "donde:\n",
    "\n",
    "$$\n",
    "\\mathbf{\\dot x} = \\mathbf{Ax}+\\mathbf B u\\\\\n",
    "z =  \\mathbf{C_1x}\\\\\n",
    "$$\n",
    "\n",
    "mediante la ley de control:\n",
    "\n",
    "$$ u =-\\mathbf{Kx}$$\n",
    "\n",
    "\n",
    "Se puede demostrar que la ubicación de los polos a lazo cerrado que minimizan el funcional de costo anterior, son los polos estables del lugar simétrico de las raíces dado por la ecuación:\n",
    "\n",
    "$$1+\\rho G_0(-s)G_0(s)=0$$\n",
    " \n",
    "donde $G_0(s)$ es:\n",
    "\n",
    "$$G_0(s) = \\frac{Z(s)}{U(s)}=\\mathbf{C_1}(s\\mathbf I -\\mathbf A)^{-1}\\mathbf B$$\n",
    "\n",
    "Por lo tanto el problema lo podemos resolver para todo $\\rho$ haciendo un lugar simétrico de las raíces de $G_0(-s)G_0(s)$. El lugar dará simétrico respecto del eje $j\\omega$ ya que los polos y ceros de $G_0(-s)G_0(s)$ también estarán ubicados de forma simétrica.\n",
    "\n",
    "\n",
    "## Ejemplo de modos para la ley de control \n",
    "\n",
    "Dado el sistema con las siguientes ecuaciones de estado:\n",
    "\n",
    "$$\\dot{\\mathbf{x}}(t) = \\begin{bmatrix} -3 & 2 \\\\ -1 & 0 \\end{bmatrix} \\mathbf{x}(t) + \\begin{bmatrix} 1 \\\\ 0 \\end{bmatrix} u(t) $$\n",
    "\n",
    "$$ y(t) = \\begin{bmatrix} 1& -3 \\end{bmatrix} \\mathbf{x}(t) $$\n",
    "\n",
    "Obtener leyes de control (una por cada item) que cumplan con las siguientes especificaciones:\n",
    "- que el tiempo de asentamiento sea menos a 8 segundos y que el sobrevalor sea menor a 10%\n",
    "- igual que el anterior pero diseñar utilizando el lugar simétrico de las raíces\n",
    "- utilizando también el lugar simétrico de las raíces utilizar un $\\rho$ 10 veces más grande que el anterior"
   ]
  },
  {
   "cell_type": "code",
   "execution_count": 1,
   "id": "10ffdf09",
   "metadata": {},
   "outputs": [],
   "source": [
    "import control as ctrl\n",
    "import numpy as np\n",
    "import matplotlib.pyplot as plt"
   ]
  },
  {
   "cell_type": "markdown",
   "id": "8a8fb412",
   "metadata": {},
   "source": [
    "Definimos primero las matrices del sistema:"
   ]
  },
  {
   "cell_type": "code",
   "execution_count": 2,
   "id": "980491f2",
   "metadata": {},
   "outputs": [],
   "source": [
    "A=[[-3, 2],[-1,0]]\n",
    "B=[[1],[0]]\n",
    "C=[[1,-3]]\n",
    "D=0"
   ]
  },
  {
   "cell_type": "markdown",
   "id": "b2baa560",
   "metadata": {},
   "source": [
    "y ahora definimos el sistema con el módulo de `control`."
   ]
  },
  {
   "cell_type": "code",
   "execution_count": 3,
   "id": "2064de5f",
   "metadata": {},
   "outputs": [
    {
     "data": {
      "text/latex": [
       "$$\\frac{s + 3}{s^2 + 3 s + 2}$$"
      ],
      "text/plain": [
       "TransferFunction(array([1., 3.]), array([1., 3., 2.]))"
      ]
     },
     "execution_count": 3,
     "metadata": {},
     "output_type": "execute_result"
    }
   ],
   "source": [
    "sys = ctrl.ss(A,B,C,D)\n",
    "sys\n",
    "ctrl.tf(sys)"
   ]
  },
  {
   "cell_type": "markdown",
   "id": "8bc9cc71",
   "metadata": {},
   "source": [
    "### Ubicando los polos con el criterio de 2do orden dominante\n",
    "\n",
    "\n",
    "Usando el criterio de hacer el sistema de segundo orden dominante, pondremos los polos en la posición que correspondería a ese segundo orden dominante. Para eso vemos la zona del plano $s$ que cumple con el \n",
    "tiempo de establecimiento solicitado (se asume al 2%)"
   ]
  },
  {
   "cell_type": "code",
   "execution_count": 4,
   "id": "b1fa82c2",
   "metadata": {},
   "outputs": [
    {
     "data": {
      "text/plain": [
       "5.0"
      ]
     },
     "execution_count": 4,
     "metadata": {},
     "output_type": "execute_result"
    }
   ],
   "source": [
    "ts = 0.8\n",
    "sigma=4/ts # al 2%\n",
    "sigma"
   ]
  },
  {
   "cell_type": "markdown",
   "id": "2d454813",
   "metadata": {},
   "source": [
    "Ahora se busca la zona que cumple con el sobrevalor:"
   ]
  },
  {
   "cell_type": "code",
   "execution_count": 5,
   "id": "4c68bb53",
   "metadata": {},
   "outputs": [
    {
     "data": {
      "text/plain": [
       "0.09478022484215486"
      ]
     },
     "execution_count": 5,
     "metadata": {},
     "output_type": "execute_result"
    }
   ],
   "source": [
    "# SV menor al 10%\n",
    "zeta=0.6\n",
    "np.exp(-np.pi*zeta/(np.sqrt(1-zeta**2)))"
   ]
  },
  {
   "cell_type": "markdown",
   "id": "c02fa68d",
   "metadata": {},
   "source": [
    "Obtenemos los polos objetivos:"
   ]
  },
  {
   "cell_type": "code",
   "execution_count": 6,
   "id": "b4d98f4c",
   "metadata": {},
   "outputs": [
    {
     "data": {
      "text/plain": [
       "(-5+6.666666666666668j)"
      ]
     },
     "execution_count": 6,
     "metadata": {},
     "output_type": "execute_result"
    }
   ],
   "source": [
    "wn=sigma/zeta\n",
    "wd=wn*np.sqrt(1-zeta**2)\n",
    "pobj=-sigma+1j*wd\n",
    "pobj"
   ]
  },
  {
   "cell_type": "code",
   "execution_count": 7,
   "id": "f1867d91",
   "metadata": {},
   "outputs": [
    {
     "data": {
      "text/plain": [
       "array([[  7.        , -67.44444444]])"
      ]
     },
     "execution_count": 7,
     "metadata": {},
     "output_type": "execute_result"
    }
   ],
   "source": [
    "K1=ctrl.acker(sys.A, sys.B, [pobj, pobj.conjugate()])\n",
    "K1"
   ]
  },
  {
   "cell_type": "code",
   "execution_count": 8,
   "id": "27699bb0",
   "metadata": {},
   "outputs": [
    {
     "data": {
      "text/plain": [
       "array([-5.+6.66666667j, -5.-6.66666667j])"
      ]
     },
     "execution_count": 8,
     "metadata": {},
     "output_type": "execute_result"
    }
   ],
   "source": [
    "sys_ley_control1 = ctrl.ss(sys.A-sys.B@K1, [[0],[0]], sys.C, 0)\n",
    "sys_ley_control1.pole()"
   ]
  },
  {
   "cell_type": "markdown",
   "id": "c84426f6",
   "metadata": {},
   "source": [
    "o también lo podemos verificar como:"
   ]
  },
  {
   "cell_type": "code",
   "execution_count": 9,
   "id": "f605769f",
   "metadata": {},
   "outputs": [
    {
     "data": {
      "text/plain": [
       "array([-5.+6.66666667j, -5.-6.66666667j])"
      ]
     },
     "execution_count": 9,
     "metadata": {},
     "output_type": "execute_result"
    }
   ],
   "source": [
    "np.linalg.eigvals(sys_ley_control1.A)"
   ]
  },
  {
   "cell_type": "markdown",
   "id": "8d58c3df",
   "metadata": {},
   "source": [
    "### Utilizando el criterio del lugar simétrico de las raíces\n",
    "\n",
    "\n",
    "Como en el enunciado no se nos da ningún indicio de como tomar $z(t)$ para utilizar en el criterio, lo que utilizaremos es $z(t)=y(t)$, por lo que $\\mathbf{C}_1=\\mathbf{C}$, y por ende $G(s) = G_o(s)$. Entonces podemos obtenemos $G(s)$:"
   ]
  },
  {
   "cell_type": "code",
   "execution_count": 10,
   "id": "0531111e",
   "metadata": {},
   "outputs": [
    {
     "data": {
      "text/latex": [
       "$$\\frac{s + 3}{s^2 + 3 s + 2}$$"
      ],
      "text/plain": [
       "TransferFunction(array([1., 3.]), array([1., 3., 2.]))"
      ]
     },
     "execution_count": 10,
     "metadata": {},
     "output_type": "execute_result"
    }
   ],
   "source": [
    "G=ctrl.tf(sys)\n",
    "G"
   ]
  },
  {
   "cell_type": "markdown",
   "id": "ca878c23",
   "metadata": {},
   "source": [
    "Por inspección podemos obtener el $G(-s)$:"
   ]
  },
  {
   "cell_type": "code",
   "execution_count": 11,
   "id": "ec755b27",
   "metadata": {},
   "outputs": [
    {
     "data": {
      "text/latex": [
       "$$\\frac{-s + 3}{s^2 - 3 s + 2}$$"
      ],
      "text/plain": [
       "TransferFunction(array([-1,  3]), array([ 1, -3,  2]))"
      ]
     },
     "execution_count": 11,
     "metadata": {},
     "output_type": "execute_result"
    }
   ],
   "source": [
    "Gm = ctrl.tf([-1,3],[1,-3,2])\n",
    "Gm"
   ]
  },
  {
   "cell_type": "markdown",
   "id": "e44002ea",
   "metadata": {},
   "source": [
    "A continuación se presenta una función que obtiene $G(-s)$ de un sistema SISO del módulo de `control` de Python."
   ]
  },
  {
   "cell_type": "code",
   "execution_count": 12,
   "id": "58e0ff86",
   "metadata": {},
   "outputs": [],
   "source": [
    "def conjugate_tf(G):\n",
    "    num = ctrl.tf(G).num[0][0]\n",
    "    den = ctrl.tf(G).den[0][0]\n",
    "    nume = [num[i]*((-1)**(len(num)%2+1-i)) for i in range(0, len(num))]\n",
    "    dene = [den[i]*((-1)**(len(den)%2+1-i)) for i in range(0, len(den))]\n",
    "    return ctrl.tf(nume,dene)"
   ]
  },
  {
   "cell_type": "markdown",
   "id": "b9b86cc5",
   "metadata": {},
   "source": [
    "Probamos esa función:"
   ]
  },
  {
   "cell_type": "code",
   "execution_count": 13,
   "id": "c9a86801",
   "metadata": {},
   "outputs": [
    {
     "data": {
      "text/latex": [
       "$$\\frac{-s + 3}{s^2 - 3 s + 2}$$"
      ],
      "text/plain": [
       "TransferFunction(array([-1.,  3.]), array([ 1., -3.,  2.]))"
      ]
     },
     "execution_count": 13,
     "metadata": {},
     "output_type": "execute_result"
    }
   ],
   "source": [
    "Gm=conjugate_tf(G)\n",
    "Gm"
   ]
  },
  {
   "cell_type": "markdown",
   "id": "2fc6d1c3",
   "metadata": {},
   "source": [
    "Ahora podemos hacer el LSR de las raíces."
   ]
  },
  {
   "cell_type": "code",
   "execution_count": 14,
   "id": "737c5ad7",
   "metadata": {
    "tags": [
     "remove-cell"
    ]
   },
   "outputs": [],
   "source": [
    "%matplotlib inline"
   ]
  },
  {
   "cell_type": "code",
   "execution_count": 15,
   "id": "aca48198",
   "metadata": {},
   "outputs": [
    {
     "data": {
      "image/png": "[encoded data removed]",
      "text/plain": [
       "<Figure size 432x288 with 1 Axes>"
      ]
     },
     "metadata": {
      "filenames": {
       "image/png": "/home/runner/work/CCyVE_book/CCyVE_book/_build/jupyter_execute/sources/notebooks_sources/modulo_ve/LSR_27_0.png"
      },
      "needs_background": "light"
     },
     "output_type": "display_data"
    }
   ],
   "source": [
    "ctrl.rlocus(G*Gm);"
   ]
  },
  {
   "cell_type": "markdown",
   "id": "adb122ed",
   "metadata": {},
   "source": [
    "Podemos ver en la figura, que se logran los objetivos seleccionados usando polos objetivos reales, uno lo podemos ibcar cerca de 5 y el otro queda cerca del cero, por lo que es esperable que no afecte demasiado el comportamiento."
   ]
  },
  {
   "cell_type": "code",
   "execution_count": 16,
   "id": "fce11c7f",
   "metadata": {},
   "outputs": [
    {
     "data": {
      "text/plain": [
       "array([-5.05852977, -3.3780581 ])"
      ]
     },
     "execution_count": 16,
     "metadata": {},
     "output_type": "execute_result"
    }
   ],
   "source": [
    "r, k = ctrl.rlocus(G*Gm, kvect=[32], plot=False)\n",
    "pobj= r[np.real(r)<0]\n",
    "pobj"
   ]
  },
  {
   "cell_type": "code",
   "execution_count": 17,
   "id": "3931d505",
   "metadata": {},
   "outputs": [
    {
     "data": {
      "text/plain": [
       "array([[  5.43658788, -15.08800749]])"
      ]
     },
     "execution_count": 17,
     "metadata": {},
     "output_type": "execute_result"
    }
   ],
   "source": [
    "K2 = ctrl.place(sys.A, sys.B, pobj)\n",
    "K2"
   ]
  },
  {
   "cell_type": "markdown",
   "id": "82fddaa6",
   "metadata": {},
   "source": [
    "Finalmente cerramos el lazo con esta ley de control"
   ]
  },
  {
   "cell_type": "code",
   "execution_count": 18,
   "id": "f6f382a2",
   "metadata": {},
   "outputs": [
    {
     "data": {
      "text/plain": [
       "array([-5.05852977, -3.3780581 ])"
      ]
     },
     "execution_count": 18,
     "metadata": {},
     "output_type": "execute_result"
    }
   ],
   "source": [
    "sys_ley_control2 = ctrl.ss(sys.A-sys.B@K2, [[0],[0]], sys.C, 0)\n",
    "sys_ley_control2.pole()"
   ]
  },
  {
   "cell_type": "markdown",
   "id": "9e677c9d",
   "metadata": {},
   "source": [
    "Podemos ver que el resutlado de esta ley de control tiene ganancias muy menores a la obtenida anteriormente.\n",
    "\n",
    "\n",
    "### Ley de control usando un $\\rho$ 10 veces más grande. \n",
    "\n",
    "Al hacer más grande a $\\rho$ se está pesando más las desviaciones del sistema medidas en $z(t)$ que el esfuerzo de control $u(t)$, por lo que es de esperar que este sistema sea bastante más rápido que el obtenido anteriormente. También es de esperar que los movimientos en $u(t)$ sean mayores.\n",
    "\n",
    "De lo dicho en la teoría, aumentar 10 veces el $\\rho$ es aumenta 10 veces el $k$ para cual se obtienen los polos del lugar simétrico de las raíces. \n",
    "\n",
    "El $\\rho$ obtenido en el punto anterior fue de 32. Entonces ahora usaremos un $\\rho$ de 320."
   ]
  },
  {
   "cell_type": "code",
   "execution_count": 19,
   "id": "4e5eb089",
   "metadata": {},
   "outputs": [
    {
     "data": {
      "text/plain": [
       "array([-17.77272212,  -3.02164665])"
      ]
     },
     "execution_count": 19,
     "metadata": {},
     "output_type": "execute_result"
    }
   ],
   "source": [
    "r, k = ctrl.rlocus(G*Gm, kvect=[320], plot=False)\n",
    "pobj= r[np.real(r)<0]\n",
    "pobj"
   ]
  },
  {
   "cell_type": "code",
   "execution_count": 20,
   "id": "1af51a12",
   "metadata": {},
   "outputs": [
    {
     "data": {
      "text/plain": [
       "array([[ 17.79436877, -51.70288633]])"
      ]
     },
     "execution_count": 20,
     "metadata": {},
     "output_type": "execute_result"
    }
   ],
   "source": [
    "K3 = ctrl.place(sys.A, sys.B, pobj)\n",
    "K3"
   ]
  },
  {
   "cell_type": "markdown",
   "id": "7a5918a4",
   "metadata": {},
   "source": [
    "Y definmos el sistema controlado:"
   ]
  },
  {
   "cell_type": "code",
   "execution_count": 21,
   "id": "183396a3",
   "metadata": {},
   "outputs": [
    {
     "data": {
      "text/plain": [
       "array([-17.77272212,  -3.02164665])"
      ]
     },
     "execution_count": 21,
     "metadata": {},
     "output_type": "execute_result"
    }
   ],
   "source": [
    "sys_ley_control3 = ctrl.ss(sys.A-sys.B@K3, [[0],[0]], sys.C, 0)\n",
    "sys_ley_control3.pole()"
   ]
  },
  {
   "cell_type": "markdown",
   "id": "92ae90ec",
   "metadata": {},
   "source": [
    "### Comparación usando de los 3 sistemas controlados\n",
    "\n",
    "Voy a redifinir los 3 sistemas controlados, para tener a la salida también la variable $u(t)$. Sabemos que la varaible $u(t)$ es $-\\mathbf{Kx}(t)$. Si quiero eso verlo en la salida, deberé redefinir la matriz $\\mathbf{C}$ de forma que tenga una fila más que sea $-\\mathbf{K}$. Por lo que la matriz $\\mathbf{C}$ será:"
   ]
  },
  {
   "cell_type": "code",
   "execution_count": 22,
   "id": "63c77745",
   "metadata": {},
   "outputs": [],
   "source": [
    "C1 = np.vstack((sys_ley_control1.C,-K1))\n",
    "sysf1=ctrl.ss(sys_ley_control1.A, \n",
    "                sys_ley_control1.B,\n",
    "                C1, [[0],[0]])\n",
    "\n",
    "C2 = np.vstack((sys_ley_control2.C,-K2))\n",
    "sysf2=ctrl.ss(sys_ley_control2.A, \n",
    "                sys_ley_control2.B,\n",
    "                C2, [[0],[0]])\n",
    "\n",
    "\n",
    "C3 = np.vstack((sys_ley_control3.C,-K3))\n",
    "sysf3=ctrl.ss(sys_ley_control3.A, \n",
    "                sys_ley_control3.B,\n",
    "                C3, [[0],[0]])"
   ]
  },
  {
   "cell_type": "markdown",
   "id": "3d9418c0",
   "metadata": {},
   "source": [
    "Ahora entonces podemos simular a condicones iniciales no nulas:"
   ]
  },
  {
   "cell_type": "code",
   "execution_count": 23,
   "id": "0ef7e21b",
   "metadata": {},
   "outputs": [],
   "source": [
    "t=np.linspace(0,2,501)\n",
    "x0=[1,1]\n",
    "t1,y1 = ctrl.initial_response(sysf1, T=t, X0=[1,1])\n",
    "t2,y2 = ctrl.initial_response(sysf2, T=t, X0=[1,1])\n",
    "t3,y3 = ctrl.initial_response(sysf3, T=t, X0=[1,1])"
   ]
  },
  {
   "cell_type": "code",
   "execution_count": 24,
   "id": "e03c2a0c",
   "metadata": {
    "tags": [
     "hide-input"
    ]
   },
   "outputs": [
    {
     "data": {
      "image/png": "[encoded data removed]",
      "text/plain": [
       "<Figure size 864x576 with 2 Axes>"
      ]
     },
     "metadata": {
      "filenames": {
       "image/png": "/home/runner/work/CCyVE_book/CCyVE_book/_build/jupyter_execute/sources/notebooks_sources/modulo_ve/LSR_42_0.png"
      },
      "needs_background": "light"
     },
     "output_type": "display_data"
    }
   ],
   "source": [
    "fig, ax = plt.subplots(2,1, figsize=(12,8))\n",
    "ax[0].plot(t1, y1[0,:], label=\"2do orden dominante\")\n",
    "ax[0].plot(t2, y2[0,:], label=\"SRL criterio 1\")\n",
    "ax[0].plot(t3, y3[0,:], label=\"SRL criterio 2\")\n",
    "ax[0].grid()\n",
    "ax[0].legend()\n",
    "ax[0].set_xlabel('Tiempo [seg]')\n",
    "ax[0].set_ylabel('y(t)')\n",
    "ax[1].plot(t1, y1[1,:], label=\"2do orden dominante\")\n",
    "ax[1].plot(t2, y2[1,:], label=\"SRL criterio 1\")\n",
    "ax[1].plot(t3, y3[1,:], label=\"SRL criterio 2\")\n",
    "ax[1].grid()\n",
    "ax[1].legend()\n",
    "ax[1].set_xlabel('Tiempo [seg]')\n",
    "ax[1].set_ylabel('u(t)');"
   ]
  },
  {
   "cell_type": "markdown",
   "id": "3e2d7387",
   "metadata": {},
   "source": [
    "Podemos ver, que el sistema al tener un cero nos arruinó lo que esperabamos del lazo segundo orden dominante.\n",
    "\n",
    "Por otro lado, el sistema obtenido con el primer criterio de SRL  no tiene sobrevalor, cumple (o está muy cerca de cumplir) con todas las especificaciones y usa una $u(t)$ significativamente menor que los otros dos casos. \n",
    "\n",
    "Para el segundo caso del criterio SRL vemos que el sistema converge mucho más rápido que los casos anteriores. Aún así tiene menores movimientos de $u(t)$ que el caso 1. Esto es por que la posición de los polos objetivos fué elegida siguiendo criterios de optimización. En cambio el caso 1, la posición de los polos fué elegida para que cumpla una respuesta transitoria (o especificaciones) arbitrarias."
   ]
  },
  {
   "cell_type": "code",
   "execution_count": null,
   "id": "a2ded860",
   "metadata": {},
   "outputs": [],
   "source": []
  }
 ],
 "metadata": {
  "jupytext": {
   "formats": "ipynb,md:myst",
   "text_representation": {
    "extension": ".md",
    "format_name": "myst",
    "format_version": 0.13,
    "jupytext_version": "1.10.3"
   }
  },
  "kernelspec": {
   "display_name": "Python 3 (ipykernel)",
   "language": "python",
   "name": "python3"
  },
  "language_info": {
   "codemirror_mode": {
    "name": "ipython",
    "version": 3
   },
   "file_extension": ".py",
   "mimetype": "text/x-python",
   "name": "python",
   "nbconvert_exporter": "python",
   "pygments_lexer": "ipython3",
   "version": "3.8.11"
  },
  "source_map": [
   13,
   25,
   69,
   73,
   77,
   82,
   86,
   90,
   98,
   102,
   106,
   110,
   114,
   121,
   126,
   129,
   133,
   135,
   142,
   145,
   149,
   152,
   156,
   163,
   167,
   170,
   174,
   180,
   182,
   186,
   192,
   195,
   199,
   202,
   215,
   221,
   224,
   228,
   231,
   237,
   253,
   257,
   265,
   283,
   291
  ]
 },
 "nbformat": 4,
 "nbformat_minor": 5
}