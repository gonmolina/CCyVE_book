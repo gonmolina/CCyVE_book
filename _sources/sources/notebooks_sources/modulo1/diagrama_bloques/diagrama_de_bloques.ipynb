{
 "cells": [
  {
   "cell_type": "markdown",
   "id": "5fe9fabe",
   "metadata": {},
   "source": [
    "# Diagramas de bloques"
   ]
  },
  {
   "cell_type": "markdown",
   "id": "99c035c4",
   "metadata": {},
   "source": [
    "## Diagrama de bloques: concepto\n",
    "\n",
    "Una forma esquemática de representar los sistemas de control es a través de los diagramas de bloques. En dicho diagrama identificamos los principales componentes como bloques, omitiendo detalles y mostrando la dirección principal de la información y la relación de causalidad entre componente y otro.\n",
    "\n",
    "En la siguiente figura podemos ver el diagrama de bloques genérico del sistema de control realimentado.\n",
    "\n",
    ":::{figure-md} diagrama-general\n",
    "\n",
    "<img style=\"display:block; margin-left: auto; margin-right: auto;\" src=\"fig1.png\" alt=\"sistema de control general\">\n",
    "\n",
    "Diagrama de control general de sistema controlado\n",
    ":::\n",
    "\n",
    "Decimos que este sistema está realimentado, por que podemos ver que usamos la salida, que para este caso en particular es la medición de temperatura, para calcular y/o modificar la entrada al sistema. En este diagrama de bloques el resultado del sensor de salida se compara, mediante una resta con el sensor de la referencia."
   ]
  },
  {
   "cell_type": "markdown",
   "id": "efd90dee",
   "metadata": {},
   "source": [
    "### Ejemplo de sistema de control representado por diagrama de bloques\n",
    "\n",
    "En la siguiente figura mostramos como ejemplo de diagrama de bloques el sistema de control de una caldera controlado por un termostato.\n",
    "\n",
    ":::{figure-md} diagrama-termostato\n",
    "\n",
    "<img style=\"display:block; margin-left: auto; margin-right: auto;\" src=\"fig2.png\" alt=\"sistema de control general\">\n",
    "\n",
    "Diagrama de control de temperatura\n",
    ":::"
   ]
  },
  {
   "cell_type": "markdown",
   "id": "0c8221e2",
   "metadata": {},
   "source": [
    "## Diagramas de bloques como representación matemática\n",
    "\n",
    "Los diagramas de bloques, no solo pueden ser conceptuales, sino que también pueden ser usados para representar matemáticamente los sistemas.\n",
    "\n",
    "En un diagrama de bloques cada bloque del diagrama representa matemáticamente una parte del sistema, y las lineas son las señales de entrada y de salida de cada una de las partes del sistema. Así el sistema es dividido en subsistemas más pequeños y fáciles de resolver."
   ]
  },
  {
   "cell_type": "markdown",
   "id": "b72065d5",
   "metadata": {},
   "source": [
    "## Reducción de los diagramas de bloques usando algebra de bloques\n",
    "\n",
    "Podemos encontrar diversos sistemas de control, representados con diagramas de bloques complejos. Dichos diagramas los podemos reducir a un simple bloque empleando las reglas del algebra de bloques.\n",
    "\n",
    "A continuación demostraremos estas reglas mediante operaciones algebraicas y mediante el uso de Python.\n",
    "\n",
    "El uso de Python para esto queda totalmente opcional para el alumno y no será calificado. En Python usaremos ``sympy``."
   ]
  },
  {
   "cell_type": "code",
   "execution_count": 1,
   "id": "58e49b96",
   "metadata": {},
   "outputs": [],
   "source": [
    "# opcionaL\n",
    "import sympy as sp\n",
    "sp.init_printing(use_latex=True)"
   ]
  },
  {
   "cell_type": "markdown",
   "id": "cb94054c",
   "metadata": {},
   "source": [
    "### Bloques en serie\n",
    "\n",
    ":::{figure-md} bloques-serie\n",
    "\n",
    "<img style=\"display:block; margin-left: auto; margin-right: auto;\" src=\"fig3.png\" width=\"350\" alt=\"Bloques en serie\">\n",
    "\n",
    "Bloques en serie\n",
    ":::\n",
    "\n",
    "$$ G(s) = \\frac{Y(s)}{U(s)} = \\frac{G2(s).X(s)}{U(s)} = \\frac{G2(s).(G1(s).U(s))}{U(s)} = {G1(s).G2(s)} $$"
   ]
  },
  {
   "cell_type": "code",
   "execution_count": 2,
   "id": "3d11c487",
   "metadata": {},
   "outputs": [
    {
     "name": "stderr",
     "output_type": "stream",
     "text": [
      "/usr/share/miniconda/lib/python3.8/site-packages/IPython/lib/latextools.py:126: MatplotlibDeprecationWarning: \n",
      "The to_png function was deprecated in Matplotlib 3.4 and will be removed two minor releases later. Use mathtext.math_to_image instead.\n",
      "  mt.to_png(f, s, fontsize=12, dpi=dpi, color=color)\n",
      "/usr/share/miniconda/lib/python3.8/site-packages/IPython/lib/latextools.py:126: MatplotlibDeprecationWarning: \n",
      "The to_rgba function was deprecated in Matplotlib 3.4 and will be removed two minor releases later. Use mathtext.math_to_image instead.\n",
      "  mt.to_png(f, s, fontsize=12, dpi=dpi, color=color)\n",
      "/usr/share/miniconda/lib/python3.8/site-packages/IPython/lib/latextools.py:126: MatplotlibDeprecationWarning: \n",
      "The to_mask function was deprecated in Matplotlib 3.4 and will be removed two minor releases later. Use mathtext.math_to_image instead.\n",
      "  mt.to_png(f, s, fontsize=12, dpi=dpi, color=color)\n",
      "/usr/share/miniconda/lib/python3.8/site-packages/IPython/lib/latextools.py:126: MatplotlibDeprecationWarning: \n",
      "The MathtextBackendBitmap class was deprecated in Matplotlib 3.4 and will be removed two minor releases later. Use mathtext.math_to_image instead.\n",
      "  mt.to_png(f, s, fontsize=12, dpi=dpi, color=color)\n"
     ]
    },
    {
     "data": {
      "image/png": "[encoded data removed]",
      "text/latex": [
       "$\\displaystyle G_{1} G_{2}$"
      ],
      "text/plain": [
       "G₁⋅G₂"
      ]
     },
     "execution_count": 2,
     "metadata": {
      "filenames": {
       "image/png": "/home/runner/work/CCyVE_book/CCyVE_book/_build/jupyter_execute/sources/notebooks_sources/modulo1/diagrama_bloques/diagrama_de_bloques_7_1.png"
      }
     },
     "output_type": "execute_result"
    }
   ],
   "source": [
    "# opcionaL\n",
    "(U, X, Y, G1, G2) = sp.symbols('U, X, Y, G1, G2')\n",
    "unknowns =  X, Y\n",
    "\n",
    "eqs = [# Blocks\n",
    "       X - G1*U,\n",
    "       Y - G2*X]\n",
    "sol = sp.solve(eqs, unknowns)\n",
    "sol[Y]/U"
   ]
  },
  {
   "cell_type": "markdown",
   "id": "552964bc",
   "metadata": {},
   "source": [
    "### Bloques en paralelo\n",
    "\n",
    ":::{figure-md} bloques-paralelo\n",
    "\n",
    "<img style=\"display:block; margin-left: auto; margin-right: auto;\" src=\"fig4.png\" alt=\"Bloques en serie\">\n",
    "\n",
    "Bloques en paralelo\n",
    "\n",
    ":::\n",
    "\n",
    "$$ G = \\frac{Y(s)}{U(s)} = \\frac{X1(s)+X2(s)}{U(s)} = \\frac{G1(s).U(s)+G2(s).U(s)}{U(s)} = \\frac{(G1(s)+G2(s)).U(s)}{U(s)} = G1(s) + G2(s) $$"
   ]
  },
  {
   "cell_type": "code",
   "execution_count": 3,
   "id": "2816818a",
   "metadata": {},
   "outputs": [
    {
     "data": {
      "image/png": "[encoded data removed]",
      "text/latex": [
       "$\\displaystyle \\frac{G_{1} U + G_{2} U}{U}$"
      ],
      "text/plain": [
       "G₁⋅U + G₂⋅U\n",
       "───────────\n",
       "     U     "
      ]
     },
     "execution_count": 3,
     "metadata": {
      "filenames": {
       "image/png": "/home/runner/work/CCyVE_book/CCyVE_book/_build/jupyter_execute/sources/notebooks_sources/modulo1/diagrama_bloques/diagrama_de_bloques_9_0.png"
      }
     },
     "output_type": "execute_result"
    }
   ],
   "source": [
    "# opcionaL\n",
    "(U, X1, X2, Y, G1, G2) = sp.symbols('U, X1, X2, Y, G1, G2')\n",
    "unknowns =  X1, X2, Y\n",
    "\n",
    "eqs = [# Bloques\n",
    "       X1 - G1*U,\n",
    "       X2 - G2*U,\n",
    "    # Sumadores\n",
    "        Y - (X1 + X2)]\n",
    "sol = sp.solve(eqs, unknowns)\n",
    "sol[Y]/U"
   ]
  },
  {
   "cell_type": "markdown",
   "id": "e0d73c0d",
   "metadata": {},
   "source": [
    "### Sistema realimentado\n",
    "\n",
    "$$X1(s)  = U(s) - X2(s) = U(s) - Y(s).G2(s) $$\n",
    "\n",
    "$$Y(s) = X1(s).G1(s) = \\left(U(s) - Y(s).G2(s)\\right).G1(s) = U(s).G1(s) - Y(s).G2(s).G1(s)$$\n",
    "\n",
    "$$Y.(1+G1(s).G2(s)) = U(s).G1(s)$$\n",
    "\n",
    "$$G = \\frac{Y(s)}{U(s)} =\\frac{G1(s)}{(1+G1(s).G2(s))}$$\n",
    "\n",
    ":::{figure-md} bloques-realimentados\n",
    "\n",
    "<img  style=\"display:block; margin-left: auto; margin-right: auto;\" alt=\"que es esto\" src=\"fig5.png\">\n",
    "\n",
    "Bloques realimentados\n",
    "\n",
    ":::"
   ]
  },
  {
   "cell_type": "code",
   "execution_count": 4,
   "id": "fb01ba85",
   "metadata": {},
   "outputs": [
    {
     "data": {
      "image/png": "[encoded data removed]",
      "text/latex": [
       "$\\displaystyle \\frac{G_{1}}{G_{1} G_{2} + 1}$"
      ],
      "text/plain": [
       "    G₁   \n",
       "─────────\n",
       "G₁⋅G₂ + 1"
      ]
     },
     "execution_count": 4,
     "metadata": {
      "filenames": {
       "image/png": "/home/runner/work/CCyVE_book/CCyVE_book/_build/jupyter_execute/sources/notebooks_sources/modulo1/diagrama_bloques/diagrama_de_bloques_11_0.png"
      }
     },
     "output_type": "execute_result"
    }
   ],
   "source": [
    "# opcionaL\n",
    "eqs = [# Bloques\n",
    "       X2 - G2*Y,\n",
    "        Y - G1*X1,\n",
    "    # Sumadores\n",
    "        X1 - (U - X2)]\n",
    "sol = sp.solve(eqs, unknowns)\n",
    "sol[Y]/U"
   ]
  },
  {
   "cell_type": "markdown",
   "id": "528fa677",
   "metadata": {},
   "source": [
    "Tomando la realimentación positiva en vez de negativa resulta"
   ]
  },
  {
   "cell_type": "code",
   "execution_count": 5,
   "id": "43844e7b",
   "metadata": {},
   "outputs": [
    {
     "data": {
      "image/png": "[encoded data removed]",
      "text/latex": [
       "$\\displaystyle - \\frac{G_{1}}{G_{1} G_{2} - 1}$"
      ],
      "text/plain": [
       "   -G₁   \n",
       "─────────\n",
       "G₁⋅G₂ - 1"
      ]
     },
     "execution_count": 5,
     "metadata": {
      "filenames": {
       "image/png": "/home/runner/work/CCyVE_book/CCyVE_book/_build/jupyter_execute/sources/notebooks_sources/modulo1/diagrama_bloques/diagrama_de_bloques_13_0.png"
      }
     },
     "output_type": "execute_result"
    }
   ],
   "source": [
    "# opcionaL\n",
    "eqs = [# Bloques\n",
    "       X2 - G2*Y,\n",
    "        Y - G1*X1,\n",
    "    # Sumadores\n",
    "        X1 - (U + X2)]\n",
    "sol = sp.solve(eqs, unknowns)\n",
    "sol[Y]/U"
   ]
  },
  {
   "cell_type": "markdown",
   "id": "73aa05fb",
   "metadata": {},
   "source": [
    "### Otras transformaciones útiles en el algebra de diagramas de bloque\n",
    "\n",
    ":::{figure-md} transformaciones-bloques\n",
    "\n",
    "<img style=\"display:block; margin-left: auto; margin-right: auto;\" alt=\"transformaciones útiles\" src=\"fig6.png\">\n",
    "\n",
    "Transformaciones útiles\n",
    "\n",
    "::::"
   ]
  },
  {
   "cell_type": "markdown",
   "id": "38fffb05",
   "metadata": {},
   "source": [
    "### Ejemplo de diagrama de bloques"
   ]
  },
  {
   "cell_type": "markdown",
   "id": "e724e13d",
   "metadata": {},
   "source": [
    "Tenemos el diagrama de bloques de la figura, el cual queremos reducir.\n",
    "\n",
    ":::{figure-md}\n",
    "\n",
    "<img style=\"display:block; margin-left: auto; margin-right: auto;\" alt=\"que es esto\" src=\"fig7.png\" >\n",
    "\n",
    "Ejemplo de simplificación de diagrama de bloques\n",
    "\n",
    ":::"
   ]
  },
  {
   "cell_type": "markdown",
   "id": "94cbb07f",
   "metadata": {},
   "source": [
    "#### Resolución a mano"
   ]
  },
  {
   "cell_type": "markdown",
   "id": "267ed949",
   "metadata": {},
   "source": [
    "En las siguientes dos figuras mostramos dos reducciones sucesivas al diagrama del ejemplo.\n",
    "\n",
    ":::{figure-md} primer-paso\n",
    "\n",
    "<img style=\"display:block; margin-left: auto; margin-right: auto;\" alt=\"ejemplo para simplificar\" src=\"fig8.png\" >\n",
    "\n",
    "Primer paso de simplificación\n",
    "\n",
    ":::"
   ]
  },
  {
   "cell_type": "markdown",
   "id": "43876c88",
   "metadata": {},
   "source": [
    ":::{figure-md} segundo-paso\n",
    "\n",
    "<img style=\"display:block; margin-left: auto; margin-right: auto;\" alt=\"ejemplo para simplificar\" src=\"fig9.png\" >\n",
    "\n",
    "Segundo paso de simplificación\n",
    "\n",
    ":::"
   ]
  },
  {
   "cell_type": "markdown",
   "id": "9b31eab8",
   "metadata": {},
   "source": [
    "Finalmente, en la siguiente figura obtenemos la función de transferencia $G(s) = \\dfrac{Y(s)}{R(s)}$:\n",
    "\n",
    "$$ G(s) = \\dfrac{Y(s)}{R(s)}=\\dfrac{\\dfrac{G_1.G_2}{1-G_1.G_3}}{1+\\dfrac{G_1G_2G_4}{1-G_1G_3}}\\left(G_5+\\frac{G_6}{G_2}\\right)$$\n",
    "\n",
    "$$ G(s)=\\dfrac{G_1G_2G_5+G_1G_6}{1-G_1G_3+G_1G_2G_4} $$"
   ]
  },
  {
   "cell_type": "markdown",
   "id": "6f35f974",
   "metadata": {},
   "source": [
    "#### (opcional) Resolución con Python"
   ]
  },
  {
   "cell_type": "markdown",
   "id": "fd8b13da",
   "metadata": {},
   "source": [
    "Definimos un símbolo de `Sympy` por cada una de las señales y bloques que se encuentran en el sistema. Esto se hace de la siguiente manera"
   ]
  },
  {
   "cell_type": "code",
   "execution_count": 6,
   "id": "385e0398",
   "metadata": {},
   "outputs": [],
   "source": [
    "(R, G1s, G2s, G3s, G4s, G5s, G6s, \n",
    "S1s, S2s, G1, G2, G3, G4, G5, G6, Y) = sp.symbols('R, G1s, G2s, G3s, G4s, G5s,'\n",
    "                                                 'G6s, S1s, S2s, G1, G2,G3, G4, G5, G6, Y')"
   ]
  },
  {
   "cell_type": "markdown",
   "id": "e81f8c47",
   "metadata": {},
   "source": [
    "Se definen las incógnitas del diagrama de bloques. Lo que se conoce del sistema son los bloques y las señales de entrada. Por lo tanto, lo que se desconoce, y se quiere averiguar, son las señales que no son entradas. Es decir:"
   ]
  },
  {
   "cell_type": "code",
   "execution_count": 7,
   "id": "b446fae2",
   "metadata": {},
   "outputs": [],
   "source": [
    "unknowns =  G1s, G2s, G3s, G4s, G5s, G6s, S1s, S2s, Y"
   ]
  },
  {
   "cell_type": "markdown",
   "id": "094a26e7",
   "metadata": {},
   "source": [
    "Finalmente tenemos que escribir las ecuaciones que vemos en el diagrama de bloques. Cada bloque define la señal de salida como producto de su transferencia por su entrada y cada sumador define su salida como suma o resta de sus entradas. Para el diagrama anterior se formulan las siguientes ecuaciones:"
   ]
  },
  {
   "cell_type": "code",
   "execution_count": 8,
   "id": "b46f8af2",
   "metadata": {
    "tags": [
     "output_scroll"
    ]
   },
   "outputs": [
    {
     "data": {
      "image/png": "[encoded data removed]",
      "text/latex": [
       "$\\displaystyle \\left\\{ G1s : \\frac{G_{1} R}{G_{1} G_{2} G_{4} - G_{1} G_{3} + 1}, \\  G2s : \\frac{G_{1} G_{2} R}{G_{1} G_{2} G_{4} - G_{1} G_{3} + 1}, \\  G3s : \\frac{G_{1} G_{3} R}{G_{1} G_{2} G_{4} - G_{1} G_{3} + 1}, \\  G4s : \\frac{G_{1} G_{2} G_{4} R}{G_{1} G_{2} G_{4} - G_{1} G_{3} + 1}, \\  G5s : \\frac{G_{1} G_{2} G_{5} R}{G_{1} G_{2} G_{4} - G_{1} G_{3} + 1}, \\  G6s : \\frac{G_{1} G_{6} R}{G_{1} G_{2} G_{4} - G_{1} G_{3} + 1}, \\  S1s : \\frac{- G_{1} G_{3} R + R}{G_{1} G_{2} G_{4} - G_{1} G_{3} + 1}, \\  S2s : \\frac{R}{G_{1} G_{2} G_{4} - G_{1} G_{3} + 1}, \\  Y : \\frac{G_{1} G_{2} G_{5} R + G_{1} G_{6} R}{G_{1} G_{2} G_{4} - G_{1} G_{3} + 1}\\right\\}$"
      ],
      "text/plain": [
       "⎧             G₁⋅R                     G₁⋅G₂⋅R                    G₁⋅G₃⋅R     \n",
       "⎨G1s: ────────────────────, G2s: ────────────────────, G3s: ──────────────────\n",
       "⎩     G₁⋅G₂⋅G₄ - G₁⋅G₃ + 1       G₁⋅G₂⋅G₄ - G₁⋅G₃ + 1       G₁⋅G₂⋅G₄ - G₁⋅G₃ +\n",
       "\n",
       "              G₁⋅G₂⋅G₄⋅R                 G₁⋅G₂⋅G₅⋅R                  G₁⋅G₆⋅R  \n",
       "──, G4s: ────────────────────, G5s: ────────────────────, G6s: ───────────────\n",
       " 1       G₁⋅G₂⋅G₄ - G₁⋅G₃ + 1       G₁⋅G₂⋅G₄ - G₁⋅G₃ + 1       G₁⋅G₂⋅G₄ - G₁⋅G\n",
       "\n",
       "                -G₁⋅G₃⋅R + R                    R               G₁⋅G₂⋅G₅⋅R + G\n",
       "─────, S1s: ────────────────────, S2s: ────────────────────, Y: ──────────────\n",
       "₃ + 1       G₁⋅G₂⋅G₄ - G₁⋅G₃ + 1       G₁⋅G₂⋅G₄ - G₁⋅G₃ + 1     G₁⋅G₂⋅G₄ - G₁⋅\n",
       "\n",
       "₁⋅G₆⋅R⎫\n",
       "──────⎬\n",
       "G₃ + 1⎭"
      ]
     },
     "execution_count": 8,
     "metadata": {
      "filenames": {
       "image/png": "/home/runner/work/CCyVE_book/CCyVE_book/_build/jupyter_execute/sources/notebooks_sources/modulo1/diagrama_bloques/diagrama_de_bloques_27_0.png"
      }
     },
     "output_type": "execute_result"
    }
   ],
   "source": [
    "eqs = [# Blocks\n",
    "       G1s - G1*S2s,\n",
    "       G2s - G2*G1s,\n",
    "       G6s - G6*G1s,\n",
    "       G5s - G5*G2s,\n",
    "       G4s - G4*G2s,\n",
    "       G3s - G3*G1s,\n",
    "       # Sums\n",
    "       S2s - (S1s + G3s),\n",
    "       S1s - (R - G4s),\n",
    "       Y - (G6s + G5s),\n",
    "       ]\n",
    "sol = sp.solve(eqs, unknowns)\n",
    "sol"
   ]
  },
  {
   "cell_type": "markdown",
   "id": "f16d4d63",
   "metadata": {},
   "source": [
    "Si queremos saber cuanto va a valer la salida un función de $R$ la obtenemos de la siguiente manera:"
   ]
  },
  {
   "cell_type": "code",
   "execution_count": 9,
   "id": "b1fb7ad1",
   "metadata": {},
   "outputs": [
    {
     "data": {
      "image/png": "[encoded data removed]",
      "text/latex": [
       "$\\displaystyle \\frac{G_{1} R \\left(G_{2} G_{5} + G_{6}\\right)}{G_{1} G_{2} G_{4} - G_{1} G_{3} + 1}$"
      ],
      "text/plain": [
       " G₁⋅R⋅(G₂⋅G₅ + G₆)  \n",
       "────────────────────\n",
       "G₁⋅G₂⋅G₄ - G₁⋅G₃ + 1"
      ]
     },
     "execution_count": 9,
     "metadata": {
      "filenames": {
       "image/png": "/home/runner/work/CCyVE_book/CCyVE_book/_build/jupyter_execute/sources/notebooks_sources/modulo1/diagrama_bloques/diagrama_de_bloques_29_0.png"
      }
     },
     "output_type": "execute_result"
    }
   ],
   "source": [
    "sol[Y].factor()"
   ]
  },
  {
   "cell_type": "markdown",
   "id": "395de8e3",
   "metadata": {},
   "source": [
    "En cambio si queremos la función transferencia entre la salida $Y$ y la entrada $R$ podemos hacer:"
   ]
  },
  {
   "cell_type": "code",
   "execution_count": 10,
   "id": "d25f6f39",
   "metadata": {},
   "outputs": [
    {
     "data": {
      "image/png": "[encoded data removed]",
      "text/latex": [
       "$\\displaystyle \\frac{G_{1} \\left(G_{2} G_{5} + G_{6}\\right)}{G_{1} G_{2} G_{4} - G_{1} G_{3} + 1}$"
      ],
      "text/plain": [
       "  G₁⋅(G₂⋅G₅ + G₆)   \n",
       "────────────────────\n",
       "G₁⋅G₂⋅G₄ - G₁⋅G₃ + 1"
      ]
     },
     "execution_count": 10,
     "metadata": {
      "filenames": {
       "image/png": "/home/runner/work/CCyVE_book/CCyVE_book/_build/jupyter_execute/sources/notebooks_sources/modulo1/diagrama_bloques/diagrama_de_bloques_31_0.png"
      }
     },
     "output_type": "execute_result"
    }
   ],
   "source": [
    "G=sol[Y]/R\n",
    "G.factor()"
   ]
  },
  {
   "cell_type": "markdown",
   "id": "3114e432",
   "metadata": {},
   "source": [
    "También podemos obtener la transferencia entre dos señales cualesquiera del diagrama anterior. Por ejemplo podemos obtener la transferencia entre $Y$ y $S2s$."
   ]
  },
  {
   "cell_type": "markdown",
   "id": "c3ed5fc8",
   "metadata": {},
   "source": [
    "Si queremos tener la función transferencia en $s$, debemos sustituir cada bloque por sus transferencia, (pongo valores cualquiera como funciones transferencias $G_1 \\ldots G_6$:"
   ]
  },
  {
   "cell_type": "code",
   "execution_count": 11,
   "id": "fcae4983",
   "metadata": {},
   "outputs": [
    {
     "data": {
      "image/png": "[encoded data removed]",
      "text/latex": [
       "$\\displaystyle \\frac{2 \\left(s + 2\\right)^{3}}{\\left(s + 3\\right) \\left(s^{5} + 6 s^{4} + 14 s^{3} + 25 s^{2} + 46 s + 39\\right)}$"
      ],
      "text/plain": [
       "                            3                  \n",
       "                   2⋅(s + 2)                   \n",
       "───────────────────────────────────────────────\n",
       "        ⎛ 5      4       3       2            ⎞\n",
       "(s + 3)⋅⎝s  + 6⋅s  + 14⋅s  + 25⋅s  + 46⋅s + 39⎠"
      ]
     },
     "execution_count": 11,
     "metadata": {
      "filenames": {
       "image/png": "/home/runner/work/CCyVE_book/CCyVE_book/_build/jupyter_execute/sources/notebooks_sources/modulo1/diagrama_bloques/diagrama_de_bloques_34_0.png"
      }
     },
     "output_type": "execute_result"
    }
   ],
   "source": [
    "s=sp.symbols('s')\n",
    "G=(sol[Y]/R).factor().subs([(G1,1/s),(G2,1/(s+1)),(G3,1/(s+2)**2),\n",
    "                                     (G4,(s+10)/(s+1)),(G5,(1/(s+3))),\n",
    "                             (G6,(1/(s**2+2*s+1)))])\n",
    "G.factor()"
   ]
  },
  {
   "cell_type": "code",
   "execution_count": 12,
   "id": "4ea4cebd",
   "metadata": {},
   "outputs": [
    {
     "data": {
      "image/png": "[encoded data removed]",
      "text/latex": [
       "$\\displaystyle \\frac{G_{1} \\left(G_{2} G_{5} + G_{6}\\right)}{G_{1} G_{2} G_{4} - G_{1} G_{3} + 1}$"
      ],
      "text/plain": [
       "  G₁⋅(G₂⋅G₅ + G₆)   \n",
       "────────────────────\n",
       "G₁⋅G₂⋅G₄ - G₁⋅G₃ + 1"
      ]
     },
     "execution_count": 12,
     "metadata": {
      "filenames": {
       "image/png": "/home/runner/work/CCyVE_book/CCyVE_book/_build/jupyter_execute/sources/notebooks_sources/modulo1/diagrama_bloques/diagrama_de_bloques_35_0.png"
      }
     },
     "output_type": "execute_result"
    }
   ],
   "source": [
    "(sol[Y]/R).factor()"
   ]
  }
 ],
 "metadata": {
  "jupytext": {
   "formats": "ipynb,md:myst",
   "text_representation": {
    "extension": ".md",
    "format_name": "myst",
    "format_version": 0.13,
    "jupytext_version": "1.11.0"
   }
  },
  "kernelspec": {
   "display_name": "Python 3",
   "language": "python",
   "name": "python3"
  },
  "language_info": {
   "codemirror_mode": {
    "name": "ipython",
    "version": 3
   },
   "file_extension": ".py",
   "mimetype": "text/x-python",
   "name": "python",
   "nbconvert_exporter": "python",
   "pygments_lexer": "ipython3",
   "version": "3.8.11"
  },
  "source_map": [
   13,
   17,
   34,
   47,
   55,
   65,
   69,
   82,
   92,
   106,
   118,
   138,
   147,
   151,
   160,
   172,
   176,
   188,
   192,
   204,
   214,
   222,
   226,
   230,
   234,
   238,
   240,
   244,
   261,
   265,
   267,
   271,
   274,
   278,
   282,
   290
  ]
 },
 "nbformat": 4,
 "nbformat_minor": 5
}