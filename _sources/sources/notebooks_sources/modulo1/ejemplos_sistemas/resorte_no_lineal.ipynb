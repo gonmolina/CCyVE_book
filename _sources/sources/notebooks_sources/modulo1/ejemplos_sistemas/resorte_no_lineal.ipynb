{
 "cells": [
  {
   "cell_type": "markdown",
   "id": "b09142c9",
   "metadata": {},
   "source": [
    "# Sistema masa resorte amortiguador"
   ]
  },
  {
   "cell_type": "markdown",
   "id": "76ff794f",
   "metadata": {},
   "source": [
    "## Ecuaciones de movimiento"
   ]
  },
  {
   "cell_type": "markdown",
   "id": "7ea3b248",
   "metadata": {},
   "source": [
    "Supongamos que el resorte no cumple la ley de Hook, sino que produce una fuerza que es:\n",
    "\n",
    "$$f_k = Kx^3$$"
   ]
  },
  {
   "cell_type": "markdown",
   "id": "2ada068d",
   "metadata": {},
   "source": [
    "Entonces las ecuaciones de movimiento son\n",
    "\n",
    "$$ ma(t) = F+mg - f_b - f_k \\implies m \\ddot x(t) = F + mg - b \\dot x(t) - K x^3(t)$$"
   ]
  },
  {
   "cell_type": "markdown",
   "id": "a0549227",
   "metadata": {},
   "source": [
    "Podemos escribir las ecuaciones de estado, suponiendo los estados son $\\dot x = x_1$ y $x = x_2$. Entonces resultan:\n",
    "\n",
    "$$\n",
    "  \\left\\{\n",
    "    \\begin{array}{ll}\n",
    "      \\dot x_1(t) =  & -\\dfrac{b}{m} x_1(t) - \\dfrac{K} {m} x_2^3(t) +\\dfrac{F(t)}{m} + g\\\\\n",
    "      \\dot x_2(t) =  & x_1(t)\n",
    "    \\end{array}\n",
    "  \\right.\n",
    "$$"
   ]
  },
  {
   "cell_type": "markdown",
   "id": "3654c46c",
   "metadata": {},
   "source": [
    "El objetivo es linealizar el sistema en torno al punto de operación. Vamos a obtener el punto de operación para $F=0$."
   ]
  },
  {
   "cell_type": "markdown",
   "id": "1c186390",
   "metadata": {},
   "source": [
    "Usaremos para este trabajo `SymPy` para que nos ayude con la matemática simbólica."
   ]
  },
  {
   "cell_type": "markdown",
   "id": "2b5dc7d4",
   "metadata": {},
   "source": [
    "## SymPy para la linealización\n",
    "\n",
    "Primero importamos el paquete de cálculo simbólico e inicializamos la forma en que este paquete mostrará las formulas en pantalla."
   ]
  },
  {
   "cell_type": "code",
   "execution_count": 1,
   "id": "6784069a",
   "metadata": {},
   "outputs": [],
   "source": [
    "import sympy as sp\n",
    "sp.init_printing()"
   ]
  },
  {
   "cell_type": "markdown",
   "id": "412ddb0d",
   "metadata": {},
   "source": [
    "Ahora definimos los símbolos que estará presentes en las ecuaciones y luego las ecuaciones usando estos símbolos"
   ]
  },
  {
   "cell_type": "code",
   "execution_count": 2,
   "id": "fa9d6947",
   "metadata": {},
   "outputs": [],
   "source": [
    "F, m,  g, K, b, x1, x2 = sp.symbols('F, m,  g, K, b, x1, x2')\n",
    "dx1 = -b/m*x1-K/m*x2**3+F/m+g\n",
    "dx2 = x1"
   ]
  },
  {
   "cell_type": "markdown",
   "id": "ccad4e38",
   "metadata": {},
   "source": [
    "Ahora vemos como muestra `SymPy` las ecuaciones"
   ]
  },
  {
   "cell_type": "code",
   "execution_count": 3,
   "id": "f5327877",
   "metadata": {},
   "outputs": [
    {
     "name": "stderr",
     "output_type": "stream",
     "text": [
      "/usr/share/miniconda/lib/python3.8/site-packages/IPython/lib/latextools.py:126: MatplotlibDeprecationWarning: \n",
      "The to_png function was deprecated in Matplotlib 3.4 and will be removed two minor releases later. Use mathtext.math_to_image instead.\n",
      "  mt.to_png(f, s, fontsize=12, dpi=dpi, color=color)\n",
      "/usr/share/miniconda/lib/python3.8/site-packages/IPython/lib/latextools.py:126: MatplotlibDeprecationWarning: \n",
      "The to_rgba function was deprecated in Matplotlib 3.4 and will be removed two minor releases later. Use mathtext.math_to_image instead.\n",
      "  mt.to_png(f, s, fontsize=12, dpi=dpi, color=color)\n",
      "/usr/share/miniconda/lib/python3.8/site-packages/IPython/lib/latextools.py:126: MatplotlibDeprecationWarning: \n",
      "The to_mask function was deprecated in Matplotlib 3.4 and will be removed two minor releases later. Use mathtext.math_to_image instead.\n",
      "  mt.to_png(f, s, fontsize=12, dpi=dpi, color=color)\n",
      "/usr/share/miniconda/lib/python3.8/site-packages/IPython/lib/latextools.py:126: MatplotlibDeprecationWarning: \n",
      "The MathtextBackendBitmap class was deprecated in Matplotlib 3.4 and will be removed two minor releases later. Use mathtext.math_to_image instead.\n",
      "  mt.to_png(f, s, fontsize=12, dpi=dpi, color=color)\n"
     ]
    },
    {
     "data": {
      "image/png": "[encoded data removed]",
      "text/latex": [
       "$\\displaystyle \\frac{F}{m} - \\frac{K x_{2}^{3}}{m} - \\frac{b x_{1}}{m} + g$"
      ],
      "text/plain": [
       "        3           \n",
       "F   K⋅x₂    b⋅x₁    \n",
       "─ - ───── - ──── + g\n",
       "m     m      m      "
      ]
     },
     "execution_count": 3,
     "metadata": {
      "filenames": {
       "image/png": "/home/runner/work/CCyVE_book/CCyVE_book/_build/jupyter_execute/sources/notebooks_sources/modulo1/ejemplos_sistemas/resorte_no_lineal_12_1.png"
      }
     },
     "output_type": "execute_result"
    }
   ],
   "source": [
    "dx1"
   ]
  },
  {
   "cell_type": "code",
   "execution_count": 4,
   "id": "f951145b",
   "metadata": {},
   "outputs": [],
   "source": [
    "ec_est=sp.Matrix([dx1,dx2])\n",
    "x=sp.Matrix([x1,x2])\n",
    "u = sp.Matrix([F])"
   ]
  },
  {
   "cell_type": "markdown",
   "id": "df8b229a",
   "metadata": {},
   "source": [
    "Recordando un poco lo visto en teoría, podemos resolver la linealización rápidamente obteniendo el Jacobiano de las ecuaciones de estado."
   ]
  },
  {
   "cell_type": "code",
   "execution_count": 5,
   "id": "60823dc4",
   "metadata": {},
   "outputs": [],
   "source": [
    "A = ec_est.jacobian(x)\n",
    "B = ec_est.jacobian(u)"
   ]
  },
  {
   "cell_type": "markdown",
   "id": "2cf9ab85",
   "metadata": {},
   "source": [
    "Veamos el resultado:"
   ]
  },
  {
   "cell_type": "code",
   "execution_count": 6,
   "id": "5176ebdd",
   "metadata": {},
   "outputs": [
    {
     "data": {
      "text/latex": [
       "$\\displaystyle \\left[\\begin{matrix}- \\frac{b}{m} & - \\frac{3 K x_{2}^{2}}{m}\\\\1 & 0\\end{matrix}\\right]$"
      ],
      "text/plain": [
       "⎡            2 ⎤\n",
       "⎢-b   -3⋅K⋅x₂  ⎥\n",
       "⎢───  ─────────⎥\n",
       "⎢ m       m    ⎥\n",
       "⎢              ⎥\n",
       "⎣ 1       0    ⎦"
      ]
     },
     "execution_count": 6,
     "metadata": {},
     "output_type": "execute_result"
    }
   ],
   "source": [
    "A"
   ]
  },
  {
   "cell_type": "code",
   "execution_count": 7,
   "id": "961dafe9",
   "metadata": {},
   "outputs": [
    {
     "data": {
      "text/latex": [
       "$\\displaystyle \\left[\\begin{matrix}\\frac{1}{m}\\\\0\\end{matrix}\\right]$"
      ],
      "text/plain": [
       "⎡1⎤\n",
       "⎢─⎥\n",
       "⎢m⎥\n",
       "⎢ ⎥\n",
       "⎣0⎦"
      ]
     },
     "execution_count": 7,
     "metadata": {},
     "output_type": "execute_result"
    }
   ],
   "source": [
    "B"
   ]
  },
  {
   "cell_type": "markdown",
   "id": "5b522ec4",
   "metadata": {},
   "source": [
    "El punto de equilibrio de un sistema es donde el sistema está quieto o permanece si variar nada. Para obtener el punto de equilibrio, por lo tanto tenemos que hacer que las variables de estados $x_1$ y$ x_2$ permanezcan constantes. Esto ocurre cuando todas las derivadas $\\dot x_1$ y $\\dot x_2$ son igual a 0 (el sistema esta quieto). Vamos a considerar en un primer momento $F=0$."
   ]
  },
  {
   "cell_type": "code",
   "execution_count": 8,
   "id": "0c0f3292",
   "metadata": {},
   "outputs": [
    {
     "data": {
      "image/png": "[encoded data removed]",
      "text/latex": [
       "$\\displaystyle \\left[ \\left\\{ x_{1} : 0, \\  x_{2} : \\sqrt[3]{\\frac{g m}{K}}\\right\\}, \\  \\left\\{ x_{1} : 0, \\  x_{2} : - \\frac{\\sqrt[3]{\\frac{g m}{K}}}{2} - \\frac{\\sqrt{3} i \\sqrt[3]{\\frac{g m}{K}}}{2}\\right\\}, \\  \\left\\{ x_{1} : 0, \\  x_{2} : - \\frac{\\sqrt[3]{\\frac{g m}{K}}}{2} + \\frac{\\sqrt{3} i \\sqrt[3]{\\frac{g m}{K}}}{2}\\right\\}\\right]$"
      ],
      "text/plain": [
       "⎡                        ⎧                 _____            _____⎫  ⎧         \n",
       "⎢                        ⎪                ╱ g⋅m            ╱ g⋅m ⎪  ⎪         \n",
       "⎢⎧               _____⎫  ⎪             3 ╱  ───    √3⋅ⅈ⋅3 ╱  ─── ⎪  ⎪         \n",
       "⎢⎪              ╱ g⋅m ⎪  ⎨             ╲╱    K          ╲╱    K  ⎬  ⎨         \n",
       "⎢⎨x₁: 0, x₂: 3 ╱  ─── ⎬, ⎪x₁: 0, x₂: - ───────── - ──────────────⎪, ⎪x₁: 0, x₂\n",
       "⎢⎪           ╲╱    K  ⎪  ⎪                 2             2       ⎪  ⎪         \n",
       "⎣⎩                    ⎭  ⎩                                       ⎭  ⎩         \n",
       "\n",
       "        _____            _____⎫⎤\n",
       "       ╱ g⋅m            ╱ g⋅m ⎪⎥\n",
       "    3 ╱  ───    √3⋅ⅈ⋅3 ╱  ─── ⎪⎥\n",
       "    ╲╱    K          ╲╱    K  ⎬⎥\n",
       ": - ───────── + ──────────────⎪⎥\n",
       "        2             2       ⎪⎥\n",
       "                              ⎭⎦"
      ]
     },
     "execution_count": 8,
     "metadata": {
      "filenames": {
       "image/png": "/home/runner/work/CCyVE_book/CCyVE_book/_build/jupyter_execute/sources/notebooks_sources/modulo1/ejemplos_sistemas/resorte_no_lineal_20_0.png"
      }
     },
     "output_type": "execute_result"
    }
   ],
   "source": [
    "ec_est_f0 = ec_est.subs([(F,0)]) # substituímos F con 0\n",
    "sol0 = sp.solve(ec_est_f0,(x1,x2), dict=True) # resolvemos X1, y x2\n",
    "sol0"
   ]
  },
  {
   "cell_type": "markdown",
   "id": "06d9617a",
   "metadata": {},
   "source": [
    "Me quedo solo con la solución real, por ser la única con sentido físico"
   ]
  },
  {
   "cell_type": "code",
   "execution_count": 9,
   "id": "a657134d",
   "metadata": {},
   "outputs": [
    {
     "data": {
      "image/png": "[encoded data removed]",
      "text/latex": [
       "$\\displaystyle \\left\\{ x_{1} : 0, \\  x_{2} : \\sqrt[3]{\\frac{g m}{K}}\\right\\}$"
      ],
      "text/plain": [
       "⎧               _____⎫\n",
       "⎪              ╱ g⋅m ⎪\n",
       "⎨x₁: 0, x₂: 3 ╱  ─── ⎬\n",
       "⎪           ╲╱    K  ⎪\n",
       "⎩                    ⎭"
      ]
     },
     "execution_count": 9,
     "metadata": {
      "filenames": {
       "image/png": "/home/runner/work/CCyVE_book/CCyVE_book/_build/jupyter_execute/sources/notebooks_sources/modulo1/ejemplos_sistemas/resorte_no_lineal_22_0.png"
      }
     },
     "output_type": "execute_result"
    }
   ],
   "source": [
    "sol0 = sol0[0]\n",
    "sol0"
   ]
  },
  {
   "cell_type": "code",
   "execution_count": 10,
   "id": "5f898c66",
   "metadata": {},
   "outputs": [
    {
     "data": {
      "text/latex": [
       "$\\displaystyle \\left[\\begin{matrix}\\frac{1}{m}\\\\0\\end{matrix}\\right]$"
      ],
      "text/plain": [
       "⎡1⎤\n",
       "⎢─⎥\n",
       "⎢m⎥\n",
       "⎢ ⎥\n",
       "⎣0⎦"
      ]
     },
     "execution_count": 10,
     "metadata": {},
     "output_type": "execute_result"
    }
   ],
   "source": [
    "A.subs(sol0)\n",
    "B.subs(sol0)"
   ]
  },
  {
   "cell_type": "markdown",
   "id": "92ec3f21",
   "metadata": {},
   "source": [
    "Podemos resolver también ahora si ponemos una $F=1$"
   ]
  },
  {
   "cell_type": "code",
   "execution_count": 11,
   "id": "3995e59d",
   "metadata": {
    "tags": []
   },
   "outputs": [
    {
     "data": {
      "image/png": "[encoded data removed]",
      "text/latex": [
       "$\\displaystyle \\left[ \\left\\{ x_{1} : 0, \\  x_{2} : \\sqrt[3]{\\frac{g m}{K} + \\frac{1}{K}}\\right\\}, \\  \\left\\{ x_{1} : 0, \\  x_{2} : - \\frac{\\sqrt[3]{\\frac{g m}{K} + \\frac{1}{K}}}{2} - \\frac{\\sqrt{3} i \\sqrt[3]{\\frac{g m}{K} + \\frac{1}{K}}}{2}\\right\\}, \\  \\left\\{ x_{1} : 0, \\  x_{2} : - \\frac{\\sqrt[3]{\\frac{g m}{K} + \\frac{1}{K}}}{2} + \\frac{\\sqrt{3} i \\sqrt[3]{\\frac{g m}{K} + \\frac{1}{K}}}{2}\\right\\}\\right]$"
      ],
      "text/plain": [
       "⎡                            ⎧                 _________            _________⎫\n",
       "⎢                            ⎪                ╱ g⋅m   1            ╱ g⋅m   1 ⎪\n",
       "⎢⎧               _________⎫  ⎪             3 ╱  ─── + ─    √3⋅ⅈ⋅3 ╱  ─── + ─ ⎪\n",
       "⎢⎪              ╱ g⋅m   1 ⎪  ⎨             ╲╱    K    K         ╲╱    K    K ⎬\n",
       "⎢⎨x₁: 0, x₂: 3 ╱  ─── + ─ ⎬, ⎪x₁: 0, x₂: - ───────────── - ──────────────────⎪\n",
       "⎢⎪           ╲╱    K    K ⎪  ⎪                   2                 2         ⎪\n",
       "⎣⎩                        ⎭  ⎩                                               ⎭\n",
       "\n",
       "  ⎧                 _________            _________⎫⎤\n",
       "  ⎪                ╱ g⋅m   1            ╱ g⋅m   1 ⎪⎥\n",
       "  ⎪             3 ╱  ─── + ─    √3⋅ⅈ⋅3 ╱  ─── + ─ ⎪⎥\n",
       "  ⎨             ╲╱    K    K         ╲╱    K    K ⎬⎥\n",
       ", ⎪x₁: 0, x₂: - ───────────── + ──────────────────⎪⎥\n",
       "  ⎪                   2                 2         ⎪⎥\n",
       "  ⎩                                               ⎭⎦"
      ]
     },
     "execution_count": 11,
     "metadata": {
      "filenames": {
       "image/png": "/home/runner/work/CCyVE_book/CCyVE_book/_build/jupyter_execute/sources/notebooks_sources/modulo1/ejemplos_sistemas/resorte_no_lineal_25_0.png"
      }
     },
     "output_type": "execute_result"
    }
   ],
   "source": [
    "ec_est_f1 = ec_est.subs([(F,1)]) \n",
    "sol1 = sp.solve(ec_est_f1,(x1,x2),dict=True)\n",
    "sol1"
   ]
  },
  {
   "cell_type": "markdown",
   "id": "13ee1f17",
   "metadata": {},
   "source": [
    "Me quedo con la única solución real posible que es la primera (recodar que python indexa de 0)."
   ]
  },
  {
   "cell_type": "code",
   "execution_count": 12,
   "id": "a6b8d621",
   "metadata": {},
   "outputs": [
    {
     "data": {
      "text/latex": [
       "$\\displaystyle \\left( \\left[\\begin{matrix}- \\frac{b}{m} & - \\frac{3 K \\left(\\frac{g m}{K} + \\frac{1}{K}\\right)^{\\frac{2}{3}}}{m}\\\\1 & 0\\end{matrix}\\right], \\  \\left[\\begin{matrix}\\frac{1}{m}\\\\0\\end{matrix}\\right]\\right)$"
      ],
      "text/plain": [
       "⎛⎡                   2/3 ⎤     ⎞\n",
       "⎜⎢          ⎛g⋅m   1⎞    ⎥     ⎟\n",
       "⎜⎢     -3⋅K⋅⎜─── + ─⎟    ⎥  ⎡1⎤⎟\n",
       "⎜⎢-b        ⎝ K    K⎠    ⎥  ⎢─⎥⎟\n",
       "⎜⎢───  ──────────────────⎥, ⎢m⎥⎟\n",
       "⎜⎢ m           m         ⎥  ⎢ ⎥⎟\n",
       "⎜⎢                       ⎥  ⎣0⎦⎟\n",
       "⎝⎣ 1           0         ⎦     ⎠"
      ]
     },
     "execution_count": 12,
     "metadata": {},
     "output_type": "execute_result"
    }
   ],
   "source": [
    "sol1 = sol1[0]\n",
    "A.subs(sol1), B.subs(sol1) "
   ]
  },
  {
   "cell_type": "markdown",
   "id": "3e4d9cb3",
   "metadata": {},
   "source": [
    "Vemos que esta es una matriz que posee símbolos. Para poder usarla con el paquete de control, debemos pasarla a una matriz puramente numérica. esto lo haremos substituyendo los símbolos por valores"
   ]
  },
  {
   "cell_type": "code",
   "execution_count": 13,
   "id": "88578f31",
   "metadata": {},
   "outputs": [],
   "source": [
    "An=A.subs(sol1).subs([(b,1),(K,2),(m,3),(g,9.8)])\n",
    "Bn=B.subs(sol1).subs([(b,1),(K,2),(m,3),(g,9.8)])"
   ]
  },
  {
   "cell_type": "markdown",
   "id": "43ec8f5a",
   "metadata": {},
   "source": [
    "Ahora veamos los resultados"
   ]
  },
  {
   "cell_type": "code",
   "execution_count": 14,
   "id": "4f17c966",
   "metadata": {},
   "outputs": [
    {
     "data": {
      "text/latex": [
       "$\\displaystyle \\left[\\begin{matrix}- \\frac{1}{3} & -12.2722931550313\\\\1 & 0\\end{matrix}\\right]$"
      ],
      "text/plain": [
       "⎡-1/3  -12.2722931550313⎤\n",
       "⎢                       ⎥\n",
       "⎣ 1            0        ⎦"
      ]
     },
     "execution_count": 14,
     "metadata": {},
     "output_type": "execute_result"
    }
   ],
   "source": [
    "An"
   ]
  },
  {
   "cell_type": "code",
   "execution_count": 15,
   "id": "a9dc0ce4",
   "metadata": {},
   "outputs": [
    {
     "data": {
      "text/latex": [
       "$\\displaystyle \\left[\\begin{matrix}\\frac{1}{3}\\\\0\\end{matrix}\\right]$"
      ],
      "text/plain": [
       "⎡1/3⎤\n",
       "⎢   ⎥\n",
       "⎣ 0 ⎦"
      ]
     },
     "execution_count": 15,
     "metadata": {},
     "output_type": "execute_result"
    }
   ],
   "source": [
    "Bn"
   ]
  },
  {
   "cell_type": "markdown",
   "id": "f8a7db6f",
   "metadata": {},
   "source": [
    "Analicemos un poco que son Bn y An"
   ]
  },
  {
   "cell_type": "code",
   "execution_count": 16,
   "id": "52c19a77",
   "metadata": {},
   "outputs": [
    {
     "data": {
      "text/plain": [
       "sympy.matrices.dense.MutableDenseMatrix"
      ]
     },
     "execution_count": 16,
     "metadata": {},
     "output_type": "execute_result"
    }
   ],
   "source": [
    "type(An)"
   ]
  },
  {
   "cell_type": "markdown",
   "id": "79d35c4a",
   "metadata": {},
   "source": [
    "Esto nos dice que es un objeto de tipo simbólico. Para poder usarlo aún debemos pasarlo a un tipo numérico."
   ]
  },
  {
   "cell_type": "markdown",
   "id": "9867aff3",
   "metadata": {},
   "source": [
    "## Utilización numérica de los resultados simbólicos"
   ]
  },
  {
   "cell_type": "code",
   "execution_count": 17,
   "id": "43cf3140",
   "metadata": {
    "tags": [
     "hide-input"
    ]
   },
   "outputs": [],
   "source": [
    "import numpy as np\n",
    "import control as ctrl\n",
    "import matplotlib.pyplot as plt\n",
    "# descomentar la siguiente linea para ver la imagen e una ventana emergente\n",
    "# %matplotlib qt5"
   ]
  },
  {
   "cell_type": "code",
   "execution_count": 18,
   "id": "8a7d1b4f",
   "metadata": {},
   "outputs": [],
   "source": [
    "A1 = np.float64(An)\n",
    "B1 = np.float64(Bn)"
   ]
  },
  {
   "cell_type": "markdown",
   "id": "507cc369",
   "metadata": {},
   "source": [
    "Chequeemos ahora el tipo de datos de la matriz A1:"
   ]
  },
  {
   "cell_type": "code",
   "execution_count": 19,
   "id": "84dbe35f",
   "metadata": {},
   "outputs": [
    {
     "data": {
      "text/plain": [
       "numpy.ndarray"
      ]
     },
     "execution_count": 19,
     "metadata": {},
     "output_type": "execute_result"
    }
   ],
   "source": [
    "type(A1)"
   ]
  },
  {
   "cell_type": "markdown",
   "id": "cb564f3b",
   "metadata": {},
   "source": [
    "Vemos que ahora es de tipo `ndarray` de numpy, que es software de algebra numérico  (no simbólico). Este tipo de datos es aceptado por el paquete de control, por lo que podemos usar las matrices A1 y B1 para definir nuestro sistema en espacio de estados."
   ]
  },
  {
   "cell_type": "code",
   "execution_count": 20,
   "id": "5df9eff6",
   "metadata": {},
   "outputs": [],
   "source": [
    "sys = ctrl.ss(A1,B1,[0,1],0)"
   ]
  },
  {
   "cell_type": "markdown",
   "id": "5f34c7c0",
   "metadata": {},
   "source": [
    "Con este modelo podemos fácilmente simular la respuesta al escalón"
   ]
  },
  {
   "cell_type": "code",
   "execution_count": 21,
   "id": "e55297f1",
   "metadata": {},
   "outputs": [],
   "source": [
    "t,y = ctrl.step_response(sys, T=np.linspace(0,40,1000))"
   ]
  },
  {
   "cell_type": "markdown",
   "id": "c3c6e17a",
   "metadata": {},
   "source": [
    "Ahora utilizaremos lo visto en el cuaderno de figuras"
   ]
  },
  {
   "cell_type": "code",
   "execution_count": 22,
   "id": "d9a949c7",
   "metadata": {
    "tags": [
     "hide-input"
    ]
   },
   "outputs": [
    {
     "data": {
      "image/png": "[encoded data removed]",
      "text/plain": [
       "<Figure size 720x288 with 1 Axes>"
      ]
     },
     "metadata": {
      "filenames": {
       "image/png": "/home/runner/work/CCyVE_book/CCyVE_book/_build/jupyter_execute/sources/notebooks_sources/modulo1/ejemplos_sistemas/resorte_no_lineal_46_0.png"
      },
      "needs_background": "light"
     },
     "output_type": "display_data"
    }
   ],
   "source": [
    "fig = plt.figure(figsize=(10, 4))\n",
    "ax = fig.add_axes([0.1, 0.1, 0.8, 0.8])\n",
    "ax.plot(t,y)\n",
    "ax.set_title('Respuesta al escalón')\n",
    "ax.set_xlabel('Tiempo [s]')\n",
    "ax.set_ylabel('Posición $x$');\n",
    "ax.grid()"
   ]
  },
  {
   "cell_type": "markdown",
   "id": "34ba4e74",
   "metadata": {},
   "source": [
    "## Simulación No-Lineal"
   ]
  },
  {
   "cell_type": "markdown",
   "id": "7e648986",
   "metadata": {},
   "source": [
    "Primero debemos definir el sistema no lineal en una función para que después podamos integrarlo con los métodos de integración del paquete scipy (otro paquete más de Python)."
   ]
  },
  {
   "cell_type": "code",
   "execution_count": 23,
   "id": "7a63701d",
   "metadata": {},
   "outputs": [],
   "source": [
    "def resorte_no_lineal(t, x, b=1, m=3, K=2, g=9.8, step_amp=1):\n",
    "    F=1+step_amp # Hacemos la entrada igual a 2 ya que al sistema lineal le aplicamos \n",
    "                 # un escalón unitario sobre el punto de trabajo que era F=1\n",
    "    x1,x2 = x\n",
    "    dx1 = -b/m*x1-K/m*x2**3+F/m+g\n",
    "    dx2 = x1\n",
    "    return dx1, dx2"
   ]
  },
  {
   "cell_type": "markdown",
   "id": "41c683b1",
   "metadata": {},
   "source": [
    "Para comenzar necesitamos también los valores numéricos de las condiciones iniciales"
   ]
  },
  {
   "cell_type": "code",
   "execution_count": 24,
   "id": "b5fe0133",
   "metadata": {},
   "outputs": [
    {
     "name": "stderr",
     "output_type": "stream",
     "text": [
      "/usr/share/miniconda/lib/python3.8/site-packages/IPython/lib/latextools.py:126: MatplotlibDeprecationWarning: \n",
      "The to_png function was deprecated in Matplotlib 3.4 and will be removed two minor releases later. Use mathtext.math_to_image instead.\n",
      "  mt.to_png(f, s, fontsize=12, dpi=dpi, color=color)\n",
      "/usr/share/miniconda/lib/python3.8/site-packages/IPython/lib/latextools.py:126: MatplotlibDeprecationWarning: \n",
      "The to_rgba function was deprecated in Matplotlib 3.4 and will be removed two minor releases later. Use mathtext.math_to_image instead.\n",
      "  mt.to_png(f, s, fontsize=12, dpi=dpi, color=color)\n",
      "/usr/share/miniconda/lib/python3.8/site-packages/IPython/lib/latextools.py:126: MatplotlibDeprecationWarning: \n",
      "The to_mask function was deprecated in Matplotlib 3.4 and will be removed two minor releases later. Use mathtext.math_to_image instead.\n",
      "  mt.to_png(f, s, fontsize=12, dpi=dpi, color=color)\n",
      "/usr/share/miniconda/lib/python3.8/site-packages/IPython/lib/latextools.py:126: MatplotlibDeprecationWarning: \n",
      "The MathtextBackendBitmap class was deprecated in Matplotlib 3.4 and will be removed two minor releases later. Use mathtext.math_to_image instead.\n",
      "  mt.to_png(f, s, fontsize=12, dpi=dpi, color=color)\n"
     ]
    },
    {
     "data": {
      "image/png": "[encoded data removed]",
      "text/latex": [
       "$\\displaystyle \\left( 0.0, \\  2.47712465926034\\right)$"
      ],
      "text/plain": [
       "(0.0, 2.4771246592603418)"
      ]
     },
     "execution_count": 24,
     "metadata": {
      "filenames": {
       "image/png": "/home/runner/work/CCyVE_book/CCyVE_book/_build/jupyter_execute/sources/notebooks_sources/modulo1/ejemplos_sistemas/resorte_no_lineal_51_1.png"
      }
     },
     "output_type": "execute_result"
    }
   ],
   "source": [
    "x0 = np.float64(sol1[x1].subs([(b,1),(K,2),(m,3),(g,9.8)])), np.float64(sol1[x2].subs([(b,1),(K,2),(m,3),(g,9.8)]))\n",
    "x0"
   ]
  },
  {
   "cell_type": "code",
   "execution_count": 25,
   "id": "049b12c8",
   "metadata": {},
   "outputs": [],
   "source": [
    "import scipy.integrate as integ\n",
    "tspan = (0, 40)\n",
    "t1= np.linspace(*tspan, 1000)\n",
    "\n",
    "def simulate():\n",
    "    r = integ.solve_ivp(resorte_no_lineal, tspan, x0, t_eval=t1)\n",
    "    return r.y\n",
    "\n",
    "x1,x2 = simulate()"
   ]
  },
  {
   "cell_type": "markdown",
   "id": "16ed36ac",
   "metadata": {},
   "source": [
    "Ahora veamos los resultados de la simulación del sistema no lineal"
   ]
  },
  {
   "cell_type": "code",
   "execution_count": 26,
   "id": "646a2653",
   "metadata": {
    "tags": [
     "hide-input"
    ]
   },
   "outputs": [
    {
     "data": {
      "image/png": "[encoded data removed]",
      "text/plain": [
       "<Figure size 720x288 with 1 Axes>"
      ]
     },
     "metadata": {
      "filenames": {
       "image/png": "/home/runner/work/CCyVE_book/CCyVE_book/_build/jupyter_execute/sources/notebooks_sources/modulo1/ejemplos_sistemas/resorte_no_lineal_54_0.png"
      },
      "needs_background": "light"
     },
     "output_type": "display_data"
    }
   ],
   "source": [
    "fig = plt.figure(figsize=(10, 4))\n",
    "ax = fig.add_axes([0.1, 0.1, 0.8, 0.8])\n",
    "ax.plot(t1,x2, label='$x$')\n",
    "ax.set_title('Respuesta al escalón')\n",
    "ax.set_xlabel('Tiempo [s]')\n",
    "ax.set_ylabel('Posición $x$')\n",
    "ax.legend()\n",
    "ax.grid();"
   ]
  },
  {
   "cell_type": "markdown",
   "id": "b2b8b07a",
   "metadata": {},
   "source": [
    "Para poder evaluar las diferencias me falta agregarle a la salida del sistema lineal el valor de equilibrio."
   ]
  },
  {
   "cell_type": "code",
   "execution_count": 27,
   "id": "bdf93cce",
   "metadata": {},
   "outputs": [],
   "source": [
    "yc = y+x0[1]"
   ]
  },
  {
   "cell_type": "code",
   "execution_count": 28,
   "id": "d67f17cc",
   "metadata": {
    "tags": [
     "hide-input"
    ]
   },
   "outputs": [
    {
     "data": {
      "image/png": "[encoded data removed]",
      "text/plain": [
       "<Figure size 720x288 with 1 Axes>"
      ]
     },
     "metadata": {
      "filenames": {
       "image/png": "/home/runner/work/CCyVE_book/CCyVE_book/_build/jupyter_execute/sources/notebooks_sources/modulo1/ejemplos_sistemas/resorte_no_lineal_57_0.png"
      },
      "needs_background": "light"
     },
     "output_type": "display_data"
    }
   ],
   "source": [
    "fig = plt.figure(figsize=(10, 4))\n",
    "ax = fig.add_axes([0.1, 0.1, 0.8, 0.8])\n",
    "ax.plot(t,yc, label=r'$x$ del sistema linealizado')\n",
    "ax.plot(t1, x2, label=r'$x$ del sistema no lienal', alpha=0.6)\n",
    "ax.set_title('Respuesta al escalón')\n",
    "ax.set_xlabel('Tiempo [s]')\n",
    "ax.set_ylabel('Posición $x$')\n",
    "ax.legend()\n",
    "ax.grid();"
   ]
  },
  {
   "cell_type": "markdown",
   "id": "fca6161e",
   "metadata": {},
   "source": [
    "Podemos ver que la respuesta al escalón del sistema lineal y del sistema no lineal dan bastante parecidos.\n",
    "\n",
    "Dejamos como ejercicio al lector evaluar que sucede si el escalón es más grande (5 o 10 veces más grande)."
   ]
  },
  {
   "cell_type": "code",
   "execution_count": null,
   "id": "662661ce",
   "metadata": {},
   "outputs": [],
   "source": []
  }
 ],
 "metadata": {
  "jupytext": {
   "formats": "ipynb,md:myst",
   "text_representation": {
    "extension": ".md",
    "format_name": "myst",
    "format_version": 0.13,
    "jupytext_version": "1.11.0"
   }
  },
  "kernelspec": {
   "display_name": "Python 3",
   "language": "python",
   "name": "python3"
  },
  "language_info": {
   "codemirror_mode": {
    "name": "ipython",
    "version": 3
   },
   "file_extension": ".py",
   "mimetype": "text/x-python",
   "name": "python",
   "nbconvert_exporter": "python",
   "pygments_lexer": "ipython3",
   "version": "3.8.11"
  },
  "source_map": [
   13,
   17,
   21,
   27,
   33,
   46,
   50,
   54,
   60,
   63,
   67,
   71,
   75,
   79,
   83,
   87,
   90,
   94,
   98,
   100,
   104,
   108,
   112,
   117,
   120,
   124,
   130,
   134,
   137,
   141,
   144,
   148,
   152,
   154,
   158,
   160,
   164,
   168,
   178,
   181,
   185,
   187,
   191,
   193,
   197,
   199,
   203,
   213,
   217,
   221,
   229,
   233,
   238,
   248,
   252,
   263,
   267,
   271,
   283,
   289
  ]
 },
 "nbformat": 4,
 "nbformat_minor": 5
}