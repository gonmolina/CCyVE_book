{
 "cells": [
  {
   "cell_type": "markdown",
   "id": "eb67fce3",
   "metadata": {},
   "source": [
    "# Transformada de Laplace"
   ]
  },
  {
   "cell_type": "markdown",
   "id": "315e5400",
   "metadata": {
    "lang": "es"
   },
   "source": [
    "## Definición\n",
    "\n",
    "Es una función matemática que utilizaremos para transformar señales en el dominio temporal a un dominio de frecuencia generalizada, que llamaremos dominio transformado de *Laplace*.\n",
    "\n",
    "La transformada de Laplace se define como\n",
    "\n",
    "$$F(s) = \\mathcal{L}\\{f(t)\\} = \\int_0^\\infty f(t) e^{-st} \\mathrm{dt}$$\n",
    "\n",
    "donde $s$ es una variable compleja $s = \\sigma + j\\omega$."
   ]
  },
  {
   "cell_type": "markdown",
   "id": "4862c789",
   "metadata": {
    "slideshow": {
     "slide_type": "slide"
    }
   },
   "source": [
    "## Antitransformada de Laplace\n",
    "\n",
    "Se puede demostrar que teniendo la función transformada $F(s)$, se puede recuperar la función en el dominio temporal $f(t)$ aplicando la antitransformada de Laplace:\n",
    "\n",
    "$$f(t)=\\mathcal{L}^{-1}\\{F(s)\\} =\\frac{1}{2\\pi j} \\int_{\\sigma-j\\omega}^{\\sigma+j\\omega} F(s) e^{st} ds .$$"
   ]
  },
  {
   "cell_type": "markdown",
   "id": "b1c5d749",
   "metadata": {},
   "source": [
    ":::{figure-md} tabla-transformadas\n",
    "\n",
    "<img style=\"display:block; margin-left: auto; margin-right: auto;\" src=\"bg2.png\" width=\"600px\" alt=\"Tabla de transformadas de Laplace\">\n",
    "\n",
    "Tabla de transformas de Laplace\n",
    "\n",
    ":::"
   ]
  },
  {
   "cell_type": "markdown",
   "id": "599f4f8b",
   "metadata": {},
   "source": [
    "## Propiedades de la Transformada de Laplace\n",
    "\n",
    "- **Linealidad**: $\\mathcal{L}\\{kf(t)\\} = k F(s)$; $\\mathcal{L}\\{f_1(t)+f_2(t)\\} = F_1(s)+F_2(s)$\n",
    "- **Corrimiento en frecuencia**: $\\mathcal{L}\\{e^{-at}f(t)\\}=F(s+a)$\n",
    "- **Corrimiento en el tiempo**: $\\mathcal{L}\\{f(t-T)\\}=e^{-sT}F(s)$\n",
    "- **Escaleo Temporal**: $\\mathcal{L}\\{f(at)\\}=\\dfrac{1}{a}e^{-sT}F\\left(\\dfrac{s}{a}\\right)$"
   ]
  },
  {
   "cell_type": "markdown",
   "id": "d88e7ac7",
   "metadata": {},
   "source": [
    "- **Derivada**: $\\mathcal{L}\\left\\{\\dfrac{df(t)}{dt}\\right\\}=sF(s)-f(0)$\n",
    "- **Derivada segunda**: $\\mathcal{L} \\left\\{ \\dfrac{d^2f(t)}{dt^2} \\right\\}=s^2F(s)-sf(0)-f'(0);$\n",
    "- **Derivada de orden n**: $\\mathcal{L} \\left\\{ \\dfrac{d^nf(t)}{dt^n} \\right\\}= s^n F(s)- s^{n-1}f(0) - s^{n-2}f'(0) - \\ldots - sf^{n-2}(0)-f^{n-1}(0)$\n",
    "- **Integral**: $\\mathcal{L} \\left\\{ \\int_0^tf(\\tau)d\\tau \\right\\} =\\dfrac{F(s)}{s}$\n",
    "- **Teorema de valor final**: $f(\\infty)=\\lim_{s\\rightarrow 0}sF(s)$\n",
    "- **Teorema de valor inicial**: $f(0)=\\lim_{s\\rightarrow \\infty}sF(s)$\n",
    "\n",
    "El **teorema del valor final** lo estaremos usando en las próximas clases para analizar que sucede con la salida de cun sistema luego de un tiempo muy largo (infinito)."
   ]
  },
  {
   "cell_type": "markdown",
   "id": "c96acf9d",
   "metadata": {},
   "source": [
    "## Cálculo de la transformada de Laplace mediante SymPy\n",
    "\n",
    "Durante el transcurso de este curso utilizaremos las tablas para las obtener la transformada y antitransformada de Laplace. Sin embargo, aquí se presenta como material adicional para quien le interese, la forma de obtener estas funciones mediante el uso de `SymPy`"
   ]
  },
  {
   "cell_type": "code",
   "execution_count": 1,
   "id": "c13fba39",
   "metadata": {},
   "outputs": [],
   "source": [
    "import sympy as sp\n",
    "sp.init_printing()"
   ]
  },
  {
   "cell_type": "code",
   "execution_count": 2,
   "id": "db4a784d",
   "metadata": {},
   "outputs": [],
   "source": [
    "import matplotlib.pyplot as plt\n",
    "%matplotlib inline"
   ]
  },
  {
   "cell_type": "markdown",
   "id": "ab665a1c",
   "metadata": {
    "lang": "es"
   },
   "source": [
    "Vamos a definir algunos símbolos para trabajar. Aquí usamos `Symbol` para poder especificar los dominios y las restricciones en los símbolos."
   ]
  },
  {
   "cell_type": "code",
   "execution_count": 3,
   "id": "e27503ad",
   "metadata": {},
   "outputs": [],
   "source": [
    "t = sp.Symbol('t')\n",
    "s = sp.Symbol('s')\n",
    "a = sp.Symbol('a', real=True, positive=True)"
   ]
  },
  {
   "cell_type": "markdown",
   "id": "378cd99c",
   "metadata": {
    "lang": "es"
   },
   "source": [
    "Comenzamos con una función simple."
   ]
  },
  {
   "cell_type": "code",
   "execution_count": 4,
   "id": "80dd1c66",
   "metadata": {},
   "outputs": [
    {
     "name": "stderr",
     "output_type": "stream",
     "text": [
      "/opt/hostedtoolcache/Python/3.8.12/x64/lib/python3.8/site-packages/IPython/lib/latextools.py:126: MatplotlibDeprecationWarning: \n",
      "The to_png function was deprecated in Matplotlib 3.4 and will be removed two minor releases later. Use mathtext.math_to_image instead.\n",
      "  mt.to_png(f, s, fontsize=12, dpi=dpi, color=color)\n",
      "/opt/hostedtoolcache/Python/3.8.12/x64/lib/python3.8/site-packages/IPython/lib/latextools.py:126: MatplotlibDeprecationWarning: \n",
      "The to_rgba function was deprecated in Matplotlib 3.4 and will be removed two minor releases later. Use mathtext.math_to_image instead.\n",
      "  mt.to_png(f, s, fontsize=12, dpi=dpi, color=color)\n",
      "/opt/hostedtoolcache/Python/3.8.12/x64/lib/python3.8/site-packages/IPython/lib/latextools.py:126: MatplotlibDeprecationWarning: \n",
      "The to_mask function was deprecated in Matplotlib 3.4 and will be removed two minor releases later. Use mathtext.math_to_image instead.\n",
      "  mt.to_png(f, s, fontsize=12, dpi=dpi, color=color)\n",
      "/opt/hostedtoolcache/Python/3.8.12/x64/lib/python3.8/site-packages/IPython/lib/latextools.py:126: MatplotlibDeprecationWarning: \n",
      "The MathtextBackendBitmap class was deprecated in Matplotlib 3.4 and will be removed two minor releases later. Use mathtext.math_to_image instead.\n",
      "  mt.to_png(f, s, fontsize=12, dpi=dpi, color=color)\n"
     ]
    },
    {
     "data": {
      "image/png": "[encoded data removed]",
      "text/latex": [
       "$\\displaystyle e^{- a t}$"
      ],
      "text/plain": [
       " -a⋅t\n",
       "ℯ    "
      ]
     },
     "execution_count": 4,
     "metadata": {
      "filenames": {
       "image/png": "/home/runner/work/CCyVE_book/CCyVE_book/_build/jupyter_execute/sources/notebooks_sources/modulo1/laplace/transformada_laplace_python_opcional_12_1.png"
      }
     },
     "output_type": "execute_result"
    }
   ],
   "source": [
    "f = sp.exp(-a*t)\n",
    "f"
   ]
  },
  {
   "cell_type": "markdown",
   "id": "3f25e12e",
   "metadata": {
    "lang": "es"
   },
   "source": [
    "Podemos evaluar la integral directamente usando `integrate`:"
   ]
  },
  {
   "cell_type": "code",
   "execution_count": 5,
   "id": "daa9fd5f",
   "metadata": {},
   "outputs": [
    {
     "data": {
      "text/latex": [
       "$\\displaystyle \\begin{cases} \\frac{1}{s \\left(\\frac{a}{s} + 1\\right)} & \\text{for}\\: \\left|{\\arg{\\left(s \\right)}}\\right| \\leq \\frac{\\pi}{2} \\\\\\int\\limits_{0}^{\\infty} e^{- a t} e^{- s t}\\, dt & \\text{otherwise} \\end{cases}$"
      ],
      "text/plain": [
       "⎧       1                         π\n",
       "⎪   ─────────      for │arg(s)│ ≤ ─\n",
       "⎪     ⎛a    ⎞                     2\n",
       "⎪   s⋅⎜─ + 1⎟                      \n",
       "⎪     ⎝s    ⎠                      \n",
       "⎪                                  \n",
       "⎨∞                                 \n",
       "⎪⌠                                 \n",
       "⎪⎮  -a⋅t  -s⋅t                     \n",
       "⎪⎮ ℯ    ⋅ℯ     dt     otherwise    \n",
       "⎪⌡                                 \n",
       "⎪0                                 \n",
       "⎩                                  "
      ]
     },
     "execution_count": 5,
     "metadata": {},
     "output_type": "execute_result"
    }
   ],
   "source": [
    "sp.integrate(f*sp.exp(-s*t), (t, 0, sp.oo))"
   ]
  },
  {
   "cell_type": "markdown",
   "id": "e211c822",
   "metadata": {
    "lang": "es"
   },
   "source": [
    "Esto funciona, pero es un poco incómodo tener todas las condiciones de la transformada allí.\n",
    "\n",
    "`SymPy` proporciona una función llamada `laplace_transform` que hace esto de manera más eficiente. Por defecto, también devolverá las condiciones de convergencia (recordar que esto es una integral impropia, con un límite infinito, por lo que no siempre convergerá)."
   ]
  },
  {
   "cell_type": "code",
   "execution_count": 6,
   "id": "5b90cfa0",
   "metadata": {},
   "outputs": [
    {
     "data": {
      "text/latex": [
       "$\\displaystyle \\left( \\frac{1}{a + s}, \\  0, \\  \\text{True}\\right)$"
      ],
      "text/plain": [
       "⎛  1           ⎞\n",
       "⎜─────, 0, True⎟\n",
       "⎝a + s         ⎠"
      ]
     },
     "execution_count": 6,
     "metadata": {},
     "output_type": "execute_result"
    }
   ],
   "source": [
    "sp.laplace_transform(f, t, s)"
   ]
  },
  {
   "cell_type": "markdown",
   "id": "21943d84",
   "metadata": {
    "lang": "es"
   },
   "source": [
    "Si queremos solo la función, podemos especificar `noconds = True`."
   ]
  },
  {
   "cell_type": "code",
   "execution_count": 7,
   "id": "0b74f269",
   "metadata": {},
   "outputs": [
    {
     "data": {
      "image/png": "[encoded data removed]",
      "text/latex": [
       "$\\displaystyle \\frac{1}{a + s}$"
      ],
      "text/plain": [
       "  1  \n",
       "─────\n",
       "a + s"
      ]
     },
     "execution_count": 7,
     "metadata": {
      "filenames": {
       "image/png": "/home/runner/work/CCyVE_book/CCyVE_book/_build/jupyter_execute/sources/notebooks_sources/modulo1/laplace/transformada_laplace_python_opcional_18_0.png"
      }
     },
     "output_type": "execute_result"
    }
   ],
   "source": [
    "F = sp.laplace_transform(f, t, s, noconds=True)\n",
    "F"
   ]
  },
  {
   "cell_type": "markdown",
   "id": "85c4f620",
   "metadata": {
    "lang": "es"
   },
   "source": [
    "Nos resultará útil definir una versión más rápida de esto:"
   ]
  },
  {
   "cell_type": "code",
   "execution_count": 8,
   "id": "da90cf4f",
   "metadata": {},
   "outputs": [],
   "source": [
    "def L(f):\n",
    "    return sp.laplace_transform(f, t, s, noconds=True)"
   ]
  },
  {
   "cell_type": "markdown",
   "id": "2b24a0bb",
   "metadata": {
    "lang": "es"
   },
   "source": [
    "Las inversas son simples también,"
   ]
  },
  {
   "cell_type": "code",
   "execution_count": 9,
   "id": "73d408cd",
   "metadata": {},
   "outputs": [],
   "source": [
    "def invL(F):\n",
    "    return sp.inverse_laplace_transform(F, s, t)"
   ]
  },
  {
   "cell_type": "code",
   "execution_count": 10,
   "id": "cae68da2",
   "metadata": {},
   "outputs": [
    {
     "data": {
      "image/png": "[encoded data removed]",
      "text/latex": [
       "$\\displaystyle e^{- a t} \\theta\\left(t\\right)$"
      ],
      "text/plain": [
       " -a⋅t     \n",
       "ℯ    ⋅θ(t)"
      ]
     },
     "execution_count": 10,
     "metadata": {
      "filenames": {
       "image/png": "/home/runner/work/CCyVE_book/CCyVE_book/_build/jupyter_execute/sources/notebooks_sources/modulo1/laplace/transformada_laplace_python_opcional_23_0.png"
      }
     },
     "output_type": "execute_result"
    }
   ],
   "source": [
    "invL(F)"
   ]
  },
  {
   "cell_type": "markdown",
   "id": "80d58df4",
   "metadata": {
    "lang": "es"
   },
   "source": [
    "La función de escalón unitario también se conoce también como Heaviside. Veremos esta función a menudo en transformaciones inversas de Laplace. Es nombrada como $\\theta(t)$ por sympy."
   ]
  },
  {
   "cell_type": "code",
   "execution_count": 11,
   "id": "eed30741",
   "metadata": {},
   "outputs": [
    {
     "data": {
      "image/png": "[encoded data removed]",
      "text/latex": [
       "$\\displaystyle \\theta\\left(t\\right)$"
      ],
      "text/plain": [
       "θ(t)"
      ]
     },
     "execution_count": 11,
     "metadata": {
      "filenames": {
       "image/png": "/home/runner/work/CCyVE_book/CCyVE_book/_build/jupyter_execute/sources/notebooks_sources/modulo1/laplace/transformada_laplace_python_opcional_25_0.png"
      }
     },
     "output_type": "execute_result"
    }
   ],
   "source": [
    "sp.Heaviside(t)"
   ]
  },
  {
   "cell_type": "code",
   "execution_count": 12,
   "id": "5bd76ef0",
   "metadata": {},
   "outputs": [
    {
     "data": {
      "image/png": "[encoded data removed]",
      "text/plain": [
       "<Figure size 432x288 with 1 Axes>"
      ]
     },
     "metadata": {
      "filenames": {
       "image/png": "/home/runner/work/CCyVE_book/CCyVE_book/_build/jupyter_execute/sources/notebooks_sources/modulo1/laplace/transformada_laplace_python_opcional_26_0.png"
      },
      "needs_background": "light"
     },
     "output_type": "display_data"
    }
   ],
   "source": [
    "sp.plot(sp.Heaviside(t));"
   ]
  },
  {
   "cell_type": "markdown",
   "id": "f8071cc0",
   "metadata": {
    "lang": "es"
   },
   "source": [
    "Mire la diferencia entre $f$ y la transformada inversa de lugar que obtuvimos, que contiene el paso unitario para forzarlo a cero antes de $t=0$."
   ]
  },
  {
   "cell_type": "code",
   "execution_count": 13,
   "id": "bb780881",
   "metadata": {},
   "outputs": [
    {
     "data": {
      "image/png": "[encoded data removed]",
      "text/latex": [
       "$\\displaystyle e^{- 2 t} \\theta\\left(t\\right)$"
      ],
      "text/plain": [
       " -2⋅t     \n",
       "ℯ    ⋅θ(t)"
      ]
     },
     "execution_count": 13,
     "metadata": {
      "filenames": {
       "image/png": "/home/runner/work/CCyVE_book/CCyVE_book/_build/jupyter_execute/sources/notebooks_sources/modulo1/laplace/transformada_laplace_python_opcional_28_0.png"
      }
     },
     "output_type": "execute_result"
    }
   ],
   "source": [
    "invL(F).subs({a: 2})"
   ]
  },
  {
   "cell_type": "code",
   "execution_count": 14,
   "id": "2dae6233",
   "metadata": {},
   "outputs": [
    {
     "data": {
      "image/png": "[encoded data removed]",
      "text/plain": [
       "<Figure size 432x288 with 1 Axes>"
      ]
     },
     "metadata": {
      "filenames": {
       "image/png": "/home/runner/work/CCyVE_book/CCyVE_book/_build/jupyter_execute/sources/notebooks_sources/modulo1/laplace/transformada_laplace_python_opcional_29_0.png"
      },
      "needs_background": "light"
     },
     "output_type": "display_data"
    }
   ],
   "source": [
    "p = sp.plot(f.subs({a: 2}), invL(F).subs({a: 2}), \n",
    "               xlim=(-1, 4), ylim=(0, 3), show=False)\n",
    "p[1].line_color = 'red'\n",
    "p[1].line_color\n",
    "p.show()"
   ]
  },
  {
   "cell_type": "markdown",
   "id": "93fe1f26",
   "metadata": {
    "lang": "es"
   },
   "source": [
    "A ver si podemos igualar las funciones en la tabla."
   ]
  },
  {
   "cell_type": "code",
   "execution_count": 15,
   "id": "0c89bd0f",
   "metadata": {},
   "outputs": [
    {
     "data": {
      "image/png": "[encoded data removed]",
      "text/latex": [
       "$\\displaystyle \\left[ 1, \\  t, \\  e^{- a t}, \\  t e^{- a t}, \\  t^{2} e^{- a t}, \\  \\sin{\\left(\\omega t \\right)}, \\  \\cos{\\left(\\omega t \\right)}, \\  1 - e^{- a t}, \\  e^{- a t} \\sin{\\left(\\omega t \\right)}, \\  e^{- a t} \\cos{\\left(\\omega t \\right)}, \\  t^{n} e^{- a t}\\right]$"
      ],
      "text/plain": [
       "⎡       -a⋅t     -a⋅t   2  -a⋅t                           -a⋅t   -a⋅t         \n",
       "⎣1, t, ℯ    , t⋅ℯ    , t ⋅ℯ    , sin(ω⋅t), cos(ω⋅t), 1 - ℯ    , ℯ    ⋅sin(ω⋅t)\n",
       "\n",
       "   -a⋅t            n  -a⋅t⎤\n",
       ", ℯ    ⋅cos(ω⋅t), t ⋅ℯ    ⎦"
      ]
     },
     "execution_count": 15,
     "metadata": {
      "filenames": {
       "image/png": "/home/runner/work/CCyVE_book/CCyVE_book/_build/jupyter_execute/sources/notebooks_sources/modulo1/laplace/transformada_laplace_python_opcional_31_0.png"
      }
     },
     "output_type": "execute_result"
    }
   ],
   "source": [
    "omega = sp.Symbol('omega', real=True)\n",
    "n = sp.Symbol('n', integer=True)\n",
    "exp = sp.exp\n",
    "sin = sp.sin\n",
    "cos = sp.cos\n",
    "functions = [1,\n",
    "         t,\n",
    "         exp(-a*t),\n",
    "         t*exp(-a*t),\n",
    "         t**2*exp(-a*t),\n",
    "         sin(omega*t),\n",
    "         cos(omega*t),\n",
    "         1 - exp(-a*t),\n",
    "         exp(-a*t)*sin(omega*t),\n",
    "         exp(-a*t)*cos(omega*t),\n",
    "         (t**n)*(exp(-a*t))\n",
    "         ]\n",
    "functions"
   ]
  },
  {
   "cell_type": "code",
   "execution_count": 16,
   "id": "65b49043",
   "metadata": {},
   "outputs": [
    {
     "data": {
      "image/png": "[encoded data removed]",
      "text/latex": [
       "$\\displaystyle \\left[ \\frac{1}{s}, \\  \\frac{1}{s^{2}}, \\  \\frac{1}{a + s}, \\  \\frac{1}{\\left(a + s\\right)^{2}}, \\  \\frac{2}{\\left(a + s\\right)^{3}}, \\  \\frac{\\omega}{\\omega^{2} + s^{2}}, \\  \\frac{s}{\\omega^{2} + s^{2}}, \\  \\frac{a}{s \\left(a + s\\right)}, \\  \\frac{\\omega}{\\omega^{2} + \\left(a + s\\right)^{2}}, \\  \\frac{a + s}{\\omega^{2} + \\left(a + s\\right)^{2}}, \\  \\left(a + s\\right)^{- n - 1} n!\\right]$"
      ],
      "text/plain": [
       "⎡1  1     1       1         2         ω        s         a            ω       \n",
       "⎢─, ──, ─────, ────────, ────────, ───────, ───────, ─────────, ─────────────,\n",
       "⎢s   2  a + s         2         3   2    2   2    2  s⋅(a + s)   2          2 \n",
       "⎣   s          (a + s)   (a + s)   ω  + s   ω  + s              ω  + (a + s)  \n",
       "\n",
       "     a + s             -n - 1   ⎤\n",
       " ─────────────, (a + s)      ⋅n!⎥\n",
       "  2          2                  ⎥\n",
       " ω  + (a + s)                   ⎦"
      ]
     },
     "execution_count": 16,
     "metadata": {
      "filenames": {
       "image/png": "/home/runner/work/CCyVE_book/CCyVE_book/_build/jupyter_execute/sources/notebooks_sources/modulo1/laplace/transformada_laplace_python_opcional_32_0.png"
      }
     },
     "output_type": "execute_result"
    }
   ],
   "source": [
    "Fs = [L(f) for f in functions]\n",
    "Fs"
   ]
  },
  {
   "cell_type": "markdown",
   "id": "496909f6",
   "metadata": {},
   "source": [
    "Podemos ver que la última no la escribo exactamente de la misma manera, pero que es lo misma función transformada de Laplace que figura en la table."
   ]
  },
  {
   "cell_type": "markdown",
   "id": "5cc84439",
   "metadata": {
    "lang": "es"
   },
   "source": [
    "## Inversas más complicadas\n",
    "\n",
    "¿Por qué la tabla no presenta funciones más complicadas? Debido a que las funciones racionales de orden superior se pueden escribir como sumas de funciones más simples mediante la aplicación de la expansión de fracciones parciales."
   ]
  },
  {
   "cell_type": "code",
   "execution_count": 17,
   "id": "041c2705",
   "metadata": {},
   "outputs": [
    {
     "data": {
      "image/png": "[encoded data removed]",
      "text/latex": [
       "$\\displaystyle \\frac{\\left(s + 1\\right) \\left(s + 2\\right) \\left(s + 3\\right)}{\\left(s + 4\\right) \\left(s + 5\\right) \\left(s + 6\\right)}$"
      ],
      "text/plain": [
       "(s + 1)⋅(s + 2)⋅(s + 3)\n",
       "───────────────────────\n",
       "(s + 4)⋅(s + 5)⋅(s + 6)"
      ]
     },
     "execution_count": 17,
     "metadata": {
      "filenames": {
       "image/png": "/home/runner/work/CCyVE_book/CCyVE_book/_build/jupyter_execute/sources/notebooks_sources/modulo1/laplace/transformada_laplace_python_opcional_35_0.png"
      }
     },
     "output_type": "execute_result"
    }
   ],
   "source": [
    "F = ((s + 1)*(s + 2)* (s + 3))/((s + 4)*(s + 5)*(s + 6))\n",
    "F"
   ]
  },
  {
   "cell_type": "markdown",
   "id": "63d3874e",
   "metadata": {},
   "source": [
    "Podemos hacer fracciones simples:"
   ]
  },
  {
   "cell_type": "code",
   "execution_count": 18,
   "id": "2f5efafd",
   "metadata": {},
   "outputs": [
    {
     "data": {
      "image/png": "[encoded data removed]",
      "text/latex": [
       "$\\displaystyle 1 - \\frac{30}{s + 6} + \\frac{24}{s + 5} - \\frac{3}{s + 4}$"
      ],
      "text/plain": [
       "      30      24      3  \n",
       "1 - ───── + ───── - ─────\n",
       "    s + 6   s + 5   s + 4"
      ]
     },
     "execution_count": 18,
     "metadata": {
      "filenames": {
       "image/png": "/home/runner/work/CCyVE_book/CCyVE_book/_build/jupyter_execute/sources/notebooks_sources/modulo1/laplace/transformada_laplace_python_opcional_37_0.png"
      }
     },
     "output_type": "execute_result"
    }
   ],
   "source": [
    "F.apart(s)"
   ]
  },
  {
   "cell_type": "markdown",
   "id": "0b48c9f2",
   "metadata": {
    "lang": "es"
   },
   "source": [
    "Incluso sympy puede beneficiarse con un poco de ayuda a veces. Cuando intentamos calcular el inverso de $F$ obtenemos una respuesta un tanto desagradable:"
   ]
  },
  {
   "cell_type": "code",
   "execution_count": 19,
   "id": "844d85ac",
   "metadata": {},
   "outputs": [
    {
     "data": {
      "image/png": "[encoded data removed]",
      "text/latex": [
       "$\\displaystyle \\delta\\left(t\\right) - 3 e^{- 4 t} \\theta\\left(t\\right) + 24 e^{- 5 t} \\theta\\left(t\\right) - 30 e^{- 6 t} \\theta\\left(t\\right)$"
      ],
      "text/plain": [
       "          -4⋅t            -5⋅t            -6⋅t     \n",
       "δ(t) - 3⋅ℯ    ⋅θ(t) + 24⋅ℯ    ⋅θ(t) - 30⋅ℯ    ⋅θ(t)"
      ]
     },
     "execution_count": 19,
     "metadata": {
      "filenames": {
       "image/png": "/home/runner/work/CCyVE_book/CCyVE_book/_build/jupyter_execute/sources/notebooks_sources/modulo1/laplace/transformada_laplace_python_opcional_39_0.png"
      }
     },
     "output_type": "execute_result"
    }
   ],
   "source": [
    "invL(F)"
   ]
  },
  {
   "cell_type": "markdown",
   "id": "2e3ca4fa",
   "metadata": {
    "lang": "es"
   },
   "source": [
    "¿Tal vez se vea mejor si simplificamos?"
   ]
  },
  {
   "cell_type": "code",
   "execution_count": 20,
   "id": "df1735c1",
   "metadata": {},
   "outputs": [
    {
     "data": {
      "image/png": "[encoded data removed]",
      "text/latex": [
       "$\\displaystyle \\delta\\left(t\\right) - 3 e^{- 4 t} \\theta\\left(t\\right) + 24 e^{- 5 t} \\theta\\left(t\\right) - 30 e^{- 6 t} \\theta\\left(t\\right)$"
      ],
      "text/plain": [
       "          -4⋅t            -5⋅t            -6⋅t     \n",
       "δ(t) - 3⋅ℯ    ⋅θ(t) + 24⋅ℯ    ⋅θ(t) - 30⋅ℯ    ⋅θ(t)"
      ]
     },
     "execution_count": 20,
     "metadata": {
      "filenames": {
       "image/png": "/home/runner/work/CCyVE_book/CCyVE_book/_build/jupyter_execute/sources/notebooks_sources/modulo1/laplace/transformada_laplace_python_opcional_41_0.png"
      }
     },
     "output_type": "execute_result"
    }
   ],
   "source": [
    "invL(F).simplify()"
   ]
  },
  {
   "cell_type": "markdown",
   "id": "5abfa385",
   "metadata": {
    "lang": "es"
   },
   "source": [
    "No, todavía presenta una transformada laplace \"desconocida\". Pero, si hacemos primero la expansión de fracciones parciales, obtenemos una respuesta limpia:"
   ]
  },
  {
   "cell_type": "code",
   "execution_count": 21,
   "id": "2b5d8f93",
   "metadata": {},
   "outputs": [
    {
     "data": {
      "image/png": "[encoded data removed]",
      "text/latex": [
       "$\\displaystyle \\delta\\left(t\\right) - 3 e^{- 4 t} \\theta\\left(t\\right) + 24 e^{- 5 t} \\theta\\left(t\\right) - 30 e^{- 6 t} \\theta\\left(t\\right)$"
      ],
      "text/plain": [
       "          -4⋅t            -5⋅t            -6⋅t     \n",
       "δ(t) - 3⋅ℯ    ⋅θ(t) + 24⋅ℯ    ⋅θ(t) - 30⋅ℯ    ⋅θ(t)"
      ]
     },
     "execution_count": 21,
     "metadata": {
      "filenames": {
       "image/png": "/home/runner/work/CCyVE_book/CCyVE_book/_build/jupyter_execute/sources/notebooks_sources/modulo1/laplace/transformada_laplace_python_opcional_43_0.png"
      }
     },
     "output_type": "execute_result"
    }
   ],
   "source": [
    "invL(F.apart(s))"
   ]
  }
 ],
 "metadata": {
  "jupytext": {
   "formats": "ipynb,md:myst",
   "text_representation": {
    "extension": ".md",
    "format_name": "myst",
    "format_version": 0.13,
    "jupytext_version": "1.10.3"
   }
  },
  "kernelspec": {
   "display_name": "Python 3",
   "language": "python",
   "name": "python3"
  },
  "language_info": {
   "codemirror_mode": {
    "name": "ipython",
    "version": 3
   },
   "file_extension": ".py",
   "mimetype": "text/x-python",
   "name": "python",
   "nbconvert_exporter": "python",
   "pygments_lexer": "ipython3",
   "version": "3.8.12"
  },
  "source_map": [
   13,
   17,
   29,
   37,
   47,
   56,
   67,
   73,
   78,
   83,
   87,
   93,
   97,
   102,
   106,
   110,
   116,
   120,
   124,
   129,
   133,
   138,
   142,
   147,
   151,
   155,
   159,
   163,
   167,
   171,
   179,
   183,
   204,
   207,
   211,
   217,
   220,
   224,
   228,
   232,
   236,
   240,
   244,
   248
  ]
 },
 "nbformat": 4,
 "nbformat_minor": 5
}